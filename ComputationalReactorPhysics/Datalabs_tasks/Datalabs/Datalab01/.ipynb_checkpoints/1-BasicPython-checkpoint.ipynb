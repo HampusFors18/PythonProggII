{
 "cells": [
  {
   "cell_type": "markdown",
   "metadata": {
    "id": "kCJxMwZbvPpF"
   },
   "source": [
    "Python for beginners\n",
    "=================\n",
    "\n",
    "Please indicate your name below, since you will need to submit this notebook completed latest the day after the datalab.\n",
    "\n",
    "Don't forget to save your progress during the datalab to avoid any loss due to crashes."
   ]
  },
  {
   "cell_type": "code",
   "execution_count": 16,
   "metadata": {
    "id": "Zbe9ZHBxvPpQ"
   },
   "outputs": [],
   "source": [
    "name='Hampus Naumanen'"
   ]
  },
  {
   "cell_type": "markdown",
   "metadata": {
    "id": "exhQoR7xvPpR"
   },
   "source": [
    "# Introduction\n",
    "\n",
    "Python is general-purpose, high-level interpreted programming language. One of the main goals when designing the language was to make it easy to read and to write. Indeed, often writing a python code feels like writing pseudo-code (ie. using plain language to describe an algorithm). Since it is interpreted, the instructions are directly executed by the python interpreter, and users do not need to bother with compiling the code. Besides, python is freely usable and distributable. These make the code ideal for any introductory programming course.\n",
    "\n",
    "Python has two main versions, which coexisted in the recent years and have some differences: Python2 and Python3. In my opinion any novice user should only learn Python3 (you are welcome to search for debate articles), thus in this course we use Python3 interpreters and syntax.\n",
    "\n",
    "Learning a programming language at depth takes lot of time, espescially if it is your first programming language. It takes a lot of practice and dedication. This introduction is just a guidance to help you achieve your goal.\n",
    "\n",
    "This datalab reviews\n",
    "- how to run your python code\n",
    "- how to create variables\n",
    "- the different data types\n",
    "- loops and conditions\n",
    "- definition of functions\n",
    "- how to read files\n",
    "\n",
    "At the end of the tutorial you will know the basic python syntax to manage the implementation of simple algorithms and mathematics on your own. Before running each of the code blocks, think what would you expect as an output, and compare the result with your expectation. If you get curious about some functionality, try to come up with small experiments to see how Python works.\n",
    "\n",
    "We will try to cover most of the things what is needed for this course, however no one is expected to know every built-in functions and perks of python, so you will often search the web for answers. There are so many good tutorials ([like this one](https://www.w3schools.com/python/default.asp)) and forum entries, that I do not even try to list them. It is also an important skill for you to find them yourself. \n",
    "\n",
    "Of course the language in itself is just a tool, we as users also need to follow the Zen of Python if we would like to write great code (you can execute the cell below with the \"Run\" button, or with Shift+Enter)"
   ]
  },
  {
   "cell_type": "code",
   "execution_count": 12,
   "metadata": {
    "id": "cauRFeWnvPpR"
   },
   "outputs": [
    {
     "name": "stdout",
     "output_type": "stream",
     "text": [
      "The Zen of Python, by Tim Peters\n",
      "\n",
      "Beautiful is better than ugly.\n",
      "Explicit is better than implicit.\n",
      "Simple is better than complex.\n",
      "Complex is better than complicated.\n",
      "Flat is better than nested.\n",
      "Sparse is better than dense.\n",
      "Readability counts.\n",
      "Special cases aren't special enough to break the rules.\n",
      "Although practicality beats purity.\n",
      "Errors should never pass silently.\n",
      "Unless explicitly silenced.\n",
      "In the face of ambiguity, refuse the temptation to guess.\n",
      "There should be one-- and preferably only one --obvious way to do it.\n",
      "Although that way may not be obvious at first unless you're Dutch.\n",
      "Now is better than never.\n",
      "Although never is often better than *right* now.\n",
      "If the implementation is hard to explain, it's a bad idea.\n",
      "If the implementation is easy to explain, it may be a good idea.\n",
      "Namespaces are one honking great idea -- let's do more of those!\n"
     ]
    }
   ],
   "source": [
    "import this"
   ]
  },
  {
   "cell_type": "markdown",
   "metadata": {
    "id": "SY37bOApvPpR"
   },
   "source": [
    "There are several tools, or packages which build on python. These package can be either installed through the package installer called *pip*. An other convenient way is to install the [Anaconda](https://www.anaconda.com/products/individual) which readily installs several of the most important packages. During this course we will rely on some of them:\n",
    "\n",
    "- numpy: allows handling multi-dimensional arrays, numeric computing and linear algebra\n",
    "- scipy: provides tools for numerical analysis (integration, function fitting, numerical ODE solution) and more\n",
    "- matplotlib: allows the creation of figures and plots.\n",
    "\n",
    "With the usage of these three packages the functionality of Python will be comparable to Matlab. Indeed users experienced with Matlab will find even some of the syntax familiar. Other useful packages that will be used in this course are\n",
    "\n",
    "- Jupyter: allows the user to write interactive notebooks\n",
    "- Pandas: provides tools to manipulate data at a higher level through the application of the DataFrame object.\n",
    "\n",
    "Besides these packages there are several other packages written by the community. It often happens that the solution to your problem is already solved by someone, and you can just use an existing package."
   ]
  },
  {
   "cell_type": "markdown",
   "metadata": {
    "id": "wWzpuP4-vPpS"
   },
   "source": [
    "## How to run a python code\n",
    "\n",
    "In this course we will be using Jupyter notebooks to run code, however it is useful if you know how to run python code without Jupyter as well.\n",
    "\n",
    "Since Python is an interpreted language it can be executed line by line, which allows to use it in an interactive way. To execute it you can use the python interpreter or a jupyter notebook interactivaly, or you can place your script in a file, and execute that. During this course however we will mostly rely on jupyter notebooks. \n",
    "\n",
    "### Python interpreter\n",
    "\n",
    "After installing python on your computer you can type `python`in your terminal (Linux/Mac) or command prompt (Windows) to initiate the Python interpreter. You will see a command prompt starting with >>>. Then you can type commands.\n",
    "\n",
    "```\n",
    "    >>> 299792458*299792458\n",
    "    89875517873681764\n",
    "    >>> a=1.38\n",
    "    >>> a*2\n",
    "    2.76\n",
    "```\n",
    "\n",
    "This is convenient to use the language as a calculator or to test smaller code snippets. You can exit the interpreter by typing `exit()` or `quit()`.\n",
    "\n",
    "### Jupyter notebook\n",
    "\n",
    "A Jupyter notebook (such as this one) is an interactive terminal what you can open in a browser window, and allows you to mix documents (written in Markdown language and/or latex) with executable code and plots. It is very convenient if one wants to demonstrate something or provide some data analysis.\n",
    "\n",
    "You can type `jupyter notebook` in your terminal to launch a notebook environment, and then write the code and the document. Also [Google's Colab](https://colab.research.google.com/) provides a way to create jupyter notebooks in the cloud. When using Colab, one does not need to install anything, since it offers the most often used packages readily.\n",
    "\n",
    "\n",
    "### Script from file\n",
    "\n",
    "If one needs to write a longer script or program, it is often more convinient to save it into a file, and execute it. Let's consider you have written a script in *file.py*\n",
    "\n",
    "```python\n",
    "   myNumber=4\n",
    "   print('My square is: ',myNumber*myNumber)\n",
    "```\n",
    "Then one can execute this script with:\n",
    "\n",
    "```\n",
    "   $ python file.py \n",
    "   My square is:  16\n",
    "```\n",
    "\n",
    "For even longer projects, which might be separated into several files it is often useful to create *module*s or *package*s, which we will touch upon briefly, however within this course will not need to worry about the creation of such."
   ]
  },
  {
   "cell_type": "markdown",
   "metadata": {
    "id": "xZOt9C5KvPpS"
   },
   "source": [
    "## How to use Jupyter notebooks\n",
    "\n",
    "The usage of Jupyter notebooks is rather straightforward, since the layout of the application resembles of a word editor. The content of the notebook is organized into Cells. There is a dropdown window from which you can select whether the Cell you are currently working on should contain Python *code* or documentation written in *Markdown*.\n",
    "\n",
    "Upon double clicking a Cell containing text you will see the source of that text. In this way you can explore the Markdown syntax. Besides that you can always rely on one of the [cheatsheets](https://github.com/adam-p/markdown-here/wiki/Markdown-Cheatsheet).\n",
    "\n",
    "If you wanted to write latex (eg. to render equations), you can just include the command in within Markdown. Such as \n",
    "\n",
    "```latex\n",
    "   \\begin{equation}\n",
    "   E=mc^2\n",
    "   \\end{equation}\n",
    "```\n",
    "\n",
    "renders as\n",
    "\n",
    "\\begin{equation}\n",
    "E=mc^2\n",
    "\\end{equation}\n",
    "\n",
    "You can Insert new Cells with the *+* button or from the *Insert* menu. Similarly you can delete, copy and paste cells with the corresponding button or by opening the *Edit* menu. You can *Run* (ie. execute) a single cell, or all of them at once with the *Cell* menu. \n",
    "\n",
    "Sometimes you might encounter bugs or you overload the memory due to which your notebook environment does not respond anymore, in this case you can restart the kernel under the *Kernel* menu.\n",
    "\n",
    "Finally, if you would like to check the type of an object or variable, or you would like to reach the documentation of a method or function, you can type `?name of method/variable`."
   ]
  },
  {
   "cell_type": "code",
   "execution_count": 13,
   "metadata": {
    "id": "y5nFiF03vPpS"
   },
   "outputs": [],
   "source": [
    "a=3"
   ]
  },
  {
   "cell_type": "code",
   "execution_count": 14,
   "metadata": {
    "id": "GqPznsSfvPpS"
   },
   "outputs": [
    {
     "data": {
      "text/plain": [
       "\u001b[1;31mType:\u001b[0m        int\n",
       "\u001b[1;31mString form:\u001b[0m 3\n",
       "\u001b[1;31mDocstring:\u001b[0m  \n",
       "int([x]) -> integer\n",
       "int(x, base=10) -> integer\n",
       "\n",
       "Convert a number or string to an integer, or return 0 if no arguments\n",
       "are given.  If x is a number, return x.__int__().  For floating point\n",
       "numbers, this truncates towards zero.\n",
       "\n",
       "If x is not a number or if base is given, then x must be a string,\n",
       "bytes, or bytearray instance representing an integer literal in the\n",
       "given base.  The literal can be preceded by '+' or '-' and be surrounded\n",
       "by whitespace.  The base defaults to 10.  Valid bases are 0 and 2-36.\n",
       "Base 0 means to interpret the base from the string as an integer literal.\n",
       ">>> int('0b100', base=0)\n",
       "4\n"
      ]
     },
     "metadata": {},
     "output_type": "display_data"
    }
   ],
   "source": [
    "?a"
   ]
  },
  {
   "cell_type": "code",
   "execution_count": 15,
   "metadata": {
    "id": "xBHvgaAUvPpT"
   },
   "outputs": [
    {
     "data": {
      "text/plain": [
       "\u001b[1;31mDocstring:\u001b[0m\n",
       "print(value, ..., sep=' ', end='\\n', file=sys.stdout, flush=False)\n",
       "\n",
       "Prints the values to a stream, or to sys.stdout by default.\n",
       "Optional keyword arguments:\n",
       "file:  a file-like object (stream); defaults to the current sys.stdout.\n",
       "sep:   string inserted between values, default a space.\n",
       "end:   string appended after the last value, default a newline.\n",
       "flush: whether to forcibly flush the stream.\n",
       "\u001b[1;31mType:\u001b[0m      builtin_function_or_method\n"
      ]
     },
     "metadata": {},
     "output_type": "display_data"
    }
   ],
   "source": [
    "?print"
   ]
  },
  {
   "cell_type": "markdown",
   "metadata": {
    "id": "aWkRbXESvPpT"
   },
   "source": [
    "# Introduction to python\n",
    "\n",
    "From now we will focus on the syntax of the language. We will review how to declare variabes, how to to handle loops and conditions and how to write program functions.\n",
    "\n",
    "## Variables and arithmetics\n",
    "\n",
    "Let's calculate the number density of a nuclide with a know physical density\n",
    "\n",
    "$$N=\\frac{N_A\\rho}{A}$$\n",
    "\n",
    "where $N_A$ is Avogadro's number, $\\rho$ is the physical density and $A$ is the mass number of a given nuclide."
   ]
  },
  {
   "cell_type": "code",
   "execution_count": 17,
   "metadata": {
    "colab": {
     "base_uri": "https://localhost:8080/"
    },
    "executionInfo": {
     "elapsed": 387,
     "status": "ok",
     "timestamp": 1623224824376,
     "user": {
      "displayName": "Vikram R",
      "photoUrl": "https://lh3.googleusercontent.com/a-/AOh14GgT94zx4NT9VFHu1dc8-d-9FribzUUHXTpbeUD1tg=s64",
      "userId": "06378242726423628214"
     },
     "user_tz": -120
    },
    "id": "_OcTexLAvPpT",
    "outputId": "eae5f3f7-d91d-4568-9e3b-5d2cab2d56d4"
   },
   "outputs": [
    {
     "name": "stdout",
     "output_type": "stream",
     "text": [
      "My material is made of a nuclide with mass number 235 and has a density 19.1 g/cm3\n",
      "The number density is 4.89e+22\n"
     ]
    }
   ],
   "source": [
    "N_A=6.022e23   #atom/mol\n",
    "rho=19.1 #density of uranium. g/cm3\n",
    "A=235    #mass number of U-235\n",
    "\n",
    "N=N_A*rho/A #/cm3\n",
    "\n",
    "myString='My material is made of a nuclide with mass number %d and has a density %.1f g/cm3'%(A,rho)\n",
    "print(myString)\n",
    "print('The number density is %.2e'%N)"
   ]
  },
  {
   "cell_type": "markdown",
   "metadata": {
    "id": "3TKrDLQGvPpT"
   },
   "source": [
    "And now calculate the speed of a neutron having travelling with a kinetic energy of 2 MeV.\n",
    "\n",
    "$$v=\\sqrt{\\frac{2E}{m}}$$"
   ]
  },
  {
   "cell_type": "code",
   "execution_count": 18,
   "metadata": {
    "colab": {
     "base_uri": "https://localhost:8080/"
    },
    "executionInfo": {
     "elapsed": 267,
     "status": "ok",
     "timestamp": 1623224938739,
     "user": {
      "displayName": "Vikram R",
      "photoUrl": "https://lh3.googleusercontent.com/a-/AOh14GgT94zx4NT9VFHu1dc8-d-9FribzUUHXTpbeUD1tg=s64",
      "userId": "06378242726423628214"
     },
     "user_tz": -120
    },
    "id": "53xBrYhEvPpU",
    "outputId": "a2447d0c-0485-485a-c777-c69e22d14423"
   },
   "outputs": [
    {
     "name": "stdout",
     "output_type": "stream",
     "text": [
      "The speed of the neutron is\n",
      "19560825.74834215\n",
      "m/s\n"
     ]
    }
   ],
   "source": [
    "import math\n",
    "\n",
    "E=2 #MeV\n",
    "EJ=E*1.60217662E-13 #J\n",
    "\n",
    "mn = 1.67492749804E-27 #neutron mass in kg\n",
    "\n",
    "v = math.sqrt(2*EJ/mn)\n",
    "\n",
    "print('The speed of the neutron is')\n",
    "print(v)\n",
    "print('m/s')\n"
   ]
  },
  {
   "cell_type": "markdown",
   "metadata": {
    "id": "OySgTBVTvPpU"
   },
   "source": [
    "Or alternatively you could include escape characters (like newline `\\n`, or tab `\\t`) in the string:"
   ]
  },
  {
   "cell_type": "code",
   "execution_count": 19,
   "metadata": {
    "colab": {
     "base_uri": "https://localhost:8080/"
    },
    "executionInfo": {
     "elapsed": 392,
     "status": "ok",
     "timestamp": 1623224964690,
     "user": {
      "displayName": "Vikram R",
      "photoUrl": "https://lh3.googleusercontent.com/a-/AOh14GgT94zx4NT9VFHu1dc8-d-9FribzUUHXTpbeUD1tg=s64",
      "userId": "06378242726423628214"
     },
     "user_tz": -120
    },
    "id": "LCg6J3MMvPpU",
    "outputId": "1d13bc3a-1647-4621-ac71-54a0730bdc4f"
   },
   "outputs": [
    {
     "name": "stdout",
     "output_type": "stream",
     "text": [
      "The speed of the neutron is \n",
      " \t 19560825.74834215 \n",
      " m/s\n"
     ]
    }
   ],
   "source": [
    "print('The speed of the neutron is \\n \\t {} \\n m/s'.format(v))"
   ]
  },
  {
   "cell_type": "markdown",
   "metadata": {
    "id": "l_aQD8p9vPpU"
   },
   "source": [
    "Although we just did some basic calculations (essentially using the interpreter as a calculator), but we can notice a lot of things.\n",
    "\n",
    "1. When declaring a variable we do not require need to give a type, Python will figure that out"
   ]
  },
  {
   "cell_type": "code",
   "execution_count": 20,
   "metadata": {
    "colab": {
     "base_uri": "https://localhost:8080/"
    },
    "executionInfo": {
     "elapsed": 438,
     "status": "ok",
     "timestamp": 1623225085599,
     "user": {
      "displayName": "Vikram R",
      "photoUrl": "https://lh3.googleusercontent.com/a-/AOh14GgT94zx4NT9VFHu1dc8-d-9FribzUUHXTpbeUD1tg=s64",
      "userId": "06378242726423628214"
     },
     "user_tz": -120
    },
    "id": "MHYFrXElvPpU",
    "outputId": "ccee9e6e-f034-4d38-a5f4-25541c3e2bbb"
   },
   "outputs": [
    {
     "name": "stdout",
     "output_type": "stream",
     "text": [
      "<class 'float'>\n",
      "<class 'float'>\n",
      "<class 'int'>\n",
      "<class 'str'>\n"
     ]
    }
   ],
   "source": [
    "print(type(N_A))\n",
    "print(type(rho))\n",
    "print(type(A))\n",
    "print(type(myString))"
   ]
  },
  {
   "cell_type": "markdown",
   "metadata": {
    "id": "bxkVnxb6vPpU"
   },
   "source": [
    "And it even figures out if an integer is multiplied with a floating point number, the result should be a floating point number."
   ]
  },
  {
   "cell_type": "code",
   "execution_count": 21,
   "metadata": {
    "colab": {
     "base_uri": "https://localhost:8080/"
    },
    "executionInfo": {
     "elapsed": 402,
     "status": "ok",
     "timestamp": 1623225095118,
     "user": {
      "displayName": "Vikram R",
      "photoUrl": "https://lh3.googleusercontent.com/a-/AOh14GgT94zx4NT9VFHu1dc8-d-9FribzUUHXTpbeUD1tg=s64",
      "userId": "06378242726423628214"
     },
     "user_tz": -120
    },
    "id": "9gQIWMwAvPpV",
    "outputId": "87957302-b3b3-4865-f941-d96d45c229ab"
   },
   "outputs": [
    {
     "name": "stdout",
     "output_type": "stream",
     "text": [
      "<class 'int'>\n",
      "<class 'float'>\n"
     ]
    }
   ],
   "source": [
    "print(type(E))\n",
    "print(type(EJ))"
   ]
  },
  {
   "cell_type": "markdown",
   "metadata": {
    "id": "NFx1rqpfvPpV"
   },
   "source": [
    "Nevertheless, it is usually a good practice to define a variable as float if it intended to be used as a float, and as an integer if it intended to be used as an integer. For example, we should have written `E=2.0`.\n",
    "\n",
    "2. The `print()` function allows us to inspect the content of variables. It can handle string and numbers. Without formatting the long format of the number is printed.\n",
    "3. If something is written between quotation marks `''` or double quotation marks `\"\"`, that is considered as a string variable, which can be formatted. Actually there are more ways to of [string formatting](https://realpython.com/python-string-formatting/), here at most places we used one widespread method, by using spaceholders for the variable's content to be included: `%.nx`, where *.n* gives the number of floating points to be printed, and *x* clarifies the type of the variable (*d* for integers or decimals, *f* for floating point numbers, *e* for scientific notation, and *s* for string). This is similar as some other languages work, however not necessarily the most pythonic solution. But you can see an example for using the more pythonic `.format()` method also.\n",
    "4. Mathematical operators look like as we would expect, +, -, \\*, / for addition, substraction, multiplication and division. There are three other operators %, \\*\\*, // for modulus, exponentiation and integer division (if we want to convert the result into integer). and we can have some shorthand operators, for example `x+=2` is the same as `x=x+2`. Here you can also notice that $x=x+2$ seems incorrect according to math, however in program languages it is common: the left hand side access the current value of the variable, then adds 2, and assigns the result to the variable. **Note**: the precedence of the operators is important (first exponentation, then division, multiplication, addition/substraction is performed, so one can use brackets `()` to change the precedence)\n"
   ]
  },
  {
   "cell_type": "code",
   "execution_count": 22,
   "metadata": {
    "colab": {
     "base_uri": "https://localhost:8080/"
    },
    "executionInfo": {
     "elapsed": 429,
     "status": "ok",
     "timestamp": 1623225461943,
     "user": {
      "displayName": "Vikram R",
      "photoUrl": "https://lh3.googleusercontent.com/a-/AOh14GgT94zx4NT9VFHu1dc8-d-9FribzUUHXTpbeUD1tg=s64",
      "userId": "06378242726423628214"
     },
     "user_tz": -120
    },
    "id": "wwajUDbhvPpV",
    "outputId": "a0766d3e-6663-43db-9b3e-277980337b30"
   },
   "outputs": [
    {
     "name": "stdout",
     "output_type": "stream",
     "text": [
      "0\n",
      "1\n",
      "89875517873681764\n",
      "0  vs  0.6666666666666666\n",
      "3  vs  3.3333333333333335\n",
      "449688687.0\n",
      "299792458.0\n"
     ]
    }
   ],
   "source": [
    "c=299792458\n",
    "print(c%2)\n",
    "print(c%3)\n",
    "print(c**2)\n",
    "print(2//3,' vs ',2/3)\n",
    "print(10//3,' vs ',10/3)\n",
    "print(c+c/2)    #1.5c\n",
    "print((c+c)/2)  #c"
   ]
  },
  {
   "cell_type": "markdown",
   "metadata": {
    "id": "XBMWYygkvPpV"
   },
   "source": [
    "5. The hashtag symbol `#` marks that a comment follows: information not executed by the code, but helps the person reading the code.\n",
    "6. With `import` we can load modules or packages. Importing has several alternatives, such as `from package import function`. Here we imported the math package, which contains basic mathetmatical functions (cosine, sine, square root, etc). We will not use it much later, because we will use numpy instead. We also see, that if we want to access a method or function of a package, we can use `.` as for `math.sqrt()`. If we just type `math.` and hit tab, jupyter will show the available functions:"
   ]
  },
  {
   "cell_type": "code",
   "execution_count": 26,
   "metadata": {
    "colab": {
     "base_uri": "https://localhost:8080/",
     "height": 129
    },
    "executionInfo": {
     "elapsed": 283,
     "status": "error",
     "timestamp": 1623226340320,
     "user": {
      "displayName": "Vikram R",
      "photoUrl": "https://lh3.googleusercontent.com/a-/AOh14GgT94zx4NT9VFHu1dc8-d-9FribzUUHXTpbeUD1tg=s64",
      "userId": "06378242726423628214"
     },
     "user_tz": -120
    },
    "id": "0uRaTY2xvPpV",
    "outputId": "ec7cb2c3-6c9c-4f01-d40e-fcc15eeaaf91"
   },
   "outputs": [],
   "source": [
    "import math"
   ]
  },
  {
   "cell_type": "code",
   "execution_count": 27,
   "metadata": {
    "id": "XSNFOpSKvPpV"
   },
   "outputs": [
    {
     "name": "stdout",
     "output_type": "stream",
     "text": [
      "19560825.74834215\n"
     ]
    }
   ],
   "source": [
    "#though be careful with imports like this, since several packages might have functions with the same name\n",
    "from math import sqrt\n",
    "print(sqrt(2*EJ/mn))"
   ]
  },
  {
   "cell_type": "markdown",
   "metadata": {
    "id": "JxYB8-vTvPpW"
   },
   "source": [
    "Also, in python since the type of a variable doesn't need to be defined, actually one can change the type dynamically. Although, as said before, it is a good practice to keep the same type in a code."
   ]
  },
  {
   "cell_type": "code",
   "execution_count": 28,
   "metadata": {
    "id": "ND688q8hvPpW"
   },
   "outputs": [],
   "source": [
    "x=42\n",
    "x='fortytwo'"
   ]
  },
  {
   "cell_type": "markdown",
   "metadata": {
    "id": "SgWrqxYMvPpW"
   },
   "source": [
    "We can also modify the type with built in functions. This is often useful, for example when reading values as strings from a while, we will need to convert them to float if we want to make operations with them."
   ]
  },
  {
   "cell_type": "code",
   "execution_count": 29,
   "metadata": {
    "colab": {
     "base_uri": "https://localhost:8080/"
    },
    "executionInfo": {
     "elapsed": 298,
     "status": "ok",
     "timestamp": 1623226393543,
     "user": {
      "displayName": "Vikram R",
      "photoUrl": "https://lh3.googleusercontent.com/a-/AOh14GgT94zx4NT9VFHu1dc8-d-9FribzUUHXTpbeUD1tg=s64",
      "userId": "06378242726423628214"
     },
     "user_tz": -120
    },
    "id": "kTPM9iBXvPpW",
    "outputId": "4fe612c3-10ea-4b24-a888-3df9f83a9130"
   },
   "outputs": [
    {
     "name": "stdout",
     "output_type": "stream",
     "text": [
      "<class 'str'> 42\n",
      "<class 'int'> 42\n",
      "<class 'float'> 42.0\n"
     ]
    }
   ],
   "source": [
    "x='42'\n",
    "print(type(x),x)\n",
    "x=int(x)\n",
    "print(type(x),x)\n",
    "x=float(x)\n",
    "print(type(x),x)\n"
   ]
  },
  {
   "cell_type": "markdown",
   "metadata": {
    "id": "m90rvnrJvPpW"
   },
   "source": [
    "By the way, what happens if we do operations with strings:"
   ]
  },
  {
   "cell_type": "code",
   "execution_count": 30,
   "metadata": {
    "colab": {
     "base_uri": "https://localhost:8080/",
     "height": 35
    },
    "executionInfo": {
     "elapsed": 278,
     "status": "ok",
     "timestamp": 1623226410702,
     "user": {
      "displayName": "Vikram R",
      "photoUrl": "https://lh3.googleusercontent.com/a-/AOh14GgT94zx4NT9VFHu1dc8-d-9FribzUUHXTpbeUD1tg=s64",
      "userId": "06378242726423628214"
     },
     "user_tz": -120
    },
    "id": "wXyzimkVvPpW",
    "outputId": "702f5b7f-af8e-4da8-b717-6b48181c0e08"
   },
   "outputs": [
    {
     "data": {
      "text/plain": [
       "'424242'"
      ]
     },
     "execution_count": 30,
     "metadata": {},
     "output_type": "execute_result"
    }
   ],
   "source": [
    "a='42'\n",
    "a*3"
   ]
  },
  {
   "cell_type": "code",
   "execution_count": 32,
   "metadata": {
    "colab": {
     "base_uri": "https://localhost:8080/",
     "height": 163
    },
    "executionInfo": {
     "elapsed": 278,
     "status": "error",
     "timestamp": 1623226450673,
     "user": {
      "displayName": "Vikram R",
      "photoUrl": "https://lh3.googleusercontent.com/a-/AOh14GgT94zx4NT9VFHu1dc8-d-9FribzUUHXTpbeUD1tg=s64",
      "userId": "06378242726423628214"
     },
     "user_tz": -120
    },
    "id": "5-EWo_-kvPpW",
    "outputId": "1b9c8a41-9a8f-4da5-bc60-500baa443835"
   },
   "outputs": [
    {
     "ename": "TypeError",
     "evalue": "unsupported operand type(s) for /: 'str' and 'int'",
     "output_type": "error",
     "traceback": [
      "\u001b[1;31m---------------------------------------------------------------------------\u001b[0m",
      "\u001b[1;31mTypeError\u001b[0m                                 Traceback (most recent call last)",
      "\u001b[1;32m<ipython-input-32-b8becf0b970a>\u001b[0m in \u001b[0;36m<module>\u001b[1;34m\u001b[0m\n\u001b[1;32m----> 1\u001b[1;33m \u001b[0ma\u001b[0m\u001b[1;33m/\u001b[0m\u001b[1;36m3\u001b[0m\u001b[1;33m\u001b[0m\u001b[1;33m\u001b[0m\u001b[0m\n\u001b[0m",
      "\u001b[1;31mTypeError\u001b[0m: unsupported operand type(s) for /: 'str' and 'int'"
     ]
    }
   ],
   "source": [
    "a/3"
   ]
  },
  {
   "cell_type": "markdown",
   "metadata": {
    "id": "_jDEeAIVvPpX"
   },
   "source": [
    "There is finally one last simple variable type: bool, which can take `True` or `False` value. As in other languages we can define comparison operators, which will return bool values.\n",
    "\n",
    "- `x==y`, `x!=y`\n",
    "- `x>=y`, `x>y`\n",
    "- `x<=y`, `x<y`"
   ]
  },
  {
   "cell_type": "code",
   "execution_count": 33,
   "metadata": {
    "colab": {
     "base_uri": "https://localhost:8080/"
    },
    "executionInfo": {
     "elapsed": 273,
     "status": "ok",
     "timestamp": 1623226486209,
     "user": {
      "displayName": "Vikram R",
      "photoUrl": "https://lh3.googleusercontent.com/a-/AOh14GgT94zx4NT9VFHu1dc8-d-9FribzUUHXTpbeUD1tg=s64",
      "userId": "06378242726423628214"
     },
     "user_tz": -120
    },
    "id": "RdtCvFzjvPpX",
    "outputId": "3572ae8f-fcb1-429c-f1fb-38d715a174de"
   },
   "outputs": [
    {
     "data": {
      "text/plain": [
       "False"
      ]
     },
     "execution_count": 33,
     "metadata": {},
     "output_type": "execute_result"
    }
   ],
   "source": [
    "v > c"
   ]
  },
  {
   "cell_type": "markdown",
   "metadata": {
    "id": "n0ofwUfCvPpX"
   },
   "source": [
    "with booleans we can define logic operators `and`, `or`."
   ]
  },
  {
   "cell_type": "code",
   "execution_count": 34,
   "metadata": {
    "colab": {
     "base_uri": "https://localhost:8080/"
    },
    "executionInfo": {
     "elapsed": 256,
     "status": "ok",
     "timestamp": 1623226519641,
     "user": {
      "displayName": "Vikram R",
      "photoUrl": "https://lh3.googleusercontent.com/a-/AOh14GgT94zx4NT9VFHu1dc8-d-9FribzUUHXTpbeUD1tg=s64",
      "userId": "06378242726423628214"
     },
     "user_tz": -120
    },
    "id": "WYEGbqopvPpX",
    "outputId": "0f05318d-3100-4fff-90c5-3095421d5043"
   },
   "outputs": [
    {
     "data": {
      "text/plain": [
       "True"
      ]
     },
     "execution_count": 34,
     "metadata": {},
     "output_type": "execute_result"
    }
   ],
   "source": [
    "v < c and 2*v < c #True if both true"
   ]
  },
  {
   "cell_type": "markdown",
   "metadata": {
    "id": "fGVx3qPMvPpY"
   },
   "source": [
    "## Built-in data structures\n",
    "\n",
    "Python has several compund data structers which can contain other data. these are list (ordered collection), tuple (Immutable ordered collection), dictionary (unordered (key,value) mapping), set (unordered collection of unique values). Immutable means that it cannot be changed after being created. However here, we will only focus on lists and dictionaries.\n",
    "\n",
    "### Lists\n",
    "\n",
    "Lists in other languages are called arrays or vectors. In python they can store any data type, even a mix of data types. We can reach any element through its index (indexing starts at 0). A negative index means that we are going backwards (ie. `-1` refers to the last element of the list)."
   ]
  },
  {
   "cell_type": "code",
   "execution_count": 35,
   "metadata": {
    "colab": {
     "base_uri": "https://localhost:8080/"
    },
    "executionInfo": {
     "elapsed": 266,
     "status": "ok",
     "timestamp": 1623227023638,
     "user": {
      "displayName": "Vikram R",
      "photoUrl": "https://lh3.googleusercontent.com/a-/AOh14GgT94zx4NT9VFHu1dc8-d-9FribzUUHXTpbeUD1tg=s64",
      "userId": "06378242726423628214"
     },
     "user_tz": -120
    },
    "id": "o20MzTz7vPpY",
    "outputId": "2c65deb7-28e3-49ee-c91a-8c793fa717a4"
   },
   "outputs": [
    {
     "name": "stdout",
     "output_type": "stream",
     "text": [
      "4\n",
      "1\n",
      "4\n",
      "3\n",
      "[2, 3]\n",
      "[1, 2, 3, 4, 5]\n",
      "[0, 0, 0, 0, 0]\n",
      "[1, 2, 3, 4, 5, 0, 0, 0, 0, 0]\n"
     ]
    }
   ],
   "source": [
    "emptyList=[] #we can create an empty list\n",
    "X=[1,2,3,4]\n",
    "print(len(X)) #len() returns the number of elements\n",
    "\n",
    "print(X[0])\n",
    "\n",
    "print(X[-1]) #the last element, similarly -2, -3 etc would work\n",
    "print(X[-2]) #the element before the last\n",
    "\n",
    "print(X[1:3]) #from element with index 1 till element with index 3 (exlusive)\n",
    "\n",
    "X.append(5) #append value to the end\n",
    "print(X)\n",
    "\n",
    "print([0]*5) #what happens now?\n",
    "\n",
    "print(X+[0]*5) #and now?"
   ]
  },
  {
   "cell_type": "markdown",
   "metadata": {
    "id": "eCxzDmqfvPpY"
   },
   "source": [
    "Lists can contain any type, even other lists. So we can use them to create multidimensional arrays. But as we will see it later, we prefer numpy for that."
   ]
  },
  {
   "cell_type": "code",
   "execution_count": 36,
   "metadata": {
    "colab": {
     "base_uri": "https://localhost:8080/"
    },
    "executionInfo": {
     "elapsed": 262,
     "status": "ok",
     "timestamp": 1623227211419,
     "user": {
      "displayName": "Vikram R",
      "photoUrl": "https://lh3.googleusercontent.com/a-/AOh14GgT94zx4NT9VFHu1dc8-d-9FribzUUHXTpbeUD1tg=s64",
      "userId": "06378242726423628214"
     },
     "user_tz": -120
    },
    "id": "Jphc3V3lvPpa",
    "outputId": "80584be6-c277-4280-c164-b3d8743f0800"
   },
   "outputs": [
    {
     "data": {
      "text/plain": [
       "4"
      ]
     },
     "execution_count": 36,
     "metadata": {},
     "output_type": "execute_result"
    }
   ],
   "source": [
    "A=[0,'one',2.0,[3,4,5]]\n",
    "A[3][1] #from element with index 3 take the element with index 1. ofc if we know that it is a list which has an element"
   ]
  },
  {
   "cell_type": "code",
   "execution_count": 37,
   "metadata": {
    "colab": {
     "base_uri": "https://localhost:8080/",
     "height": 163
    },
    "executionInfo": {
     "elapsed": 16,
     "status": "error",
     "timestamp": 1623227024040,
     "user": {
      "displayName": "Vikram R",
      "photoUrl": "https://lh3.googleusercontent.com/a-/AOh14GgT94zx4NT9VFHu1dc8-d-9FribzUUHXTpbeUD1tg=s64",
      "userId": "06378242726423628214"
     },
     "user_tz": -120
    },
    "id": "HSGpUKKHvPpa",
    "outputId": "529f2477-091b-4133-88d4-6b93bb01c62f"
   },
   "outputs": [
    {
     "ename": "TypeError",
     "evalue": "'float' object is not subscriptable",
     "output_type": "error",
     "traceback": [
      "\u001b[1;31m---------------------------------------------------------------------------\u001b[0m",
      "\u001b[1;31mTypeError\u001b[0m                                 Traceback (most recent call last)",
      "\u001b[1;32m<ipython-input-37-cb56b975818c>\u001b[0m in \u001b[0;36m<module>\u001b[1;34m\u001b[0m\n\u001b[1;32m----> 1\u001b[1;33m \u001b[0mA\u001b[0m\u001b[1;33m[\u001b[0m\u001b[1;36m2\u001b[0m\u001b[1;33m]\u001b[0m\u001b[1;33m[\u001b[0m\u001b[1;36m1\u001b[0m\u001b[1;33m]\u001b[0m \u001b[1;31m#does't work\u001b[0m\u001b[1;33m\u001b[0m\u001b[1;33m\u001b[0m\u001b[0m\n\u001b[0m",
      "\u001b[1;31mTypeError\u001b[0m: 'float' object is not subscriptable"
     ]
    }
   ],
   "source": [
    "A[2][1] #does't work"
   ]
  },
  {
   "cell_type": "code",
   "execution_count": 38,
   "metadata": {
    "executionInfo": {
     "elapsed": 10,
     "status": "aborted",
     "timestamp": 1623227024037,
     "user": {
      "displayName": "Vikram R",
      "photoUrl": "https://lh3.googleusercontent.com/a-/AOh14GgT94zx4NT9VFHu1dc8-d-9FribzUUHXTpbeUD1tg=s64",
      "userId": "06378242726423628214"
     },
     "user_tz": -120
    },
    "id": "45rAMwOyvPpb"
   },
   "outputs": [
    {
     "ename": "IndexError",
     "evalue": "list index out of range",
     "output_type": "error",
     "traceback": [
      "\u001b[1;31m---------------------------------------------------------------------------\u001b[0m",
      "\u001b[1;31mIndexError\u001b[0m                                Traceback (most recent call last)",
      "\u001b[1;32m<ipython-input-38-23aa98ce6aa5>\u001b[0m in \u001b[0;36m<module>\u001b[1;34m\u001b[0m\n\u001b[1;32m----> 1\u001b[1;33m \u001b[0mA\u001b[0m\u001b[1;33m[\u001b[0m\u001b[1;36m3\u001b[0m\u001b[1;33m]\u001b[0m\u001b[1;33m[\u001b[0m\u001b[1;36m5\u001b[0m\u001b[1;33m]\u001b[0m \u001b[1;31m#does't work\u001b[0m\u001b[1;33m\u001b[0m\u001b[1;33m\u001b[0m\u001b[0m\n\u001b[0m",
      "\u001b[1;31mIndexError\u001b[0m: list index out of range"
     ]
    }
   ],
   "source": [
    "A[3][5] #does't work"
   ]
  },
  {
   "cell_type": "markdown",
   "metadata": {
    "id": "_zwzF4k2vPpb"
   },
   "source": [
    "Strings also behave like lists: they are lists of characters!"
   ]
  },
  {
   "cell_type": "code",
   "execution_count": 39,
   "metadata": {
    "colab": {
     "base_uri": "https://localhost:8080/"
    },
    "executionInfo": {
     "elapsed": 328,
     "status": "ok",
     "timestamp": 1623227242976,
     "user": {
      "displayName": "Vikram R",
      "photoUrl": "https://lh3.googleusercontent.com/a-/AOh14GgT94zx4NT9VFHu1dc8-d-9FribzUUHXTpbeUD1tg=s64",
      "userId": "06378242726423628214"
     },
     "user_tz": -120
    },
    "id": "S4VJXSZlvPpb",
    "outputId": "1ea364f2-2776-4b7a-9ffc-6a0348f392f4",
    "tags": []
   },
   "outputs": [
    {
     "name": "stdout",
     "output_type": "stream",
     "text": [
      "t\n",
      "file\n",
      "And t\n",
      " this we will use\n"
     ]
    }
   ],
   "source": [
    "myStr = 'And this we will use often when reading data from a file'\n",
    "\n",
    "print(myStr[4])\n",
    "print(myStr[-4:])\n",
    "print(myStr[:5])\n",
    "print(myStr[3:20])"
   ]
  },
  {
   "cell_type": "markdown",
   "metadata": {
    "id": "ovH-0sV5vPpb"
   },
   "source": [
    "### Dictionaries\n",
    "\n",
    "Dictionaries are mappings of keys to values, which provide a lot of flexibility. We will use them a lot in this course. You can define it as comma-separated key: value pairs within curly brackets. Similarly to lists, dictionaries can be also nested (ie. a value stores an other dictionary)."
   ]
  },
  {
   "cell_type": "code",
   "execution_count": 40,
   "metadata": {
    "colab": {
     "base_uri": "https://localhost:8080/"
    },
    "executionInfo": {
     "elapsed": 273,
     "status": "ok",
     "timestamp": 1623227826366,
     "user": {
      "displayName": "Vikram R",
      "photoUrl": "https://lh3.googleusercontent.com/a-/AOh14GgT94zx4NT9VFHu1dc8-d-9FribzUUHXTpbeUD1tg=s64",
      "userId": "06378242726423628214"
     },
     "user_tz": -120
    },
    "id": "XQ-25n7QvPpb",
    "outputId": "11002be5-9509-4bb3-e602-7a20ac1b6dd0"
   },
   "outputs": [
    {
     "name": "stdout",
     "output_type": "stream",
     "text": [
      "94\n",
      "dict_keys(['H', 'He', 'U', 'Pu'])\n",
      "dict_values([1, 2, 92, 94])\n"
     ]
    },
    {
     "data": {
      "text/plain": [
       "{'H': 1, 'He': 2, 'U': 92, 'Pu': 94, 'C': 6}"
      ]
     },
     "execution_count": 40,
     "metadata": {},
     "output_type": "execute_result"
    }
   ],
   "source": [
    "myDict={} #we can initialize an empty dict and later add keys: values\n",
    "Z={'H': 1, 'He': 2,'U': 92, 'Pu': 94} #or we can immedietly initialize it with key: values.\n",
    "print(Z['Pu'])\n",
    "print(Z.keys())\n",
    "print(Z.values())\n",
    "Z['C']=6 #creates a new item\n",
    "Z"
   ]
  },
  {
   "cell_type": "markdown",
   "metadata": {
    "id": "wN4Pjqi3vPpb"
   },
   "source": [
    "### Identity and membership operations\n",
    "\n",
    "Python has operators whether an element is a member of a list or dictionary, and also to compare such compound objects:\n",
    "\n",
    "`is`, `is not`, `in`, `not in`. These operations will return booleans. "
   ]
  },
  {
   "cell_type": "code",
   "execution_count": 41,
   "metadata": {
    "colab": {
     "base_uri": "https://localhost:8080/"
    },
    "executionInfo": {
     "elapsed": 263,
     "status": "ok",
     "timestamp": 1623227858684,
     "user": {
      "displayName": "Vikram R",
      "photoUrl": "https://lh3.googleusercontent.com/a-/AOh14GgT94zx4NT9VFHu1dc8-d-9FribzUUHXTpbeUD1tg=s64",
      "userId": "06378242726423628214"
     },
     "user_tz": -120
    },
    "id": "MUTCOHR1vPpb",
    "outputId": "fa68486e-33b9-4a7f-da03-a9a08126d46e"
   },
   "outputs": [
    {
     "name": "stdout",
     "output_type": "stream",
     "text": [
      "True\n",
      "True\n",
      "False\n",
      "True\n"
     ]
    }
   ],
   "source": [
    "print('one' in A)\n",
    "print('two' not in A)\n",
    "print(2 in Z) # it looks for the keys!\n",
    "print('He' in Z)"
   ]
  },
  {
   "cell_type": "markdown",
   "metadata": {
    "id": "KYS5QkOCvPpc"
   },
   "source": [
    "## Conditionals\n",
    "\n",
    "As in other languages, you can define conditons, point in the code where an action follows a decision.\n",
    "\n",
    "**Note that indentation is a MUST in Python** here, it is not only a question of aesthetics, but this is how you tell the interpreter when a block ends. Luckily most good python editors and jupyter also will automatically indent after a `:`"
   ]
  },
  {
   "cell_type": "code",
   "execution_count": 42,
   "metadata": {
    "colab": {
     "base_uri": "https://localhost:8080/"
    },
    "executionInfo": {
     "elapsed": 403,
     "status": "ok",
     "timestamp": 1623227913127,
     "user": {
      "displayName": "Vikram R",
      "photoUrl": "https://lh3.googleusercontent.com/a-/AOh14GgT94zx4NT9VFHu1dc8-d-9FribzUUHXTpbeUD1tg=s64",
      "userId": "06378242726423628214"
     },
     "user_tz": -120
    },
    "id": "siJH0r9vvPpc",
    "outputId": "e9f19026-e89d-4277-fb9f-9390ed6796d8",
    "tags": []
   },
   "outputs": [
    {
     "name": "stdout",
     "output_type": "stream",
     "text": [
      "Intermediate neutron\n"
     ]
    }
   ],
   "source": [
    "E=1.0 #MeV\n",
    "\n",
    "if E<=0.025e-6:\n",
    "    print('Thermal neutron')\n",
    "elif E>0.025e-6 and E<=0.4e-6:\n",
    "    print('Epihermal neutron')\n",
    "elif E>0.4e-6 and E<=0.5e-6:\n",
    "    print('Cadmium neutron')\n",
    "elif E>0.5e-6 and E<=1.0e-6:\n",
    "    print('EpiCadmium neutron')\n",
    "elif E>1.0e-6 and E<=10.0e-6:\n",
    "    print('Slow neutron')\n",
    "elif E>10.0e-6 and E<=300e-6:\n",
    "    print('Resonance neutron')\n",
    "elif E>300.0e-6 and E<=1.0:\n",
    "    print('Intermediate neutron')\n",
    "else:\n",
    "    print('Fast neutron')"
   ]
  },
  {
   "cell_type": "markdown",
   "metadata": {
    "id": "hSV9jqxxvPpc"
   },
   "source": [
    "## Loops\n",
    "\n",
    "Loops allow to repeatedly execute code. In python we can write `for` (to iterate through an array of numbers) and `while` loops (to execute the statement while some condition is met)."
   ]
  },
  {
   "cell_type": "code",
   "execution_count": 43,
   "metadata": {
    "colab": {
     "base_uri": "https://localhost:8080/"
    },
    "executionInfo": {
     "elapsed": 292,
     "status": "ok",
     "timestamp": 1623227945855,
     "user": {
      "displayName": "Vikram R",
      "photoUrl": "https://lh3.googleusercontent.com/a-/AOh14GgT94zx4NT9VFHu1dc8-d-9FribzUUHXTpbeUD1tg=s64",
      "userId": "06378242726423628214"
     },
     "user_tz": -120
    },
    "id": "lmTwmUCmvPpc",
    "outputId": "d1c04032-32b4-4d9b-c082-4746659149f2"
   },
   "outputs": [
    {
     "name": "stdout",
     "output_type": "stream",
     "text": [
      "1 1.0\n",
      "4 2.0\n",
      "9 3.0\n",
      "16 4.0\n"
     ]
    }
   ],
   "source": [
    "for i in [1,4,9,16]:\n",
    "    print(i,math.sqrt(i))"
   ]
  },
  {
   "cell_type": "code",
   "execution_count": 44,
   "metadata": {
    "colab": {
     "base_uri": "https://localhost:8080/"
    },
    "executionInfo": {
     "elapsed": 270,
     "status": "ok",
     "timestamp": 1623227949508,
     "user": {
      "displayName": "Vikram R",
      "photoUrl": "https://lh3.googleusercontent.com/a-/AOh14GgT94zx4NT9VFHu1dc8-d-9FribzUUHXTpbeUD1tg=s64",
      "userId": "06378242726423628214"
     },
     "user_tz": -120
    },
    "id": "_29tVAqBvPpc",
    "outputId": "65c1c66c-dc77-4900-c021-071ad9816a23"
   },
   "outputs": [
    {
     "name": "stdout",
     "output_type": "stream",
     "text": [
      "0\n",
      "1\n",
      "2\n",
      "3\n",
      "4\n"
     ]
    }
   ],
   "source": [
    "for j in range(5):\n",
    "    print(j)"
   ]
  },
  {
   "cell_type": "code",
   "execution_count": 45,
   "metadata": {
    "colab": {
     "base_uri": "https://localhost:8080/"
    },
    "executionInfo": {
     "elapsed": 6,
     "status": "ok",
     "timestamp": 1623227959821,
     "user": {
      "displayName": "Vikram R",
      "photoUrl": "https://lh3.googleusercontent.com/a-/AOh14GgT94zx4NT9VFHu1dc8-d-9FribzUUHXTpbeUD1tg=s64",
      "userId": "06378242726423628214"
     },
     "user_tz": -120
    },
    "id": "P8EJ780SvPpc",
    "outputId": "fa912efb-c3ac-4cf1-92f0-239dcc4061b8"
   },
   "outputs": [
    {
     "name": "stdout",
     "output_type": "stream",
     "text": [
      "0 1\n",
      "1 4\n",
      "2 9\n",
      "3 16\n"
     ]
    }
   ],
   "source": [
    "#or ofter you will want to iterate through the indices of a list\n",
    "a=[1,4,9,16]\n",
    "for j in range(len(a)):\n",
    "    print(j,a[j])"
   ]
  },
  {
   "cell_type": "markdown",
   "metadata": {
    "id": "7oHUXN1rvPpc"
   },
   "source": [
    "Note, that here `range` is a built in function to produce a sequence of integers from start (inclusive)\n",
    "to stop (exclusive) by step. There are some other handy built in methods like `zip` allows you to iterate through several lists and `enumerate` can be used to iterate through both the elements of a list and the index of the elements."
   ]
  },
  {
   "cell_type": "code",
   "execution_count": 46,
   "metadata": {
    "colab": {
     "base_uri": "https://localhost:8080/"
    },
    "executionInfo": {
     "elapsed": 273,
     "status": "ok",
     "timestamp": 1623227988908,
     "user": {
      "displayName": "Vikram R",
      "photoUrl": "https://lh3.googleusercontent.com/a-/AOh14GgT94zx4NT9VFHu1dc8-d-9FribzUUHXTpbeUD1tg=s64",
      "userId": "06378242726423628214"
     },
     "user_tz": -120
    },
    "id": "4LzRkB82vPpd",
    "outputId": "b5e8573f-f8f7-4d9c-b660-7844e36b91c0"
   },
   "outputs": [
    {
     "name": "stdout",
     "output_type": "stream",
     "text": [
      "1 1\n",
      "4 8\n",
      "9 27\n",
      "16 256\n"
     ]
    }
   ],
   "source": [
    "for i,j in zip([1,4,9,16],[1,8,27,256]):\n",
    "    print(i,j)"
   ]
  },
  {
   "cell_type": "code",
   "execution_count": 47,
   "metadata": {
    "colab": {
     "base_uri": "https://localhost:8080/"
    },
    "executionInfo": {
     "elapsed": 272,
     "status": "ok",
     "timestamp": 1623227995127,
     "user": {
      "displayName": "Vikram R",
      "photoUrl": "https://lh3.googleusercontent.com/a-/AOh14GgT94zx4NT9VFHu1dc8-d-9FribzUUHXTpbeUD1tg=s64",
      "userId": "06378242726423628214"
     },
     "user_tz": -120
    },
    "id": "weRxRgQqvPpd",
    "outputId": "6a874e78-86a0-48f8-c06a-f66ee1714753"
   },
   "outputs": [
    {
     "name": "stdout",
     "output_type": "stream",
     "text": [
      "0 1\n",
      "1 4\n",
      "2 9\n",
      "3 16\n"
     ]
    }
   ],
   "source": [
    "for i,j in enumerate([1,4,9,16]):\n",
    "    print(i,j)"
   ]
  },
  {
   "cell_type": "code",
   "execution_count": 48,
   "metadata": {
    "colab": {
     "base_uri": "https://localhost:8080/"
    },
    "executionInfo": {
     "elapsed": 259,
     "status": "ok",
     "timestamp": 1623228011425,
     "user": {
      "displayName": "Vikram R",
      "photoUrl": "https://lh3.googleusercontent.com/a-/AOh14GgT94zx4NT9VFHu1dc8-d-9FribzUUHXTpbeUD1tg=s64",
      "userId": "06378242726423628214"
     },
     "user_tz": -120
    },
    "id": "5RhKrj1dvPpd",
    "outputId": "f0863f97-c937-4328-e829-a60809a32aa3"
   },
   "outputs": [
    {
     "name": "stdout",
     "output_type": "stream",
     "text": [
      "1 1\n",
      "2 4\n",
      "3 9\n",
      "4 16\n"
     ]
    }
   ],
   "source": [
    "i=1\n",
    "x=1\n",
    "while x<10:\n",
    "    x=i**2\n",
    "    print(i,x)\n",
    "    i+=1"
   ]
  },
  {
   "cell_type": "markdown",
   "metadata": {
    "id": "DblcfgrEvPpd"
   },
   "source": [
    "### List and Dictionary comprehension\n",
    "\n",
    "Pythonic programming allows you to write certain code in a much shorter way. With that it is possible to write very powerful one-liner code. However one needs to compromise between having concise code and readable code."
   ]
  },
  {
   "cell_type": "code",
   "execution_count": 49,
   "metadata": {
    "colab": {
     "base_uri": "https://localhost:8080/"
    },
    "executionInfo": {
     "elapsed": 238,
     "status": "ok",
     "timestamp": 1623228060039,
     "user": {
      "displayName": "Vikram R",
      "photoUrl": "https://lh3.googleusercontent.com/a-/AOh14GgT94zx4NT9VFHu1dc8-d-9FribzUUHXTpbeUD1tg=s64",
      "userId": "06378242726423628214"
     },
     "user_tz": -120
    },
    "id": "eIqdPWG_vPpd",
    "outputId": "282388fd-6e35-4cb7-b5a5-38660e98a6cf"
   },
   "outputs": [
    {
     "name": "stdout",
     "output_type": "stream",
     "text": [
      "[0, 1, 2, 3, 4, 5, 6, 7, 8, 9]\n",
      "[0, 1, 2, 3, 4, 5, 6, 7, 8, 9]\n"
     ]
    }
   ],
   "source": [
    "a=[] #creates an empty list\n",
    "\n",
    "for i in range(10):\n",
    "    a.append(i)\n",
    "    \n",
    "print(a)\n",
    "\n",
    "b=[i for i in range(10)]\n",
    "\n",
    "print(b)"
   ]
  },
  {
   "cell_type": "markdown",
   "metadata": {
    "id": "Wu7S6hBivPpe"
   },
   "source": [
    "## Functions and error handling\n",
    "\n",
    "Often a certain sequence of statements we need to execute repeatedly. In order to avoid copying code we can organize certain parts into functions (copying is both ugly and error-prone). This also allows our code to be reusable. Functions take parameters which need to be listed at the definition, and optionally they can `return` variables. These parameters have a local scope (they don't exist outside the function). If a variable used by the function is neither listed as an input parameter nor defined within the function, python will look for the variable in the global namespace. Sometimes such behaviour is intentional, but one needs to be careful, using the same variable names locally and globally can lead to bugs. (You can further read on *namespace* and *scope* [here](https://realpython.com/python-namespaces-scope/)).  It is however possible to write a function without any parameters or returns. For example:"
   ]
  },
  {
   "cell_type": "code",
   "execution_count": 50,
   "metadata": {
    "colab": {
     "base_uri": "https://localhost:8080/"
    },
    "executionInfo": {
     "elapsed": 258,
     "status": "ok",
     "timestamp": 1623228192003,
     "user": {
      "displayName": "Vikram R",
      "photoUrl": "https://lh3.googleusercontent.com/a-/AOh14GgT94zx4NT9VFHu1dc8-d-9FribzUUHXTpbeUD1tg=s64",
      "userId": "06378242726423628214"
     },
     "user_tz": -120
    },
    "id": "FffXtGo_vPpe",
    "outputId": "b2d7d9db-6d5e-46ee-bcdd-35eeb34ef159"
   },
   "outputs": [
    {
     "name": "stdout",
     "output_type": "stream",
     "text": [
      "Something is wrong\n"
     ]
    }
   ],
   "source": [
    "def myErrorMsg():\n",
    "    print('Something is wrong')\n",
    "    \n",
    "myErrorMsg()"
   ]
  },
  {
   "cell_type": "markdown",
   "metadata": {
    "id": "hpHlO9fnvPpe"
   },
   "source": [
    "One can also provide default values for parameters:"
   ]
  },
  {
   "cell_type": "code",
   "execution_count": 51,
   "metadata": {
    "colab": {
     "base_uri": "https://localhost:8080/"
    },
    "executionInfo": {
     "elapsed": 243,
     "status": "ok",
     "timestamp": 1623228293331,
     "user": {
      "displayName": "Vikram R",
      "photoUrl": "https://lh3.googleusercontent.com/a-/AOh14GgT94zx4NT9VFHu1dc8-d-9FribzUUHXTpbeUD1tg=s64",
      "userId": "06378242726423628214"
     },
     "user_tz": -120
    },
    "id": "sm6zBp-vvPpe",
    "outputId": "013a5a52-eaf9-4157-e77c-c4f94bc60a84"
   },
   "outputs": [
    {
     "name": "stdout",
     "output_type": "stream",
     "text": [
      "Something is wrong\n",
      "Not so wrong\n",
      "Not so wrong\n"
     ]
    }
   ],
   "source": [
    "def myErrorMsg2(msg='Something is wrong'):\n",
    "    print(msg)\n",
    "    \n",
    "myErrorMsg2()\n",
    "myErrorMsg2('Not so wrong')\n",
    "myErrorMsg2(msg='Not so wrong')#is the same, however in case of more parameters it might be necessary to tell which one you are refering to"
   ]
  },
  {
   "cell_type": "markdown",
   "metadata": {
    "id": "WajVK2PXvPpe"
   },
   "source": [
    "Let's consider our neutron speed calculation. This looks like something we might want to repeat for various numbers, and we also need to make sure that we are trying to perform the operations on numbers, otherwise we will need to raise an [exception](https://docs.python.org/3/library/exceptions.html) to the user. Of course error handling is optional, and for small functions like this is an overkill (and anyhow `math.sqrt()` would perform error handling). But for more complicated functions it is a good practice to handle possible errors."
   ]
  },
  {
   "cell_type": "code",
   "execution_count": 52,
   "metadata": {
    "colab": {
     "base_uri": "https://localhost:8080/"
    },
    "executionInfo": {
     "elapsed": 255,
     "status": "ok",
     "timestamp": 1623228611584,
     "user": {
      "displayName": "Vikram R",
      "photoUrl": "https://lh3.googleusercontent.com/a-/AOh14GgT94zx4NT9VFHu1dc8-d-9FribzUUHXTpbeUD1tg=s64",
      "userId": "06378242726423628214"
     },
     "user_tz": -120
    },
    "id": "g8Gcp2XivPpe",
    "outputId": "adfedc0c-4c85-4932-ad3f-c268bb91eeca",
    "tags": []
   },
   "outputs": [
    {
     "name": "stdout",
     "output_type": "stream",
     "text": [
      "19560825.74834215\n"
     ]
    }
   ],
   "source": [
    "def speed(E,m):\n",
    "    \"\"\" \n",
    "    Function to calculate speed from energy and mass\n",
    "    \n",
    "    Parameters\n",
    "    ----------\n",
    "    E : float\n",
    "        kinetic energy in J\n",
    "    m : float\n",
    "        mass in kg\n",
    "        \n",
    "    Returns\n",
    "    -------\n",
    "    v : float\n",
    "        speed in m/s\n",
    "        \n",
    "    Note\n",
    "    ----\n",
    "    One could do certain checks here to make sure that the parameters \n",
    "    indeed have the right type, nevertheless python will anyhow complain\n",
    "    \"\"\"\n",
    "    import math #we want to make sure that the math package is imported\n",
    "    if (isinstance(E,int) or isinstance(E,float)) and (isinstance(m,int) or isinstance(m,float)):\n",
    "        v = math.sqrt(2*E/m)\n",
    "    else:\n",
    "        raise TypeError('Energy and mass need to be float or int.')\n",
    "    \n",
    "    return v\n",
    "\n",
    "\n",
    "vneutron=speed(EJ,mn)\n",
    "print(vneutron)"
   ]
  },
  {
   "cell_type": "code",
   "execution_count": 53,
   "metadata": {
    "colab": {
     "base_uri": "https://localhost:8080/",
     "height": 282
    },
    "executionInfo": {
     "elapsed": 312,
     "status": "error",
     "timestamp": 1623228617599,
     "user": {
      "displayName": "Vikram R",
      "photoUrl": "https://lh3.googleusercontent.com/a-/AOh14GgT94zx4NT9VFHu1dc8-d-9FribzUUHXTpbeUD1tg=s64",
      "userId": "06378242726423628214"
     },
     "user_tz": -120
    },
    "id": "fk7-D3FzvPpf",
    "outputId": "c5894bf7-c053-4fca-b132-37cc2a71ea2e"
   },
   "outputs": [
    {
     "ename": "TypeError",
     "evalue": "Energy and mass need to be float or int.",
     "output_type": "error",
     "traceback": [
      "\u001b[1;31m---------------------------------------------------------------------------\u001b[0m",
      "\u001b[1;31mTypeError\u001b[0m                                 Traceback (most recent call last)",
      "\u001b[1;32m<ipython-input-53-27ee4364710a>\u001b[0m in \u001b[0;36m<module>\u001b[1;34m\u001b[0m\n\u001b[1;32m----> 1\u001b[1;33m \u001b[0mspeed\u001b[0m\u001b[1;33m(\u001b[0m\u001b[1;34m'32'\u001b[0m\u001b[1;33m,\u001b[0m\u001b[1;34m'2'\u001b[0m\u001b[1;33m)\u001b[0m\u001b[1;33m\u001b[0m\u001b[1;33m\u001b[0m\u001b[0m\n\u001b[0m",
      "\u001b[1;32m<ipython-input-52-d1b17d2ddfa1>\u001b[0m in \u001b[0;36mspeed\u001b[1;34m(E, m)\u001b[0m\n\u001b[0;32m     24\u001b[0m         \u001b[0mv\u001b[0m \u001b[1;33m=\u001b[0m \u001b[0mmath\u001b[0m\u001b[1;33m.\u001b[0m\u001b[0msqrt\u001b[0m\u001b[1;33m(\u001b[0m\u001b[1;36m2\u001b[0m\u001b[1;33m*\u001b[0m\u001b[0mE\u001b[0m\u001b[1;33m/\u001b[0m\u001b[0mm\u001b[0m\u001b[1;33m)\u001b[0m\u001b[1;33m\u001b[0m\u001b[1;33m\u001b[0m\u001b[0m\n\u001b[0;32m     25\u001b[0m     \u001b[1;32melse\u001b[0m\u001b[1;33m:\u001b[0m\u001b[1;33m\u001b[0m\u001b[1;33m\u001b[0m\u001b[0m\n\u001b[1;32m---> 26\u001b[1;33m         \u001b[1;32mraise\u001b[0m \u001b[0mTypeError\u001b[0m\u001b[1;33m(\u001b[0m\u001b[1;34m'Energy and mass need to be float or int.'\u001b[0m\u001b[1;33m)\u001b[0m\u001b[1;33m\u001b[0m\u001b[1;33m\u001b[0m\u001b[0m\n\u001b[0m\u001b[0;32m     27\u001b[0m \u001b[1;33m\u001b[0m\u001b[0m\n\u001b[0;32m     28\u001b[0m     \u001b[1;32mreturn\u001b[0m \u001b[0mv\u001b[0m\u001b[1;33m\u001b[0m\u001b[1;33m\u001b[0m\u001b[0m\n",
      "\u001b[1;31mTypeError\u001b[0m: Energy and mass need to be float or int."
     ]
    }
   ],
   "source": [
    "speed('32','2')"
   ]
  },
  {
   "cell_type": "markdown",
   "metadata": {
    "id": "JJT92gXbvPpf"
   },
   "source": [
    "Here you can see a different type of comment, encapsulated within triple quotation marks. This is called a *docstring*. This is not just simply a comment, but the information on the function, which is returned if `?speed` is typed. There are various styles which can be used (for example I have used the [numpy style](https://numpydoc.readthedocs.io/en/latest/format.html)"
   ]
  },
  {
   "cell_type": "code",
   "execution_count": 54,
   "metadata": {
    "executionInfo": {
     "elapsed": 265,
     "status": "ok",
     "timestamp": 1623229723671,
     "user": {
      "displayName": "Vikram R",
      "photoUrl": "https://lh3.googleusercontent.com/a-/AOh14GgT94zx4NT9VFHu1dc8-d-9FribzUUHXTpbeUD1tg=s64",
      "userId": "06378242726423628214"
     },
     "user_tz": -120
    },
    "id": "1sCWS3hMvPpf"
   },
   "outputs": [
    {
     "data": {
      "text/plain": [
       "\u001b[1;31mSignature:\u001b[0m \u001b[0mspeed\u001b[0m\u001b[1;33m(\u001b[0m\u001b[0mE\u001b[0m\u001b[1;33m,\u001b[0m \u001b[0mm\u001b[0m\u001b[1;33m)\u001b[0m\u001b[1;33m\u001b[0m\u001b[1;33m\u001b[0m\u001b[0m\n",
       "\u001b[1;31mDocstring:\u001b[0m\n",
       "Function to calculate speed from energy and mass\n",
       "\n",
       "Parameters\n",
       "----------\n",
       "E : float\n",
       "    kinetic energy in J\n",
       "m : float\n",
       "    mass in kg\n",
       "    \n",
       "Returns\n",
       "-------\n",
       "v : float\n",
       "    speed in m/s\n",
       "    \n",
       "Note\n",
       "----\n",
       "One could do certain checks here to make sure that the parameters \n",
       "indeed have the right type, nevertheless python will anyhow complain\n",
       "\u001b[1;31mFile:\u001b[0m      c:\\users\\hampu\\documents\\pythonproggii\\computationalreactorphysics\\datalabs_tasks\\datalabs\\datalab01\\<ipython-input-52-d1b17d2ddfa1>\n",
       "\u001b[1;31mType:\u001b[0m      function\n"
      ]
     },
     "metadata": {},
     "output_type": "display_data"
    }
   ],
   "source": [
    "?speed"
   ]
  },
  {
   "cell_type": "markdown",
   "metadata": {
    "id": "U3ecB9f-vPpf"
   },
   "source": [
    "## Reading and writing files\n",
    "\n",
    "As a physicist or engineer you will find yourself very often in a situation that you have to read data from other files, or that you have to write the results of your calculations into files. There are of course several good ways to write data (by structuring it according to some standard; we will learn about this in the next datalab), but it often happens that a file contains content for which you need to write a parser to extract the relevant information. This is espescially true for the outputfiles generated by some old, legacy scientific softwares.\n",
    "\n",
    "Therefore, it is very important to read/write files. For this we have to open the file with `open(filename,'r')`, where `'r'` marks that we are opening the file for reading (we could have `'w'` for writing, when creating a new file, or `'a'` for appending when writing to the end of an existing file). We can see that this function will create an object of the `_io.TextIOWrapper` class (we talk about classes a bit more in a following datalab). This class has several methods (or functions) to read the content. \n",
    "\n",
    "Let's consider we have an output file produced with some code, which calculated the radioactivity in a piece of iron after being irradiated with a neutron generator."
   ]
  },
  {
   "cell_type": "code",
   "execution_count": 55,
   "metadata": {
    "colab": {
     "base_uri": "https://localhost:8080/",
     "height": 231
    },
    "executionInfo": {
     "elapsed": 331,
     "status": "error",
     "timestamp": 1623229860615,
     "user": {
      "displayName": "Vikram R",
      "photoUrl": "https://lh3.googleusercontent.com/a-/AOh14GgT94zx4NT9VFHu1dc8-d-9FribzUUHXTpbeUD1tg=s64",
      "userId": "06378242726423628214"
     },
     "user_tz": -120
    },
    "id": "4J5vXbjovPpf",
    "outputId": "c96263c6-8623-4cb6-e209-600ac463480d"
   },
   "outputs": [
    {
     "name": "stdout",
     "output_type": "stream",
     "text": [
      "<class '_io.TextIOWrapper'>\n"
     ]
    },
    {
     "data": {
      "text/plain": [
       "'      DOMINANT NUCLIDES\\n      -----------------\\n\\n      NUCLIDE   ACTIVITY   \\n                  (Bq)     \\n       Total   2.9201E+05  \\n    1  Mn 56   2.8492E+05  \\n    2  Mn 57   6.0933E+03  \\n    3  Fe 55   2.7925E+02  \\n    4  Fe 59   2.6444E+02  \\n    5  Cr 55   1.3453E+02  \\n    6  Mn 54   1.0177E+02  \\n    7  Cr 51   8.1422E+01  \\n    8  Mn 58   7.8839E+01  \\n    9  Mn 58m  6.2464E+01  \\n   10  Fe 53   4.7068E-01  \\n'"
      ]
     },
     "execution_count": 55,
     "metadata": {},
     "output_type": "execute_result"
    }
   ],
   "source": [
    "myFile = open(\"01-sample.txt\", \"r\") #check type of f\n",
    "print(type(myFile))\n",
    "filecontent=myFile.read() #notice that we call the function with .read(), showing that this is a method of the object.\n",
    "myFile.close()\n",
    "filecontent  \n"
   ]
  },
  {
   "cell_type": "markdown",
   "metadata": {
    "id": "g-Q_ok1GvPpf"
   },
   "source": [
    "Notice, that the file is read as a long string, with several `\\n` characters marking the beginning of a new line. This is not always what we want, espescially if our file resembles a table. \n",
    "\n",
    "with `.readline()` we could read one single line, and with `.readlines()` we can read all lines in a list. However to get out the data we might be interested in we still need to locate the lines which contain it, and find the right information within the line string. We will need to `.strip()` the string (to remove the `\\n` characters which are unnecessary for us), and to `.split()` which as we will see splits the string into smaller pieces (the \"splitting rule\" can be input to the method, by default it will split at each white space)."
   ]
  },
  {
   "cell_type": "code",
   "execution_count": 56,
   "metadata": {
    "colab": {
     "base_uri": "https://localhost:8080/",
     "height": 214
    },
    "executionInfo": {
     "elapsed": 287,
     "status": "error",
     "timestamp": 1623230708159,
     "user": {
      "displayName": "Vikram R",
      "photoUrl": "https://lh3.googleusercontent.com/a-/AOh14GgT94zx4NT9VFHu1dc8-d-9FribzUUHXTpbeUD1tg=s64",
      "userId": "06378242726423628214"
     },
     "user_tz": -120
    },
    "id": "1laeLKfHvPpf",
    "outputId": "e2f687b3-ead5-4e53-ec45-dc0b9172f284"
   },
   "outputs": [
    {
     "data": {
      "text/plain": [
       "['      DOMINANT NUCLIDES\\n',\n",
       " '      -----------------\\n',\n",
       " '\\n',\n",
       " '      NUCLIDE   ACTIVITY   \\n',\n",
       " '                  (Bq)     \\n',\n",
       " '       Total   2.9201E+05  \\n',\n",
       " '    1  Mn 56   2.8492E+05  \\n',\n",
       " '    2  Mn 57   6.0933E+03  \\n',\n",
       " '    3  Fe 55   2.7925E+02  \\n',\n",
       " '    4  Fe 59   2.6444E+02  \\n',\n",
       " '    5  Cr 55   1.3453E+02  \\n',\n",
       " '    6  Mn 54   1.0177E+02  \\n',\n",
       " '    7  Cr 51   8.1422E+01  \\n',\n",
       " '    8  Mn 58   7.8839E+01  \\n',\n",
       " '    9  Mn 58m  6.2464E+01  \\n',\n",
       " '   10  Fe 53   4.7068E-01  \\n']"
      ]
     },
     "execution_count": 56,
     "metadata": {},
     "output_type": "execute_result"
    }
   ],
   "source": [
    "myFile = open(\"01-sample.txt\", \"r\") #we have to reopen it, because we closed it\n",
    "filecontentNew=myFile.readlines()\n",
    "myFile.close()\n",
    "filecontentNew  "
   ]
  },
  {
   "cell_type": "code",
   "execution_count": 57,
   "metadata": {
    "colab": {
     "base_uri": "https://localhost:8080/",
     "height": 231
    },
    "executionInfo": {
     "elapsed": 261,
     "status": "error",
     "timestamp": 1623230715121,
     "user": {
      "displayName": "Vikram R",
      "photoUrl": "https://lh3.googleusercontent.com/a-/AOh14GgT94zx4NT9VFHu1dc8-d-9FribzUUHXTpbeUD1tg=s64",
      "userId": "06378242726423628214"
     },
     "user_tz": -120
    },
    "id": "6ps9OkNgvPpg",
    "outputId": "e0a4d70a-1b4b-459a-c704-3bf12e296693"
   },
   "outputs": [
    {
     "name": "stdout",
     "output_type": "stream",
     "text": [
      "    1  Mn 56   2.8492E+05  \n",
      "\n",
      "1  Mn 56   2.8492E+05\n",
      "['1', 'Mn', '56', '2.8492E+05']\n",
      "2.8492E+05\n",
      "2.8492E+052.8492E+052.8492E+05\n",
      "284920.0\n"
     ]
    }
   ],
   "source": [
    "print(filecontentNew[6])\n",
    "print(filecontentNew[6].strip()) #removes the \\n character, and white space around lines\n",
    "print(filecontentNew[6].strip().split()) #splits it into a list, split can handle different separators. default is whitespace\n",
    "print(filecontentNew[6].strip().split()[3]) #We got our activity!\n",
    "print(3*filecontentNew[6].strip().split()[3]) #ooh but it is a string!\n",
    "print(float(filecontentNew[6].strip().split()[3])) #and now it is a float"
   ]
  },
  {
   "cell_type": "code",
   "execution_count": 58,
   "metadata": {
    "colab": {
     "base_uri": "https://localhost:8080/",
     "height": 214
    },
    "executionInfo": {
     "elapsed": 341,
     "status": "error",
     "timestamp": 1623230718742,
     "user": {
      "displayName": "Vikram R",
      "photoUrl": "https://lh3.googleusercontent.com/a-/AOh14GgT94zx4NT9VFHu1dc8-d-9FribzUUHXTpbeUD1tg=s64",
      "userId": "06378242726423628214"
     },
     "user_tz": -120
    },
    "id": "YvYaOmBRvPpg",
    "outputId": "b9317312-67ef-4e2a-82d3-10fa610602c3"
   },
   "outputs": [
    {
     "name": "stdout",
     "output_type": "stream",
     "text": [
      "Dominant Nuclides\n",
      "-----------------\n",
      "\n",
      "Nuclide   Activity\n",
      "(Bq)\n",
      "Total   2.9201E+05\n",
      "1  Mn 56   2.8492E+05\n",
      "2  Mn 57   6.0933E+03\n",
      "3  Fe 55   2.7925E+02\n",
      "4  Fe 59   2.6444E+02\n",
      "5  Cr 55   1.3453E+02\n",
      "6  Mn 54   1.0177E+02\n",
      "7  Cr 51   8.1422E+01\n",
      "8  Mn 58   7.8839E+01\n",
      "9  Mn 58M  6.2464E+01\n",
      "10  Fe 53   4.7068E-01\n"
     ]
    }
   ],
   "source": [
    "myFile = open(\"01-sample.txt\", \"r\")\n",
    "for line in myFile.readlines(): #you can loop through the elements of the list\n",
    "    print(line.strip().title()) #title makes capital letters small, except at the beginning of the line\n",
    "myFile.close()"
   ]
  },
  {
   "cell_type": "markdown",
   "metadata": {
    "id": "k9KNPB3KvPpg"
   },
   "source": [
    "**Note**: there is a more pythonic \"modern\" way of opening files, however, I find that more confusing for beginners. This looks like the following:"
   ]
  },
  {
   "cell_type": "code",
   "execution_count": 59,
   "metadata": {
    "id": "r4xK-se0vPpg"
   },
   "outputs": [
    {
     "name": "stdout",
     "output_type": "stream",
     "text": [
      "['      DOMINANT NUCLIDES\\n', '      -----------------\\n', '\\n', '      NUCLIDE   ACTIVITY   \\n', '                  (Bq)     \\n', '       Total   2.9201E+05  \\n', '    1  Mn 56   2.8492E+05  \\n', '    2  Mn 57   6.0933E+03  \\n', '    3  Fe 55   2.7925E+02  \\n', '    4  Fe 59   2.6444E+02  \\n', '    5  Cr 55   1.3453E+02  \\n', '    6  Mn 54   1.0177E+02  \\n', '    7  Cr 51   8.1422E+01  \\n', '    8  Mn 58   7.8839E+01  \\n', '    9  Mn 58m  6.2464E+01  \\n', '   10  Fe 53   4.7068E-01  \\n']\n"
     ]
    }
   ],
   "source": [
    "with open('01-sample.txt', 'r') as myFile:\n",
    "    content = myFile.readlines()\n",
    "print(content)"
   ]
  },
  {
   "cell_type": "markdown",
   "metadata": {
    "id": "Ur4lVYJWvPpg"
   },
   "source": [
    "# Exercises\n",
    "\n",
    "## 1\n",
    "\n",
    "Write a function which can calculate the decay constant $\\lambda$ based on the half-life of an isotope. The function should return $\\lambda$ in $1/s$ units, however the user should be able to give the half-lifes with different units. Possible units can be `'s'` for seconds, `'m'` for minutes, `'h'` for hours,`'d'` for days,`'y'` for years. Raise an exception if other units are given. \n",
    "\n",
    "$$\\lambda=\\frac{\\ln(2)}{T_{1/2}}$$"
   ]
  },
  {
   "cell_type": "code",
   "execution_count": 11,
   "metadata": {
    "id": "6cjgkvRLvPpg"
   },
   "outputs": [
    {
     "name": "stdout",
     "output_type": "stream",
     "text": [
      "0.34657359027997264\n",
      "0.0057762265046662105\n",
      "9.627044174443685e-05\n",
      "4.011268406018202e-06\n",
      "1.0989776454844388e-08\n"
     ]
    },
    {
     "ename": "ValueError",
     "evalue": "Unit needs to be either 's', 'm', 'h', 'd' or 'y'",
     "output_type": "error",
     "traceback": [
      "\u001b[1;31m---------------------------------------------------------------------------\u001b[0m",
      "\u001b[1;31mValueError\u001b[0m                                Traceback (most recent call last)",
      "\u001b[1;32m<ipython-input-11-89436f97bc63>\u001b[0m in \u001b[0;36m<module>\u001b[1;34m\u001b[0m\n\u001b[0;32m     41\u001b[0m \u001b[0mprint\u001b[0m\u001b[1;33m(\u001b[0m\u001b[0mdecayConst\u001b[0m\u001b[1;33m(\u001b[0m\u001b[1;36m2\u001b[0m\u001b[1;33m,\u001b[0m\u001b[1;34m'd'\u001b[0m\u001b[1;33m)\u001b[0m\u001b[1;33m)\u001b[0m\u001b[1;33m\u001b[0m\u001b[1;33m\u001b[0m\u001b[0m\n\u001b[0;32m     42\u001b[0m \u001b[0mprint\u001b[0m\u001b[1;33m(\u001b[0m\u001b[0mdecayConst\u001b[0m\u001b[1;33m(\u001b[0m\u001b[1;36m2\u001b[0m\u001b[1;33m,\u001b[0m\u001b[1;34m'y'\u001b[0m\u001b[1;33m)\u001b[0m\u001b[1;33m)\u001b[0m\u001b[1;33m\u001b[0m\u001b[1;33m\u001b[0m\u001b[0m\n\u001b[1;32m---> 43\u001b[1;33m \u001b[0mprint\u001b[0m\u001b[1;33m(\u001b[0m\u001b[0mdecayConst\u001b[0m\u001b[1;33m(\u001b[0m\u001b[1;36m2\u001b[0m\u001b[1;33m,\u001b[0m \u001b[1;34m'g'\u001b[0m\u001b[1;33m)\u001b[0m\u001b[1;33m)\u001b[0m\u001b[1;33m\u001b[0m\u001b[1;33m\u001b[0m\u001b[0m\n\u001b[0m",
      "\u001b[1;32m<ipython-input-11-89436f97bc63>\u001b[0m in \u001b[0;36mdecayConst\u001b[1;34m(hl, unit)\u001b[0m\n\u001b[0;32m     33\u001b[0m         \u001b[0mlam\u001b[0m \u001b[1;33m=\u001b[0m \u001b[0mmath\u001b[0m\u001b[1;33m.\u001b[0m\u001b[0mlog\u001b[0m\u001b[1;33m(\u001b[0m\u001b[1;36m2\u001b[0m\u001b[1;33m)\u001b[0m\u001b[1;33m/\u001b[0m\u001b[1;33m(\u001b[0m\u001b[0mhl\u001b[0m\u001b[1;33m*\u001b[0m\u001b[0munit_dict\u001b[0m\u001b[1;33m[\u001b[0m\u001b[0munit\u001b[0m\u001b[1;33m]\u001b[0m\u001b[1;33m)\u001b[0m\u001b[1;33m\u001b[0m\u001b[1;33m\u001b[0m\u001b[0m\n\u001b[0;32m     34\u001b[0m     \u001b[1;32melse\u001b[0m\u001b[1;33m:\u001b[0m\u001b[1;33m\u001b[0m\u001b[1;33m\u001b[0m\u001b[0m\n\u001b[1;32m---> 35\u001b[1;33m         \u001b[1;32mraise\u001b[0m \u001b[0mValueError\u001b[0m\u001b[1;33m(\u001b[0m\u001b[1;34m\"Unit needs to be either 's', 'm', 'h', 'd' or 'y'\"\u001b[0m\u001b[1;33m)\u001b[0m\u001b[1;33m\u001b[0m\u001b[1;33m\u001b[0m\u001b[0m\n\u001b[0m\u001b[0;32m     36\u001b[0m     \u001b[1;32mreturn\u001b[0m \u001b[0mlam\u001b[0m\u001b[1;33m\u001b[0m\u001b[1;33m\u001b[0m\u001b[0m\n\u001b[0;32m     37\u001b[0m \u001b[1;33m\u001b[0m\u001b[0m\n",
      "\u001b[1;31mValueError\u001b[0m: Unit needs to be either 's', 'm', 'h', 'd' or 'y'"
     ]
    }
   ],
   "source": [
    "unit_dict = {\n",
    "    \"s\": 1,\n",
    "    \"m\": 60,\n",
    "    \"h\": 3600,\n",
    "    \"d\": 3600*24,\n",
    "    \"y\": 3600*24*365\n",
    "    }\n",
    "\n",
    "def decayConst(hl,unit):\n",
    "    \"\"\"\n",
    "    Function that calculates the decay constant\n",
    "\n",
    "    Parameters\n",
    "    ----------\n",
    "    hl : float\n",
    "        half-life of element.\n",
    "    unit : string\n",
    "        which type of time unit used.\n",
    "\n",
    "    Raises\n",
    "    ------\n",
    "    ValueError\n",
    "        If unit is not in dictionary.\n",
    "\n",
    "    Returns\n",
    "    -------\n",
    "    lam : float\n",
    "        decay constant in 1/s.\n",
    "\n",
    "    \"\"\"\n",
    "    import math\n",
    "    if unit in unit_dict:\n",
    "        lam = math.log(2)/(hl*unit_dict[unit])\n",
    "    else:\n",
    "        raise ValueError(\"Unit needs to be either 's', 'm', 'h', 'd' or 'y'\")  \n",
    "    return lam\n",
    "\n",
    "print(decayConst(2,'s'))\n",
    "print(decayConst(2,'m'))\n",
    "print(decayConst(2,'h'))\n",
    "print(decayConst(2,'d'))\n",
    "print(decayConst(2,'y'))\n",
    "print(decayConst(2, 'g'))"
   ]
  },
  {
   "cell_type": "markdown",
   "metadata": {
    "id": "q2aSagbivPpg"
   },
   "source": [
    " ## 2\n",
    " \n",
    "Below we have a dictionary with the half-life (in days) of some isotopes, which are relevant when performing passive gamma spectroscopy measurements of spent nuclear fuel. Create an other dictionary (named `isotopeInfo`, see below), where the keys are the same but the values are other dictionaries, storing the half-life and the decay constant. Use your previously created function and loops.  \n",
    " \n",
    "```python\n",
    "   isotopeInfo={'Y-91': {'hl': some value, 'lambda': some value},\n",
    "                ...}\n",
    "```"
   ]
  },
  {
   "cell_type": "code",
   "execution_count": 10,
   "metadata": {
    "id": "xINEldRLvPph",
    "scrolled": true
   },
   "outputs": [
    {
     "name": "stdout",
     "output_type": "stream",
     "text": [
      "{'Y-91': {'hl': 58.5, 'lambda': 1.371373814023317e-07}, 'Zr-95': {'hl': 64, 'lambda': 1.253521376880688e-07}, 'Nb-95': {'hl': 35, 'lambda': 2.292153374867544e-07}, 'Ru-103': {'hl': 39.2, 'lambda': 2.0465655132745925e-07}, 'Ru-106': {'hl': 372, 'lambda': 2.156595917214087e-08}, 'Sb-125': {'hl': 1007.4, 'lambda': 7.963606126698832e-09}, 'Cs-134': {'hl': 753.725, 'lambda': 1.064385128798488e-08}, 'Cs-137': {'hl': 10986.5, 'lambda': 7.302177046408232e-10}, 'Eu-154': {'hl': 3139.0, 'lambda': 2.5557619662428813e-09}, 'Eu-155': {'hl': 1733.75, 'lambda': 4.627274296776585e-09}, 'Ce-141': {'hl': 32.5, 'lambda': 2.4684728652419705e-07}, 'Ce-144': {'hl': 285, 'lambda': 2.8149251972057558e-08}}\n"
     ]
    }
   ],
   "source": [
    "isotopes = {\n",
    "    'Y-91': 58.5,\n",
    "    'Zr-95': 64,\n",
    "    'Nb-95': 35,\n",
    "    'Ru-103': 39.2,\n",
    "    'Ru-106': 372,\n",
    "    'Sb-125': 2.76*365,\n",
    "    'Cs-134': 2.065*365,\n",
    "    'Cs-137': 30.1*365,\n",
    "    'Eu-154': 8.6*365,\n",
    "    'Eu-155': 4.75*365,          \n",
    "    'Ce-141': 32.5,\n",
    "    'Ce-144': 285\n",
    "    }\n",
    "\n",
    "isotopeInfo = {}\n",
    "\n",
    "def isotopeInfoFunction():\n",
    "    \"\"\"\n",
    "    Function that organizes information into a nested dictionary\n",
    "\n",
    "    Returns\n",
    "    -------\n",
    "    None.\n",
    "\n",
    "    \"\"\"\n",
    "    \n",
    "    for key in isotopes:\n",
    "        isotopeInfo[key] = {'hl': isotopes.get(key), 'lambda': decayConst(isotopes.get(key), 'd')}\n",
    "\n",
    "isotopeInfoFunction()\n",
    "print(isotopeInfo)"
   ]
  },
  {
   "cell_type": "markdown",
   "metadata": {
    "id": "dC_bNpGpvPpi"
   },
   "source": [
    "##  3\n",
    "\n",
    "Write a script which reads the content of the file '01-sample.txt', and organizes it in a dictionary, where the keys are the nuclide names (in a 'Symbol-MassNumber' format), and the values are the activities as floats. Do not modify the file!\n",
    "\n",
    "```python\n",
    "   activity={'Mn-56': 2.8492E+05, \n",
    "             'Mn-57': 6.0933E+03,\n",
    "                ...}\n",
    "```"
   ]
  }
 ],
 "metadata": {
  "colab": {
   "name": "1-BasicPython.ipynb",
   "provenance": []
  },
  "kernelspec": {
   "display_name": "Python 3",
   "language": "python",
   "name": "python3"
  },
  "language_info": {
   "codemirror_mode": {
    "name": "ipython",
    "version": 3
   },
   "file_extension": ".py",
   "mimetype": "text/x-python",
   "name": "python",
   "nbconvert_exporter": "python",
   "pygments_lexer": "ipython3",
   "version": "3.8.8"
  }
 },
 "nbformat": 4,
 "nbformat_minor": 4
}
