{
 "cells": [
  {
   "cell_type": "markdown",
   "metadata": {},
   "source": [
    "# Neutron scattering and Monte Carlo methods\n",
    "\n",
    "Please indicate your name below, since you will need to submit this notebook completed latest the day after the datalab.\n",
    "\n",
    "Don't forget to save your progress during the datalab to avoid any loss due to crashes."
   ]
  },
  {
   "cell_type": "code",
   "execution_count": null,
   "metadata": {},
   "outputs": [],
   "source": [
    "name=''"
   ]
  },
  {
   "cell_type": "markdown",
   "metadata": {},
   "source": [
    "In this datalab we are going to get acquainted with the basics of Monte Carlo particle transport methods, and we will learn how to sample random events and random values from various distributions. These are going to be our bricks which later we will put together into an actual Monte Carlo simulation.\n",
    "\n",
    "Since neutron reactions, espescially scattering, provide an excellent ground to familiarize ourselves with Monte Carlo methods, we will also use this lab to review some of the key features of elastic neutron scattering.\n",
    "\n",
    "**Prerequisites**: Before the lab you should have reviewed the lecture on neutron scattering and the short introduction on Monte Carlo methods and pseudorandom numbers.\n",
    "\n",
    "The new python knowledge from the lab is going to be \n",
    "- histograms with `plt.hist`\n",
    "- random number generators from `numpy.random`\n",
    "\n",
    "Let's get started and have some fun!"
   ]
  },
  {
   "cell_type": "markdown",
   "metadata": {},
   "source": [
    "## Experiment 1: Relation of angle and energy in elastic scattering\n",
    "\n",
    "We have discussed the elastic potential scattering in the CM frame, and showed that for the LAB energy \n",
    "\n",
    "$$E_l'=\\frac{1}{2}E_l[(1+\\alpha)+(1-\\alpha)cos\\theta_C]$$\n",
    "\n",
    "where\n",
    "\n",
    "$$\\alpha=\\big(\\frac{A-1}{A+1}\\big)^2$$\n",
    "\n",
    "and $A=M/m$\n",
    "\n",
    "Let's investigate how the ratio of the incoming and the outgoing neutron energy depends on the scattering angle.\n",
    "\n",
    "Plot the above formula for several nuclides (eg. A=1, A=12, A=23, etc) and for angles between $0^\\circ-360^\\circ$. Do not repeat the plotting command, use a loop instead to iterate through all mass numbers. After the plot write a sentence on your conclusion!\n",
    "\n",
    "**Note #1**: Remember, `np.cos` can perform the operation on a numpy array or list.\n",
    "\n",
    "**Note #2**: Trigonometric functions in numpy take values in radians.\n",
    "\n",
    "**Note #3**: $\\pi$ can be accessed as `np.pi`.\n",
    "\n",
    "**Note #4**: If you wish to use specific colors for the curves, you can define your own list of colors, and call the right one in the plot (eg. `colors=['blue','green',...]`"
   ]
  },
  {
   "cell_type": "code",
   "execution_count": null,
   "metadata": {},
   "outputs": [],
   "source": [
    "import numpy as np\n",
    "import matplotlib.pyplot as plt\n",
    "theta=#np.linspace(0,360,361)*np.pi/180 #Remove the first comment!\n",
    "As=[1,12,23] #Feel free to add more\n",
    "plt.figure()\n",
    "# Your loop and plotting comes here\n",
    "plt.xlabel('angle (deg)')\n",
    "plt.ylabel(r\"$\\frac{E_{n,after}}{E_{n,before}}$\")\n",
    "plt.show()"
   ]
  },
  {
   "cell_type": "markdown",
   "metadata": {},
   "source": [
    "Change this cell to your conclusion!"
   ]
  },
  {
   "cell_type": "markdown",
   "metadata": {},
   "source": [
    "## Experiment 2: Isotropic directions\n",
    "\n",
    "When sampling *isotropic* directions, one is often tempted to think that the colatitude or polar angle $\\theta$ is uniformly distributed over $[0,\\pi]$ and the azimuth $\\phi$ is uniformly distrubted over $[0,2\\pi]$. However this is not the case. It is $\\cos\\theta$ which is uniformly distributed over $[-1,1]$. Further reading: http://corysimon.github.io/articles/uniformdistn-on-sphere/ (note the angles are named opposite).  Remember the conversion between Cartesian coordinates and polar coordinates:\n",
    "\n",
    "$$x=r\\sin\\theta\\cos\\phi$$\n",
    "$$y=r\\sin\\theta\\sin\\phi$$\n",
    "$$z=r\\cos\\theta$$\n",
    "\n",
    "Read and run the two code cells below. The code creates 1000 unit length ($r=1$) vector's coordinates, and visualizes them. The two code blocks contain the same code besides the way how `theta` is being created. The first code block samples `theta` uniformly between $[0,\\pi]$ (incorrect), and the second samples the cosine of `theta` uniformly between $[-1,1]$. Observe that in the first **incorrect** case the poles are oversampled.\n",
    "\n",
    "**Note #1**. We are using `np.random.uniform` to generate uniformly generated random numbers. The first input of this function is the lower boundary of the distribution, the second is the higher boundary, and the third is the number of random numbers to be sampled. Note that `np. random` has several built-in functions to sample random numbers from various distributions, you can review them with `?np.random`."
   ]
  },
  {
   "cell_type": "code",
   "execution_count": null,
   "metadata": {},
   "outputs": [],
   "source": [
    "from mpl_toolkits.mplot3d import Axes3D\n",
    "\n",
    "N=1000\n",
    "r=np.ones(N)\n",
    "theta=np.random.uniform(0,np.pi,N) ### INCORRECT\n",
    "mu=np.cos(theta)\n",
    "phi=np.random.uniform(0,2*np.pi,N)\n",
    "\n",
    "x=r*np.sin(theta)*np.cos(phi)\n",
    "y=r*np.sin(theta)*np.sin(phi)\n",
    "z=r*np.cos(theta)\n",
    "\n",
    "plt.figure()\n",
    "plt.scatter(phi,theta)\n",
    "plt.xlabel(r'$\\phi$')\n",
    "plt.ylabel(r'$\\theta$')\n",
    "plt.title('Incorrect solution')\n",
    "plt.show()\n",
    "\n",
    "fig = plt.figure(figsize=plt.figaspect(1.0)*1.5) #Adjusts the aspect ratio and enlarges the figure (text does not enlarge)\n",
    "ax = fig.gca(projection='3d')\n",
    "ax.scatter(x,y,z)\n",
    "plt.title('Incorrect solution')\n",
    "ax.set_xlabel('x')\n",
    "ax.set_ylabel('y')\n",
    "ax.set_zlabel('z')\n",
    "ax.azim = 113\n",
    "ax.elev = 28\n",
    "plt.show()"
   ]
  },
  {
   "cell_type": "code",
   "execution_count": null,
   "metadata": {},
   "outputs": [],
   "source": [
    "N=1000\n",
    "r=np.ones(N)\n",
    "mu=np.random.uniform(-1,1,N)        ### CORRECT\n",
    "theta=np.arccos(mu)\n",
    "phi=np.random.uniform(0,2*np.pi,N)\n",
    "\n",
    "x=r*np.sin(theta)*np.cos(phi)\n",
    "y=r*np.sin(theta)*np.sin(phi)\n",
    "z=r*np.cos(theta)\n",
    "\n",
    "plt.figure()\n",
    "plt.scatter(phi,theta)\n",
    "plt.xlabel(r'$\\phi$')\n",
    "plt.ylabel(r'$\\theta$')\n",
    "plt.title('Correct solution')\n",
    "plt.show()\n",
    "\n",
    "fig = plt.figure(figsize=plt.figaspect(1.0)*1.5) #Adjusts the aspect ratio and enlarges the figure (text does not enlarge)\n",
    "ax = fig.gca(projection='3d')\n",
    "ax.scatter(x,y,z)\n",
    "plt.title('Correct solution')\n",
    "ax.set_xlabel('x')\n",
    "ax.set_ylabel('y')\n",
    "ax.set_zlabel('z')\n",
    "ax.azim = 113\n",
    "ax.elev = 28\n",
    "plt.show()"
   ]
  },
  {
   "cell_type": "markdown",
   "metadata": {},
   "source": [
    "## Experiment 3: Distribution of outgoing energy\n",
    "\n",
    "We just showed that isotropic scattering means that the CM cosine of the angle is uniformly distributed. So let us combine exercise 1 and 2, and investigate the distribution of the outgoing neutron energy for isotropic scattering. \n",
    "\n",
    "Generate 1 million uniformly distributed angle cosines in CM (`muC`), and  calculate the final energy distribution of 1 MeV neutrons after scattering isotropically. Then use `plt.hist` to visualize the distribution of the energy. What is your  expectation? Conclude what you have found. "
   ]
  },
  {
   "cell_type": "code",
   "execution_count": null,
   "metadata": {},
   "outputs": [],
   "source": [
    "A=10 #You can change this to study other target nuclides\n",
    "Ei=1 #MeV\n",
    "Nsample=1e6 #Number of angles to sample\n",
    "\n",
    "alpha=# Finish the line\n",
    "muC=np.random.uniform()#Complete the line\n",
    "Ef=#Final energy from muC, Ei, alpha. Note: muC is already the cosine!\n",
    "\n",
    "#Here we create a histogram with 100 bins\n",
    "Nbin=100\n",
    "plt.figure()\n",
    "plt.hist(Ef,Nbin)\n",
    "plt.axvline(Ei,color='r') #adds vertical line at Ei\n",
    "plt.axvline(alpha*Ei,color='r')\n",
    "plt.show()\n"
   ]
  },
  {
   "cell_type": "markdown",
   "metadata": {},
   "source": [
    "Change this cell to your conclusion!"
   ]
  },
  {
   "cell_type": "markdown",
   "metadata": {},
   "source": [
    "## Experiment 4: Scattering angle in LAB\n",
    "\n",
    "We looked into how the energy change depends on the CM scattering angle. We saw what isotropy in CM means, and we also saw how the outgoing energy is distributed for isotropic CM angles. There is one last thing, which can be sometimes confusing: we intuitively prefer the LAB system! So how does the cosine of the scattering angle look in the LAB? That is what we will try to find out now!\n",
    "\n",
    "Sample 1 million angle cosines in the CM (`muC`), and then convert the angle to the LAB (`thetaL`). Use the formula below, and finally calculate the cosine of the LAB angle (`muL`). The formula to convert from CM to LAB:\n",
    "\n",
    "$$\\theta_L=\\tan^{-1}\\Big(\\frac{\\sin \\theta_C}{\\frac{1}{A}+\\mu_C}\\Big)$$\n",
    "\n",
    "Read and execute the code block below to evaluate this for several mass numbers and to calculate the mean (with `np.mean`) of the LAB cosines. Compare the empirical mean with the value from the lecture ($\\bar\\mu_L=\\frac{2}{3A}$)\n",
    "\n",
    "What is your conclusion: is the scattering isotropic in the LAB? Write down your conclusion!"
   ]
  },
  {
   "cell_type": "code",
   "execution_count": null,
   "metadata": {},
   "outputs": [],
   "source": [
    "As=[1,12,50,238]\n",
    "\n",
    "muC=np.random.uniform(-1,1,1000000)\n",
    "thetaC=np.arccos(muC)\n",
    "\n",
    "for A in As:\n",
    "    \n",
    "    thetaL=np.arctan2(np.sin(thetaC),((1/A)+muC))\n",
    "    \n",
    "    muL=np.cos(thetaL)\n",
    "    \n",
    "    plt.figure()\n",
    "    plt.hist(muL,100)\n",
    "    plt.xlabel(r'$\\mu_L$')\n",
    "    plt.ylabel('number of occurrences')\n",
    "    plt.title(str(A))\n",
    "    plt.show()\n",
    "    print(str(A),str(2/(3*A)),str(np.mean(muL)))"
   ]
  },
  {
   "cell_type": "markdown",
   "metadata": {},
   "source": [
    "Change this cell to your conclusion!"
   ]
  },
  {
   "cell_type": "markdown",
   "metadata": {},
   "source": [
    "## Experiment 5: Neutron slowing down in elastic scattering\n",
    "\n",
    "Let's slow down a neutron! From the previous exercises we could conclude that in our \"billiard ball\" scattering the energy and the angle is in a direct relationship. Therefore, we can sample one and figure out the other. But for the moment let's just neglect the angle completely and care only about the energy loss (for which the distribution we have played with in Experiment 3). We will try to figure out how many scattering events it takes to slow down a neutron from 2 MeV to 1eV (we consider that there are no temperature effects). \n",
    "\n",
    "Investigate some target nuclide. Which nuclides are effective in slowing neutrons? Note down some values. "
   ]
  },
  {
   "cell_type": "code",
   "execution_count": null,
   "metadata": {},
   "outputs": [],
   "source": [
    "def neutronLetargizer(Ei,Ef,A):\n",
    "    \"\"\"Function calculate how many scattering events are needed to slow a neutron\n",
    "    from an initial energy (Ei) to a final energy (Ef)\n",
    "    Parameters\n",
    "    ----------\n",
    "    Ei : float\n",
    "        Initial energy of the neutron\n",
    "    Ef : float\n",
    "        Final energy to be reached\n",
    "    A : float\n",
    "        Mass number of the scatterer\n",
    "    \n",
    "    Returns\n",
    "    -------\n",
    "    N : int\n",
    "        Number of scattering events\n",
    "    \"\"\"\n",
    "    alpha=#finish the line\n",
    "    N=0\n",
    "    E=Ei\n",
    "    while E>=Ef:\n",
    "        E=#sample a random outgoing energy based on alpha and E.\n",
    "        N=N+1\n",
    "    return N    "
   ]
  },
  {
   "cell_type": "markdown",
   "metadata": {},
   "source": [
    "Let's run this function for various nuclides, both light and heavy!"
   ]
  },
  {
   "cell_type": "code",
   "execution_count": null,
   "metadata": {},
   "outputs": [],
   "source": [
    "A=1\n",
    "Ei=2.0 #MeV\n",
    "Ef=1e-6 #MeV\n",
    "print(neutronLetargizer(Ei,Ef,A))"
   ]
  },
  {
   "cell_type": "markdown",
   "metadata": {},
   "source": [
    "That's a pretty cool function we have now. We can use it to look at the statistics of the number of scattering needed! Let's run this function for 10k neutrons and calculate the mean and visualize the distribution of the number of scattering events needed. (Notice that running this many neutrons for heavy nuclide might take some time)"
   ]
  },
  {
   "cell_type": "code",
   "execution_count": null,
   "metadata": {},
   "outputs": [],
   "source": [
    "A=12\n",
    "E0=2.0 #MeV\n",
    "Ef=1e-6 #MeV\n",
    "\n",
    "#######\n",
    "Ns=[]\n",
    "\n",
    "for _ in range(10000): # _ means here that we just don't care about the iteration index\n",
    "    Ns.append(neutronLetargizer(E0,Ef,A))\n",
    "\n",
    "print('Mean \\t Standard deviation')\n",
    "print()#complete the line by calculating the mean of the list of number of scattering events with np.mean and\n",
    "       #the standard deviation with np.std\n",
    "\n",
    "plt.figure()\n",
    "# use plt.hist to investigate the distribution of the number of scattering events.\n",
    "plt.show()"
   ]
  },
  {
   "cell_type": "markdown",
   "metadata": {},
   "source": [
    "Change this cell to your conclusion! And fill out the table\n",
    "\n",
    "|A  | $\\bar N$ | std |\n",
    "|---|----------|-----|\n",
    "|1  |    ?     |  ?  |\n",
    "|12 |    ?     |  ?  |\n",
    "|238|    ?     |  ?  |"
   ]
  },
  {
   "cell_type": "markdown",
   "metadata": {},
   "source": [
    "## Experiment 6: Sampling from distributions\n",
    "\n",
    "In the video recording and in the Appendix of the lecture notes we have reviewed how to sample numbers from distributions, in the following we are going to implement these methods for neutron transport related tasks.\n",
    "\n",
    "### Discrete distribution: which event happens?\n",
    "\n",
    "The probability of reaction $i$ happening at energy $E$ is \n",
    "\n",
    "\\begin{equation}\n",
    "\\frac{\\Sigma_i(E)}{\\Sigma_t(E)}\n",
    "\\end{equation}\n",
    "\n",
    "Let us consider that in our material only two reactions might happen: scattering or capture, thus a simple condition can be used to decide which happens.\n",
    "\n",
    "Complete the `reactionType` function to return a random event type. Assume that at the energy the neutron is travelling with $\\Sigma_s=0.64 \\: \\text{cm}^{-1}$ and $\\Sigma_c=0.39 \\: \\text{cm}^{-1}$. Call the function with these values."
   ]
  },
  {
   "cell_type": "code",
   "execution_count": null,
   "metadata": {},
   "outputs": [],
   "source": [
    "def reactionType(SigS,SigC):\n",
    "    \"\"\"Function to sample a random event type\n",
    "    \n",
    "    Parameters\n",
    "    ----------\n",
    "    SigS : float\n",
    "        Macroscopic scattering cross section\n",
    "    SigC : float\n",
    "        Macroscopic capture cross section\n",
    "    \"\"\"\n",
    "    SigT=#complete the line\n",
    "    x=#sample random number between 0 and 1\n",
    "    if x < SigS/SigT:\n",
    "        return 'scatter'\n",
    "    # else return 'capture'\n",
    "    #\n",
    "\n",
    "ss=0.64\n",
    "sc=0.39\n",
    "print()#complete the line with the function call"
   ]
  },
  {
   "cell_type": "markdown",
   "metadata": {},
   "source": [
    "Numpy actually has a built in function `np.random.choice()`, which does the same for us. As an input it takes a list of choices to sample from, and optionally one can also pass a list of probabilities."
   ]
  },
  {
   "cell_type": "code",
   "execution_count": null,
   "metadata": {},
   "outputs": [],
   "source": [
    "np.random.choice(['scatter','capture'],p=[ss/(ss+sc),sc/(ss+sc)])"
   ]
  },
  {
   "cell_type": "markdown",
   "metadata": {},
   "source": [
    "### Continous distribution I: path to next collision\n",
    "\n",
    "Let's consider that we have some probability density function $p(x)$, and the related cumulative distribution function is $F(x)=\\int_{-\\infty}^xp(t)dt$. This function is going to take values between 0 and 1. So if we can have random numbers between 0 and 1, we could just convert them by evaluating the inverse of the cumulative distribution function to obtain a random value $x$ sampled from the distribution:\n",
    "\n",
    "$x=F^{-1}(r)$\n",
    "\n",
    "This of course is only useful, when it is possible to easily integrate the probability density function.  \n",
    "\n",
    "Let's see how we can use this to sample random distances travelled by a neutron between collision events. We learnt that \n",
    "\n",
    "$\\exp(-\\Sigma_t x)$ is the probability that a neutron moves a distance dx without any interaction.\n",
    "\n",
    "and \n",
    "\n",
    "$\\Sigma_t \\exp(-\\Sigma_t x)dx$ is the probability that the neutron has its interaction at dx.\n",
    "\n",
    "So\n",
    "\n",
    "$p(x)=\\Sigma_t \\exp(-\\Sigma_t x)$\n",
    "\n",
    "Thus\n",
    "\n",
    "$F(x)=1-\\exp(\\Sigma_tx)$\n",
    "\n",
    "If we take the inverse, to sample a random path\n",
    "\n",
    "$x=-\\frac{\\ln(1-r)}{\\Sigma_t}$\n",
    "\n",
    "but if r is uniform over $[0,1]$, than $1-r$ is also uniform over $[0,1]$, so this simplifies to\n",
    "\n",
    "$x=-\\frac{\\ln r}{\\Sigma_t}$\n",
    "\n",
    "Complete the `distanceToCollision` function below.\n",
    "\n",
    "**Note #1** computational speed is everything in MC calculations. Although in this course we don't try to avoid every unecessary operation, this example is just to highlight that sometimes operations can be avoided with some reasoning.\n",
    "\n",
    "**Note #2** the natural logarithm can be computed with `np.log`.\n",
    "\n",
    "**Note #3** `numpy.random` has a built-in function to sample the exponential distribution, nevertheless here we will convert the uniformly distributed random numbers between $[0,1]$ to exponentially distributed random numbers."
   ]
  },
  {
   "cell_type": "code",
   "execution_count": null,
   "metadata": {},
   "outputs": [],
   "source": [
    "def distanceToCollision(SigT,N=1):\n",
    "    \"\"\"Function to sample the distance between collisions\n",
    "    \n",
    "    Parameters\n",
    "    ----------\n",
    "    SigT : float\n",
    "        Total Macroscopic cross section in 1/cm\n",
    "    N : int\n",
    "        Number of events to be sampled (default=1)\n",
    "    \n",
    "    Returns\n",
    "    -------\n",
    "    x : float or array-like\n",
    "        Random distance between collisions\n",
    "    \"\"\"\n",
    "    r = np.random.uniform(0,1,N)\n",
    "    x = # Complete the line\n",
    "    return x"
   ]
  },
  {
   "cell_type": "markdown",
   "metadata": {},
   "source": [
    "We can now try this function. Let's consider that 1 MeV neutrons enter a material which has a total cross section of $\\Sigma_t=0.18 \\: \\text{cm}^{-1}$ at this energy. Or well, let's consider that 10k neutrons enter the material, and let's see how the distribution of the random distances looks like, and what is the mean."
   ]
  },
  {
   "cell_type": "code",
   "execution_count": null,
   "metadata": {},
   "outputs": [],
   "source": [
    "SigT=0.18\n",
    "N=10000\n",
    "ds=#call distanceToCollision() here\n",
    "\n",
    "plt.figure()\n",
    "plt.hist(ds,100)\n",
    "plt.show()\n",
    "\n",
    "print('Empirical Mean (cm) \\t Theoretical mean (cm)')\n",
    "print() #print the empirical mean free path. and the mean free path expected from theory"
   ]
  },
  {
   "cell_type": "markdown",
   "metadata": {},
   "source": [
    "### Continous distribution II: Watt distribution\n",
    "\n",
    "\n",
    "When the probability density function is less well behaving, and we cannot obtain the cumulative distribution function easily, we can use for example the rejection method. In this case, we draw a random number (r1), convert it to be between $a$ and $b$ (the bounds of the random value), then we draw an other random number (r2) to create a $y$ value based on the maximum of the probaility density function (M). If the $(x,y)$ pair is under the curve (ie. $y<p(x)$) we accept the value. \n",
    "\n",
    "<img src=\"rejection.png\" width=\"200\"/>\n",
    "\n",
    "**Note** This might be very inefficient if the probability density function is peaked. There are several other methods to more efficient sampling.\n",
    "\n",
    "Let's try to use this method for sampling the Watt-spectrum which is the probability density function of the energy of neutrons emerging from fission.\n",
    "\n",
    "$$\\chi (E)=C_1\\cdot \\exp(-\\frac{E}{C_2})\\cdot \\sinh(\\sqrt{C_3\\cdot E})$$\n",
    "\n",
    "For now, we will just visualize how the function works (later in a Home Assignment you will extend this method to generate random numbers sampled from this distribution)\n",
    "\n",
    "Draw 100 numbers $x$ between 0-10 MeV and draw 100 numbers $y$ between 0 and the maximum of $\\chi(E)$. If the energy is accepted, plot the $(x,y)$ coordinate with green, else with red.\n",
    "\n",
    "Does this method seem to be efficient to sample the Watt-spectrum? Count the number of accepted random samples to estimate the efficiency!"
   ]
  },
  {
   "cell_type": "code",
   "execution_count": null,
   "metadata": {},
   "outputs": [],
   "source": [
    "def watt(x): \n",
    "    C1 = 0.453\n",
    "    C2 = 0.965\n",
    "    C3 = 2.29\n",
    "    return #complete the line\n",
    "                                \n",
    "E=np.linspace(0,10,10000)\n",
    "plt.figure()\n",
    "plt.plot(E,watt(E))\n",
    "maxW=np.max(watt(E))\n",
    "\n",
    "for _ in range(100):\n",
    "    xi=np.random.uniform(0,10)\n",
    "    yi=#complete the line\n",
    "    if yi<watt(xi):\n",
    "        plt.plot(xi,yi,'gx')\n",
    "    #complete the if/else statements\n",
    "    #count how often a number is accepted!\n",
    "    \n",
    "plt.xlabel('Energy (MeV)')\n",
    "plt.ylabel(r'$\\chi (MeV^{-1})$')\n",
    "plt.show()\n",
    "\n",
    "print()#print the estimated efficiency "
   ]
  },
  {
   "cell_type": "markdown",
   "metadata": {},
   "source": [
    "Change this cell to your conclusion!"
   ]
  },
  {
   "cell_type": "markdown",
   "metadata": {},
   "source": [
    "# Experiment 7: scattering of thermal neutrons (optional)\n",
    "\n",
    "Do you feel brave enough to look at the scattering kernel for thermal neutrons? If yes, you are at the right place.\n",
    "\n",
    "Implement the following scattering kernel, then read and run the code block below for plotting the kernel. We are going to plot $\\sigma_s(E'\\rightarrow E)E'(1-\\alpha)$\n",
    "\n",
    "\\begin{equation}\n",
    "\\begin{aligned}\n",
    "\\sigma_s(E'\\rightarrow E)=\\frac{\\sigma_s}{2E'}\\eta^2\\Bigg[\\text{erf}\\Bigg(\\eta\\sqrt{\\frac{E}{kT}}-\\rho\\sqrt{\\frac{E'}{kT}}\\Bigg)\\pm \\text{erf}\\Bigg(\\eta\\sqrt{\\frac{E}{kT}}+\\rho\\sqrt{\\frac{E'}{kT}}\\Bigg)\\Bigg]+ \\\\ \\frac{\\sigma_s}{2E'}\\eta^2\\exp\\Bigg(-\\frac{E-E'}{kT}\\Bigg)\\Bigg[\\text{erf}\\Bigg(\\eta\\sqrt{\\frac{E'}{kT}}-\\rho\\sqrt{\\frac{E}{kT}}\\Bigg)\\mp \\text{erf}\\Bigg(\\eta\\sqrt{\\frac{E'}{kT}}+\\rho\\sqrt{\\frac{E}{kT}}\\Bigg)\\Bigg]\n",
    "\\end{aligned}\n",
    "\\end{equation}\n",
    "\n",
    "where\n",
    "\n",
    "\n",
    "$$\\eta=\\frac{A+1}{2\\sqrt{A}} \\quad \\text{and} \\quad \\rho=\\frac{A-1}{2\\sqrt{A}}$$\n",
    "\n",
    "and the upper sign is for $E\\leq E'$, and the lower sign is for $E\\geq E'$.\n",
    "\n",
    "If you are unsure about $kT$ units, convert the values to eV. What is your conclusion for scattering at thermal energies? How do heavy and light nuclides act differently as scatterers? Where does the kernel converge with increasing incoming neutron energy (at $100 kT$)?\n",
    "\n",
    "**Note #1**: you can use the `scipy.special.erf` function.\n",
    "\n",
    "**Note #2**: The function will probably break if you use too high ingoing neutron energies."
   ]
  },
  {
   "cell_type": "code",
   "execution_count": null,
   "metadata": {},
   "outputs": [],
   "source": [
    "from scipy.special import erf\n",
    "def scatteringKernel(Ep,Es,A=1,T=300):\n",
    "    \"\"\"Function to calculate the scattering probability for thermal neutrons\n",
    "    \n",
    "    Parameters\n",
    "    ----------\n",
    "    Ep : float\n",
    "        In-going neutron energy\n",
    "    Es : array-like\n",
    "        Out-going neutron energies\n",
    "    A : int\n",
    "        mass number (default=1)\n",
    "    T : float\n",
    "        temperature (default=300)\n",
    "        \n",
    "    \"\"\"\n",
    "    k=8.617333262145E-5 #Boltzmann constant eV/K\n",
    "    eta=(A+1)/(2*np.sqrt(A))\n",
    "    rho=(A-1)/(2*np.sqrt(A))\n",
    "    alpha=((A-1)/(A+1))**2\n",
    "    ps=[]\n",
    "    for E in Es:\n",
    "        if E<=Ep:\n",
    "            p=#complete the line\n",
    "            ps.append(p)\n",
    "        else:        \n",
    "            p=#complete the line\n",
    "            ps.append(p)\n",
    "    return np.array(ps)*Ep*(1-alpha)"
   ]
  },
  {
   "cell_type": "code",
   "execution_count": null,
   "metadata": {},
   "outputs": [],
   "source": [
    "%matplotlib inline\n",
    "k=8.617333262145E-5 #eV/K\n",
    "T=1200 #K\n",
    "\n",
    "for Ai in [1,2,12]:\n",
    "    plt.figure()\n",
    "    for i in [1,4,10,25]:\n",
    "        Ef=np.linspace(0,3*i*k*T,1000)\n",
    "        Ei=i*k*T\n",
    "        plt.plot(Ef/Ei,scatteringKernel(Ei,Ef,A=Ai,T=T),label='{}kT'.format(i))\n",
    "    plt.title('A = '+str(Ai))\n",
    "    plt.legend()\n",
    "    plt.xlabel(r'$E_{final}/E_{initial}$')\n",
    "    plt.ylabel(r'$\\sigma(E_{final}\\rightarrow E_{initial})E_{initial}(1-\\alpha)$')\n",
    "    plt.show()"
   ]
  }
 ],
 "metadata": {
  "kernelspec": {
   "display_name": "Python 3",
   "language": "python",
   "name": "python3"
  },
  "language_info": {
   "codemirror_mode": {
    "name": "ipython",
    "version": 3
   },
   "file_extension": ".py",
   "mimetype": "text/x-python",
   "name": "python",
   "nbconvert_exporter": "python",
   "pygments_lexer": "ipython3",
   "version": "3.7.3"
  }
 },
 "nbformat": 4,
 "nbformat_minor": 4
}
