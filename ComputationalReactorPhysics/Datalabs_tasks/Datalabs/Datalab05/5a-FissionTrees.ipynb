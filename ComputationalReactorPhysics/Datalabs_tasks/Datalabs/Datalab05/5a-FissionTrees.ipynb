{
 "cells": [
  {
   "cell_type": "markdown",
   "metadata": {},
   "source": [
    "# Fission chains and Monte Carlo methods\n",
    "\n",
    "Please indicate your name below, since you will need to submit this notebook completed latest the day after the datalab.\n",
    "\n",
    "Don't forget to save your progress during the datalab to avoid any loss due to crashes."
   ]
  },
  {
   "cell_type": "code",
   "execution_count": null,
   "metadata": {},
   "outputs": [],
   "source": [
    "name=''"
   ]
  },
  {
   "cell_type": "markdown",
   "metadata": {},
   "source": [
    "In this datalab we are going to cover two topics:\n",
    "\n",
    "1. Fission chain events: we are going to experiment with random \"neutron trees\" to have a more fundamental understanding of criticality. Then we will learn how to estimate the $k_{eff}$ of a system with Monte Carlo methods.\n",
    "2. Monte Carlo particle transport: in the previous datalab we have started to write functions to sample random collision sites, random angles, now we will go one step further, end put together our functions into a particle transport solver for a simple homogeneous geometry. Notice this part of the datalab is in a separate file called '5b-FixedSourceMC'.\n",
    "\n",
    "\n",
    "## Experiment 1\n",
    "\n",
    "You remember from the lectures that after a fission event a random number of neutrons emerge (the $\\nu$ value). First we will plot this distribution for thermal fission of U-235 with the `plt.bar()` function of matplotlib. Then you also remember from the previous datalab that such a discrete distribution can be sampled with the `np.random.choice()` function which requires a list of events, and a list giving the probabilities of these events. We will use this to sample some random number of neutrons from the discrete distribution of $\\nu$.\n",
    "\n",
    "The possible outcomes are given in list `nu` and the related probabilities in list `pnu`."
   ]
  },
  {
   "cell_type": "code",
   "execution_count": null,
   "metadata": {},
   "outputs": [],
   "source": [
    "import numpy as np\n",
    "import matplotlib.pyplot as plt\n",
    "\n",
    "nu=[0,1,2,3,4,5]\n",
    "pnu=[0.0296,0.1665,0.3427,0.2987,0.1275,0.035]\n",
    "\n",
    "plt.figure()\n",
    "#use plt.bar() to plot a bar histogram of the distribution\n",
    "plt.xlabel('Number of neutrons', fontsize=14)\n",
    "plt.ylabel('Probability',fontsize=14)\n",
    "plt.show()"
   ]
  },
  {
   "cell_type": "markdown",
   "metadata": {},
   "source": [
    "Now we will sample 1000 random $\\nu$ values from this distribution. Type `?np.random.choice` to see the documentation, and find out how to include the number of sampled. Visualize your \"empirical\" distribution with `plt.hist`."
   ]
  },
  {
   "cell_type": "code",
   "execution_count": null,
   "metadata": {},
   "outputs": [],
   "source": [
    "N=1000\n",
    "\n",
    "nus = #complete the line by calling np.random.choice\n",
    "\n",
    "plt.figure()\n",
    "#use plt.hist() to see the empirical distribution of nus. Change the number of bins if you think needed!\n",
    "plt.show()"
   ]
  },
  {
   "cell_type": "markdown",
   "metadata": {},
   "source": [
    "## Experiment 2\n",
    "\n",
    "We are going to generate random neutron trees now! A neutron has a probability `p` that it enters a reaction which can lead to the birth of new neutrons. Then, there is a certain probability that in the reaction more neutrons are created. We will describe this discrete probability distributions (like the one in Experiment 1).\n",
    "\n",
    "Below you find the `Neutron()` and `Tree()` classes. You do not need to modify these (but you are of course welcome to read through the code), they are only included in the notebook for transparency. First just execute the next code cell."
   ]
  },
  {
   "cell_type": "code",
   "execution_count": null,
   "metadata": {},
   "outputs": [],
   "source": [
    "class Neutron(object):\n",
    "    \"\"\"A neutron object\n",
    "    \n",
    "    Attributes\n",
    "    ----------\n",
    "    x : float\n",
    "        x-coordinate of neutron on the plot (which is basically the index of the generation it belongs to)\n",
    "    y : float\n",
    "        y-coordinate of neutron on the plot (this is a rather arbitrary number)\n",
    "    dead : bool\n",
    "        Bool to decide whether the neutron have died in a reaction not producing further neutrons\n",
    "    parent : Neutron() object\n",
    "        The parent of the neutron\n",
    "    \"\"\"\n",
    "    def __init__(self,x=0.0,y=0.0,parent=None):\n",
    "        self.id=None\n",
    "        self.x=x\n",
    "        self.y=y\n",
    "        self.dead=False\n",
    "        self.parent=parent\n",
    "\n",
    "class Tree(object):\n",
    "    \"\"\"Random neutron tree object. Attributes are not documented here. \n",
    "    \n",
    "    Parameters\n",
    "    ----------\n",
    "    p : float\n",
    "        Probability that a neutron survives\n",
    "    nufiss : tuple\n",
    "        Is the probability distribution of the number of neutrons created in fission.\n",
    "        Should be a tuple of two lists (first giving the number of neutrons after fission\n",
    "        and the second giving the probabilities)\n",
    "    nstart : int\n",
    "        Number of orignal neutrons\n",
    "    ngen : int\n",
    "        Number of generations to follow\n",
    "    yshift : float\n",
    "        distance of neutrons on the plot in the y direction.\n",
    "    \"\"\"\n",
    "    def __init__(self,p,nufiss,nstart,ngen,yshift=0.5):\n",
    "        self.p=p\n",
    "        self.nufiss=nufiss\n",
    "        self.nstart=nstart\n",
    "        self.ngen=ngen\n",
    "        self.yshift=yshift\n",
    "        self.generations=[[] for _ in range(ngen)]\n",
    "        self.generations[0]=[Neutron() for i in range(nstart)]\n",
    "        \n",
    "    def run(self):\n",
    "        \"\"\"Function to generate random neutron trees\"\"\"\n",
    "        for i in range(self.ngen-1):\n",
    "            for neutron in self.generations[i]:\n",
    "                r=np.random.random()\n",
    "                if self.p>r: #then it survives\n",
    "                    newBorn=np.random.choice(nufiss[0],p=nufiss[1])\n",
    "                    if newBorn==0: #then essentially it dies\n",
    "                        neutron.dead=True\n",
    "                    else:\n",
    "                        for _ in range(newBorn):\n",
    "                            newNeutron=Neutron(x=i+1,parent=neutron) #x is essentially the related generation's number\n",
    "                                                                     #if one would assume the time also x could reflect that\n",
    "                            self.generations[i+1].append(newNeutron)\n",
    "                else: #then it dies\n",
    "                    neutron.dead=True\n",
    "\n",
    "    def plot(self,showDead=True,aligned=False,out=None):\n",
    "        \"\"\"Function to plot random neutron trees\"\"\"\n",
    "        plt.figure()\n",
    "        for batch in self.generations[:-1]:#in the last batch all neutrons are still alive, so we don't plot them\n",
    "            for i,neutron in enumerate(batch): \n",
    "                if aligned:\n",
    "                    neutron.y=i*self.yshift-len(batch)*self.yshift/2\n",
    "                else:\n",
    "                    neutron.y=i*self.yshift\n",
    "                    \n",
    "                if showDead and neutron.dead:\n",
    "                    plt.plot(neutron.x,neutron.y,'rx')\n",
    "                    if neutron.parent is not None:\n",
    "                        plt.annotate(s='', xy=(neutron.parent.x,neutron.parent.y), \n",
    "                                 xytext=(neutron.x,neutron.y), arrowprops=dict(arrowstyle='<-'))\n",
    "                if (not neutron.dead):\n",
    "                    plt.plot(neutron.x,neutron.y,'ko')\n",
    "                    if neutron.parent is not None:\n",
    "                        plt.annotate(s='', xy=(neutron.parent.x,neutron.parent.y), \n",
    "                                 xytext=(neutron.x,neutron.y), arrowprops=dict(arrowstyle='<-'))\n",
    "        plt.yticks([])\n",
    "        if out is not None:\n",
    "            plt.savefig(out,dpi=300)\n",
    "        plt.show()"
   ]
  },
  {
   "cell_type": "markdown",
   "metadata": {},
   "source": [
    "Now we will create instances of `Tree()`. We will pass parameters when initiating an object to give the probability that a neutron enters a reaction leading to the splitting of the branch (`p`), the distribution of the number of new branches (`nufiss`), the number of neutron generation to follow (`ngen`) and the number of initiating neutrons (`nstart`). Then we call the method `Tree.run()` to generate a random neutron tree, and finally we call the method `Tree.plot()` to visualize the tree. The plotting method can have parameters, for example the bool `aligned` describes whether the tree should be centered, and the bool `showDead` controls whether neutrons not giving birth to further neutrons are plotted.\n",
    "\n",
    "Run the cell below several times, while changing the probability `p`. \n",
    "\n",
    "Try to investigate (only visually, you do not need to record actual numbers): \n",
    "- When does the tree die out, how does the number of neutrons change from generation to generation? \n",
    "- When does the number of neutrons diverge? Do the same `p` value always result in similar trees? \n",
    "- How could you define the multiplication factor $k$, and the criticality for this trees? \n",
    "\n",
    "Write few sentences about your findings in the cell below\n",
    "\n",
    "Some combinations of interest are: \n",
    "- medium `p` values with medium `nstart` values (eg. the default setting below)\n",
    "- low `p` values with large (<100) `nstart` values\n",
    "- large `p` values (cca. 0.7) with low `nstart` values.\n",
    "- you can modify `nufiss` as well, to define some other distribution. For example what happens if always a fixed number of neutrons are created?\n",
    "\n",
    "**Note #1** Of course this simple model is a very abstract representation of a fission chain reaction in a nuclear reactor. It allows us to have an understanding of the random natures of chain reactions. What is clearly missing from the model is the time it takes for a neutron to reach it's final location from it's birth location. This would mean that neutrons of the same generations would infact not synchronized in time.\n",
    "\n",
    "**Note #2** If the number of of neutrons are diverging (for example due to high `p`), then the computation time also diverges. Therefore, running the code with large `p` and for a large number of generations, the computation might never end, and the plotting of a lot of neutrons can be problematic! You can always interrupt the kernel (above in the menu you see a black rectangle, or select Interrupt under Kernel), if this happens."
   ]
  },
  {
   "cell_type": "code",
   "execution_count": null,
   "metadata": {},
   "outputs": [],
   "source": [
    "nu=[0,1,2,3,4,5]\n",
    "pnu=[0.0296,0.1665,0.3427,0.2987,0.1275,0.035]\n",
    "nufiss=(nu,pnu)\n",
    "\n",
    "p = 0.5\n",
    "tree=Tree(p,nufiss,ngen=10,nstart=10)\n",
    "tree.run()\n",
    "tree.plot(aligned=True,showDead=True)"
   ]
  },
  {
   "cell_type": "markdown",
   "metadata": {},
   "source": [
    "Change this cell to your conclusion!"
   ]
  },
  {
   "cell_type": "markdown",
   "metadata": {},
   "source": [
    "## Experiment 3\n",
    "\n",
    "From Experiment 2 we learnt a very important lesson about the simulation of fission chains: simulating supercritical systems is not straightforward, since in such systems the number of neutrons diverges. The terminology refers to this set of problems as \"Monte Carlo Eigenvalue calculation\", which means, Monte Carlo calculations intended to estimate the k-effective. \n",
    "\n",
    "The solution to this problem is to estimate the k-effective in cycles or batches (which is related to a neutron generation), and finally take an average of the k-effective estimate in each batch (see p37 of https://mcnp.lanl.gov/pdf_files/la-ur-16-29043.pdf). This means that we launch $N$ neutrons in a batch and we follow all of them. When they reach there location of death (either capture or fission) we sample how many neutrons they give birth to. Then from the number of new neutrons and the number of original neutrons we can estimate the k-effective. Then in the next batch we launch again $N$ neutrons. We repeat this until the uncertainty on the average of the k-effective estimates is acceptable. \n",
    "\n",
    "Now we will make such an estimation of the k-effective in our simple model. The parameters are the same as before (`p` is the probability of a neutron entering fission, and the number of emerging neutrons is given by a distribution). We will implement the following algorithm (given in pseufo code) to estimate k-effectice:\n",
    "\n",
    "```\n",
    "    keffs = []\n",
    "    for all batches:\n",
    "        Nnew = 0\n",
    "        for all neutrons in batch:\n",
    "            if neutron enters fission:\n",
    "                increment Nnew with the number of neutrons emerging from fission\n",
    "        k-effective estimate of batch = Nnew/(neutrons per batch)\n",
    "        append k-effective estimate to the list keffs\n",
    "    final k-effective estimate is mean(keffs)\n",
    "```\n",
    "\n",
    "Estimate the k-effective for couple of `p` values, try to find when the system is critical. Do you have an intuition what should be the value of `p`?\n",
    "\n",
    "**Note #1**: we provided two plots. The first one will plot the estimated k-effective for each batch. The second one calculates the rolling average of the k-effective values. This plot will highlight how the final k-effective estimate converges to the its real value.\n",
    "\n",
    "**Note #2**: in our simple model the location of the fission events is not tracked, however in a proper geometry one would also keep track of that: one would save the fission sites in a list called the \"bank\". Then, in the subsequent batches the new neutron source locations would be sampled from the bank. With this it can be ensured that source locations are sampled according to the spatial dependence of the fission rate. \n"
   ]
  },
  {
   "cell_type": "code",
   "execution_count": null,
   "metadata": {},
   "outputs": [],
   "source": [
    "nu=[0,1,2,3,4,5]\n",
    "pnu=[0.0296,0.1665,0.3427,0.2987,0.1275,0.035]\n",
    "\n",
    "p=0.5\n",
    "\n",
    "Nbatches=1000 #number of batches to be simulated\n",
    "npbatch=500   #number of neutrons per batch\n",
    "\n",
    "keffs=[]\n",
    "#Implement the algorithm here\n",
    "keff=np.mean(keffs)\n",
    "\n",
    "plt.figure()\n",
    "plt.plot(keffs)\n",
    "plt.title(r'$k_{eff}=%.2f \\pm %.2f$'%(np.mean(keffs),np.std(keffs)))\n",
    "plt.xlabel('Batch number')\n",
    "plt.ylabel('k-effective')\n",
    "plt.show()\n",
    "\n",
    "keffestimate=[np.mean(keffs[:i]) for i in range(1,len(keffs))]\n",
    "plt.figure()\n",
    "plt.plot(keffestimate)\n",
    "plt.ylabel('k-effective estimate')\n",
    "plt.xlabel('Batch number')\n",
    "plt.show()\n",
    "\n"
   ]
  },
  {
   "cell_type": "markdown",
   "metadata": {},
   "source": [
    "## Experiment 5\n",
    "\n",
    "It is very common that we would like to find the critical configuration of a reactor core, for example for a certain geometry we would like to know the boron content of the modarator at which the core will be critical. Such tasks are root finding/optimization/minimization problems. \n",
    "\n",
    "We will use now the `scipy.optimize.newton` method to find the probability `p` in the previous experiments at which our system is critical (although you might have already found it). Minimization is not a trivial task, espescially when the function which needs to be minimized includes noise (as the case is for our problem, since we saw the k-effective estimate does have uncertainties). We advice you to read further on the documentation of the various optimization algorithms.\n",
    "\n",
    "Take your previously developed code to estimate k-effective from Experiment 4, and place it in a function `keffestimator()`. You do not need to have the $\\nu$ distribution, the number of batches and the number of neutrons per batch as an input parameter for the function, you can \"hard-code\" them inside the function (although usually that is not adviced).\n",
    "\n",
    "Inspect how the `scipy.optimize.newton` method calls your function calls your function with different `p` values, and slowly converges to the critical value. \n",
    "\n",
    "Conclude what is the critical value of `p`, and what is your theoretical expectation?\n",
    "\n",
    "**Note**: the root finder has a tolarance value, and one could also set the maximum number of iterations. However, for this case we could only achieve a very low accuracy if we increased the Number of batches and number of neutrons. You do not need to increase the accuracy, the goal of this experiment is just to understand the principals of minimizing this function."
   ]
  },
  {
   "cell_type": "code",
   "execution_count": null,
   "metadata": {},
   "outputs": [],
   "source": [
    "def keffestimator(p):\n",
    "    \"\"\"Function to estimate the k-eff of a simple system\n",
    "    \n",
    "    Parameters\n",
    "    ----------\n",
    "    p : float\n",
    "        Probability that a neutron enters a fission reaction.\n",
    "    \"\"\"\n",
    "    #complete the function\n",
    "    print(p,keff)\n",
    "    return keff-1.0\n",
    "    \n",
    "\n",
    "from scipy.optimize import newton\n",
    "p_initialguess = 0.5\n",
    "res = newton(keffestimator,p_initialguess,tol=1e-3)\n",
    "print('Final critical p value found to be {}'.format(res))"
   ]
  },
  {
   "cell_type": "markdown",
   "metadata": {},
   "source": [
    "Change this cell to your conclusion!"
   ]
  },
  {
   "cell_type": "markdown",
   "metadata": {},
   "source": [
    "# Experiment 6\n",
    "\n",
    "We will now put together a Monte Carlo particle transport simulation for a Fixed-source problem based on our functions written during the previous datalab. You will need to open the notebook ´5b-FixedSourceMC.ipynb´."
   ]
  }
 ],
 "metadata": {
  "kernelspec": {
   "display_name": "Python 3",
   "language": "python",
   "name": "python3"
  },
  "language_info": {
   "codemirror_mode": {
    "name": "ipython",
    "version": 3
   },
   "file_extension": ".py",
   "mimetype": "text/x-python",
   "name": "python",
   "nbconvert_exporter": "python",
   "pygments_lexer": "ipython3",
   "version": "3.7.3"
  }
 },
 "nbformat": 4,
 "nbformat_minor": 4
}
