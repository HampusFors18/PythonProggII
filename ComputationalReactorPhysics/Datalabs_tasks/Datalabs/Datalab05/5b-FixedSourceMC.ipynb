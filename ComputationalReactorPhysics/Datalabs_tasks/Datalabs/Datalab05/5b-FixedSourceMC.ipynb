{
 "cells": [
  {
   "cell_type": "markdown",
   "metadata": {},
   "source": [
    "# Neutron transport in H slab\n",
    "\n",
    "Please indicate your name below, since you will need to submit this notebook completed latest the day after the datalab.\n",
    "\n",
    "Don't forget to save your progress during the datalab to avoid any loss due to crashes."
   ]
  },
  {
   "cell_type": "code",
   "execution_count": null,
   "metadata": {},
   "outputs": [],
   "source": [
    "name=''"
   ]
  },
  {
   "cell_type": "markdown",
   "metadata": {},
   "source": [
    "In this experiment we will put together our previous knowledge to track neutrons in a homogeneous medium filled with liquid hydrogen. We will track neutrons in 3-dimensions (although investigate the spatial dependence of the flux in 1 dimension only, and we will consider that the space is infinite in $y$ and $z$ directions, and finite in $x$). This is not a very realistic problem, and it is also not a practically relevant one, however it provides an excellent opportunity to us to see how the pieces of neutron transport can be put together. The reason is because the physics is very simple in this case, so our usual approximations are rather good:\n",
    "- there is only two reaction on H-1: scattering and capture\n",
    "- there are no resonances in the H-1 cross section.\n",
    "- scattering can be considered elastic and isotropic in CoM almost for every neutron energy\n",
    "- we consider that H atoms are at rest, so we do not need to consider any upscattering.\n",
    "- we even neglact any molecular bounds between H atoms.\n",
    "\n",
    "We are not going to write too much code here, because in fact we have already done most of the necessary preparation during the previous datalabs.\n",
    "\n",
    "We will consider that the density of the liquid is 0.07085 g/cm3, and there is a 3 MeV neutron point source placed at 3 MeV at $x=0.0,y=0.0,z=0.0$.\n",
    "\n",
    "Our goal will be to plot the trajectories of neutrons and to estimate the flux vs the x coordinate (although, one could argue that for a point source we should measure the flux vs the radial distance from the source)."
   ]
  },
  {
   "cell_type": "code",
   "execution_count": null,
   "metadata": {},
   "outputs": [],
   "source": [
    "import numpy as np\n",
    "import matplotlib.pyplot as plt"
   ]
  },
  {
   "cell_type": "markdown",
   "metadata": {},
   "source": [
    "##  XS\n",
    "\n",
    "### Microscopic  XS\n",
    "\n",
    "First we obtain the microscopic cross sections for scattering and capture. We can see that the scattering is nearly constant at epithermal energies, and the capture reaction is also very smooth. We can also notice that most of the reactions are going to be scattering reactions."
   ]
  },
  {
   "cell_type": "code",
   "execution_count": null,
   "metadata": {},
   "outputs": [],
   "source": [
    "xsscatter=np.loadtxt('05b-xs_Hscatter.dat',skiprows=2)\n",
    "Es=xsscatter[:,0]\n",
    "XSs=xsscatter[:,1]\n",
    "\n",
    "xscapture=np.loadtxt('05b-xs_Hcapture.dat',skiprows=2)\n",
    "Ec=xscapture[:,0]\n",
    "XSc=xscapture[:,1]\n",
    "\n",
    "plt.figure()\n",
    "plt.loglog(Es,XSs,label='scatter')\n",
    "plt.loglog(Ec,XSc,label='capture')\n",
    "plt.xlabel('Energy (eV)')\n",
    "plt.ylabel('XS (barn)')\n",
    "plt.legend()\n",
    "plt.show()"
   ]
  },
  {
   "cell_type": "markdown",
   "metadata": {},
   "source": [
    "### Macroscopic XS\n",
    "\n",
    "Now, we will multiply with the atom density to obtain the macroscopic cross sections.\n",
    "\n",
    "We will consider that our liquid is made of H atoms. Although, we know that it is not the case in reality."
   ]
  },
  {
   "cell_type": "code",
   "execution_count": null,
   "metadata": {},
   "outputs": [],
   "source": [
    "density = 0.07085 #g/cm3\n",
    "A = 1\n",
    "Numdens = density * 6.022E23 / A #let's ignore that it is H2 molecule\n",
    "\n",
    "MXSc= XSc * Numdens*1e-24\n",
    "MXSs= XSs * Numdens*1e-24"
   ]
  },
  {
   "cell_type": "markdown",
   "metadata": {},
   "source": [
    "## Path to next collision\n",
    "\n",
    "In the previous datalab we saw that\n",
    "\n",
    "$\\exp(-\\Sigma_t x)$ is the probability that a neutron moves a distance dx without any interaction.\n",
    "\n",
    "and \n",
    "\n",
    "$\\Sigma_t \\exp(-\\Sigma_t x)dx$ is the probability that the neutron has its interaction in dx.\n",
    "\n",
    "So\n",
    "\n",
    "$p(x)=\\Sigma_t \\exp(-\\Sigma_t x)$\n",
    "\n",
    "Thus\n",
    "\n",
    "$F(x)=1-\\exp(\\Sigma_tx)$\n",
    "\n",
    "If we take the inverse, to sample a random path\n",
    "\n",
    "$x=-\\frac{\\ln(1-r)}{\\Sigma_t}$\n",
    "\n",
    "but if r is uniform over $[0,1)$, than $1-r$ is also uniform over $[0,1)$, so this simplifies to\n",
    "\n",
    "$x=-\\frac{\\ln r}{\\Sigma_t}$\n",
    "\n",
    "**Note** speed is everything in MC calculations. Although here we don't tried to avoid every unecessary operation, but this example is just to highlight, that sometimes operations can be avoided with some reasoning.\n",
    "\n",
    "So we can define the `distanceToCollision` function to sample a distance between two collision sites."
   ]
  },
  {
   "cell_type": "code",
   "execution_count": null,
   "metadata": {},
   "outputs": [],
   "source": [
    "def distanceToCollision(SigT,N=1):\n",
    "    x=np.random.uniform(0,1,N)\n",
    "    return -np.log(x)/SigT"
   ]
  },
  {
   "cell_type": "markdown",
   "metadata": {},
   "source": [
    "Let's play a bit with this one. Between 1-10000 eV the scattering cross section is still more or less constant, and several order of magnitude larger than the capture cross section, so for these energies we do not expect to have large differences between mean free path. For faster energies (eg. 1 MeV) we see a longer distance."
   ]
  },
  {
   "cell_type": "code",
   "execution_count": null,
   "metadata": {},
   "outputs": [],
   "source": [
    "fig, axs = plt.subplots(2, 2, figsize=(10,7))\n",
    "fig.subplots_adjust(hspace=.7)\n",
    "fig.subplots_adjust(wspace=.3)\n",
    "for i,E in enumerate([1e0,1e2,1e4,1e6]):\n",
    "    SigS=np.interp(E,Es,MXSs) \n",
    "    SigC=np.interp(E,Ec,MXSc) \n",
    "    SigT=SigS+SigC\n",
    "    print('Energy: {} eV, Total XS: {} 1/cm'.format(E,SigT))\n",
    "    ds=distanceToCollision(SigT,10000)\n",
    "    axs[int(i>=2), i%2].hist(ds,50)\n",
    "    axs[int(i>=2), i%2].set_xlabel('distance between collision (cm)')\n",
    "    axs[int(i>=2), i%2].set_ylabel('occurance')\n",
    "    axs[int(i>=2), i%2].set_title(\n",
    "        '@%.1e eV is \\n Empirical mfp %.2f cm \\n Theoretical mfp is %.2f cm '%(E,np.mean(ds),1/SigT))"
   ]
  },
  {
   "cell_type": "markdown",
   "metadata": {},
   "source": [
    "## Reaction type\n",
    "\n",
    "The probability of reaction $i$ happening at energy $E$ is \n",
    "\n",
    "\\begin{equation}\n",
    "\\frac{\\Sigma_i(E)}{\\Sigma_t(E)}\n",
    "\\end{equation}\n",
    "\n",
    "In our example only two reactions might happen: scattering or capture, So a simple condition can be used to decide which happens. Note that function would not necessarily require $\\Sigma_t$. We also saw that `np.random.choice` could handle this for us."
   ]
  },
  {
   "cell_type": "code",
   "execution_count": null,
   "metadata": {},
   "outputs": [],
   "source": [
    "def reactionType(SigS,SigC,SigT): #TODO: more generic for any number of reactions.\n",
    "    x=np.random.uniform(0,1)\n",
    "    if x < SigS/SigT:\n",
    "        return 'scatter'\n",
    "    else:\n",
    "        return 'capture'"
   ]
  },
  {
   "cell_type": "markdown",
   "metadata": {},
   "source": [
    "## Scattering and directions\n",
    "\n",
    "During developing the theory of elastic scattering, we have assumed that scattering is isotropic in the Center-of-Mass frame, and we found a relation between the CM and LAB angles:\n",
    "\n",
    "\\begin{equation}\n",
    "\\tan \\theta_L = \\frac{\\sin \\theta_C}{\\frac{1}{A}+\\cos \\theta_C}\n",
    "\\end{equation}\n",
    "\n",
    "It was also derived how outcoming neutron energy depends on the incoming energy and the scattering cosine:\n",
    "\n",
    "\\begin{equation}\n",
    "E_f=\\Big[\\frac{(1+\\alpha)+(1-\\alpha)\\cos \\theta_C}{2}\\Big]E_i\n",
    "\\end{equation}\n",
    "\n",
    "Now we implement the `elasticScatter()` function which will sample the outgoing LAB energy for a neutron at a certain ingoing LAB energy."
   ]
  },
  {
   "cell_type": "code",
   "execution_count": null,
   "metadata": {},
   "outputs": [],
   "source": [
    "def elasticScatter(E):\n",
    "    muC=np.random.uniform(-1,1)\n",
    "    thetaC=np.arccos(muC)\n",
    "    E=(((1+alpha)+(1-alpha)*muC)/2)*E\n",
    "    thetaL=np.arctan2(np.sin(thetaC),((1/A)+muC))\n",
    "    muL=np.cos(thetaL)\n",
    "    return E, muL"
   ]
  },
  {
   "cell_type": "markdown",
   "metadata": {},
   "source": [
    "When the neutron is born we assume it is being emitted isotropically from the source, thus we need a function which samples random directions. For the random directions we have to keep in my, that it is not theta which is uniformly distributed, but the cosine of the angle, as we saw during the previous datalab.\n",
    "\n",
    "For transforming the directions we can use the following formulae (from https://docs.openmc.org/en/v0.10.0/methods/physics.html), which is just based on coordinate transformation.\n",
    "\n",
    "\\begin{equation}\n",
    "u' = \\mu u + \\frac{\\sqrt{1 - \\mu^2} ( uw \\cos\\phi - v \\sin\\phi )}{\\sqrt{1 -\n",
    "w^2}} \n",
    "\\end{equation}\n",
    "\\begin{equation}\n",
    "v' = \\mu v + \\frac{\\sqrt{1 - \\mu^2} ( vw \\cos\\phi + u \\sin\\phi )}{\\sqrt{1 -\n",
    "w^2}} \n",
    "\\end{equation}\n",
    "\\begin{equation}\n",
    "w' = \\mu w - \\sqrt{1 - \\mu^2} \\sqrt{1 - w^2} \\cos\\phi\n",
    "\\end{equation}"
   ]
  },
  {
   "cell_type": "code",
   "execution_count": null,
   "metadata": {},
   "outputs": [],
   "source": [
    "def randomDir():\n",
    "    mu=np.random.uniform(-1,1)\n",
    "    theta=np.arccos(mu)\n",
    "    phi=np.random.uniform(0,2*np.pi)\n",
    "\n",
    "    u=np.sin(theta)*np.cos(phi)\n",
    "    v=np.sin(theta)*np.sin(phi)\n",
    "    w=np.cos(theta)\n",
    "    return np.array([u,v,w])\n",
    "\n",
    "def transformDir(u,v,w,mu):\n",
    "    \"\"\"\n",
    "    transform coordinates according to openMC documentation.\n",
    "    TODO: could be updated to receive a direction array\n",
    "    \n",
    "    Parameters\n",
    "    ----------\n",
    "    u : float\n",
    "        Old x-direction\n",
    "    v : float\n",
    "        Old y-direction\n",
    "    w : float\n",
    "        Old z-direction\n",
    "    mu : float\n",
    "        Lab cosine of scattering angle\n",
    "    \"\"\"\n",
    "    phi=np.random.uniform(0,2*np.pi)\n",
    "    un=mu*u+(np.sqrt(1-mu**2)*(u*w*np.cos(phi)-v*np.sin(phi)))/(np.sqrt(1-w**2))\n",
    "    vn=mu*v+(np.sqrt(1-mu**2)*(v*w*np.cos(phi)+u*np.sin(phi)))/(np.sqrt(1-w**2))\n",
    "    wn=mu*w-np.sqrt(1-mu**2)*np.sqrt(1-w**2)*np.cos(phi)\n",
    "    return np.array([un,vn,wn])"
   ]
  },
  {
   "cell_type": "markdown",
   "metadata": {},
   "source": [
    "## Flux scoring\n",
    "\n",
    "The flux can be interpreted as the total distance traveled by neutrons in a volume. That said, it can be estimated by summing all the distances traveled by neutrons in a volume (this is called *track-length estimator*). However, in our case we would like to obtain the space dependence of the flux, thus the knowledge of traveled disctance in slices of the slab would be required. For which one needs to know where a certain particle crosses the surface dividing volumes. This is not a difficult task (one only needs to find the intersection of a line and a plane/surface), and for heterogeneous geometries (ie. which are built of regions filled with different materials) it is anyhow required to keep track of such events.\n",
    "\n",
    "However for the current demonstration we do not wish to implement such ray tracing methodology. For us the simpler choice is to use the definition of flux through the definition of reacton rates and use a *collision estimator*.\n",
    "\n",
    "$\\phi = \\frac{1}{W} \\sum_{i \\in C} \\frac{w_i}{\\Sigma_t (E_i)}$,\n",
    "\n",
    "where $w_i$ are the weights of the particles (at the time of the reaction), and $W$ is the total weight. This plays a role only in more advanced Monte Carlo methods. For us, always $w_i=1$, thus $W$ will be the number of simulated particles. So in fact we will need to add $1/N\\Sigma_t$ at every collision event, and in case we would like to get the spatial dependence of the flux, we can score this into some predefined space bins. The final value flux estimator will give the flux per source particle. If one is interested in the total physical flux, the results should be renormalized with the the source rate."
   ]
  },
  {
   "cell_type": "markdown",
   "metadata": {},
   "source": [
    "# Main\n",
    "\n",
    "Now it is time to put everything together! Let's break down neutron transport of one single neutron into a flowchart:\n",
    "\n",
    "![](05b-mainflowchartsmall.png)\n",
    "\n",
    "This needs to be repeated for the number of neutrons which allows us to get a converged estimate of the flux. The real value of MC based techniques is apparent: in case the trajectories are independent from each other, they can be evaluated in parallel (and to some extant this is true even when the trajectories are dependent such as for secondary neutrons emerging from fission events).\n",
    "\n",
    "For the moment we will not bother with functions or classes (although clearly it would make a much better code, just think about the elegance how we interacted with the `Tree` objects), but only plainly put this algorithm into code.\n",
    "\n",
    "We documented the program with comments below."
   ]
  },
  {
   "cell_type": "code",
   "execution_count": null,
   "metadata": {},
   "outputs": [],
   "source": [
    "from mpl_toolkits.mplot3d import Axes3D\n",
    "\n",
    "N=500\n",
    "D=100 #cm half width of the 1-dimensional slab\n",
    "E0=3e6 #eV\n",
    "A=1\n",
    "alpha=(A-1)**2/(A+1)**2\n",
    "\n",
    "#x coordinates and flux initialization\n",
    "#we will score in 201 bins along the x-axis\n",
    "x=np.linspace(-D,D,201)\n",
    "flux=np.zeros(len(x))\n",
    "\n",
    "\n",
    "#We create the canvas for a 3D plot of the trajectories\n",
    "fig = plt.figure(figsize=plt.figaspect(1.0)*1.5) #Adjusts the aspect ratio and enlarges the figure (text does not enlarge)\n",
    "ax = fig.gca(projection='3d')\n",
    "\n",
    "\n",
    "for i in range(N): #for every neutron\n",
    "    #we initializes lists to store the coordinates of the neutron along its trajectory\n",
    "    Xs=[]\n",
    "    Ys=[]\n",
    "    Zs=[]\n",
    "\n",
    "    #we initialize the neutron energy\n",
    "    E=E0\n",
    "    \n",
    "    #we sample a random source location on a plane x=0.0, y and z is between -500 and 500. This is an arbitrary choice\n",
    "    #we just picked a large number, considering that the slab is infinite in y and z direction.\n",
    "    #this would be a planar source: coord=np.array([0.0,np.random.uniform(-500.0,500.0),np.random.uniform(-500.0,500.0)]) #plate\n",
    "    coord=np.array([0.0,0.0,0.0]) #point source\n",
    "    \n",
    "    #we sample a random initial direction the neutron travels to\n",
    "    direction=randomDir()\n",
    "    \n",
    "    #now we track the neutron until it dies. We could pick a slighly higher energy condition than 0.0.\n",
    "    #in case more nuclides are present one needs an other step to sample nuclide\n",
    "    while E>0.0:\n",
    "        #GET the macroscopic cross sections at energy E\n",
    "        SigS=np.interp(E,Es,MXSs) \n",
    "        SigC=np.interp(E,Ec,MXSc)\n",
    "        SigT=SigS+SigC\n",
    "        #GET distance to collision\n",
    "        dist=distanceToCollision(SigT)\n",
    "        #STORE the locations for the trajectory\n",
    "        Xs.append(coord[0])\n",
    "        Ys.append(coord[1])\n",
    "        Zs.append(coord[2])\n",
    "        #COORDINATE OF NEXT COLLISION\n",
    "        coord=coord + dist*direction\n",
    "        #TYPE OF NEXT COLLISION\n",
    "        rtype=reactionType(SigS,SigC,SigT)\n",
    "        if np.abs(coord[0])>D:  #if the x coordinate is larger than the half width: leakage\n",
    "            break\n",
    "        elif rtype=='capture':\n",
    "            #if neutron captured we break out from the while loop\n",
    "            #and score to the flux estimator\n",
    "            flux[np.digitize(coord[0],x)]=flux[np.digitize(coord[0],x)]+1/SigT/N\n",
    "            break\n",
    "        else:\n",
    "            #if neutron scattered we score to the flux estimate\n",
    "            #and calculate the direction after the scattering event\n",
    "            flux[np.digitize(coord[0],x)]=flux[np.digitize(coord[0],x)]+1/SigT/N\n",
    "            E,muL=elasticScatter(E)\n",
    "            direction=transformDir(direction[0],direction[1],direction[2],muL)\n",
    "\n",
    "    #we plot the trajectory of the given neutron. We could store the trajectory as well for later use \n",
    "    #but we only do this for the first 100 neutrons, otherwise the figure would be to busy\n",
    "    if i<100:\n",
    "        ax.plot3D(Xs,Ys,Zs,label=str(i))\n",
    "\n",
    "#once all the neutrons are tracked we plot the trajectories and we plot the flux\n",
    "ax.set_xlabel('x')\n",
    "ax.set_ylabel('y')\n",
    "ax.set_zlabel('z')\n",
    "#plt.legend()\n",
    "ax.azim = 113\n",
    "ax.elev = 28\n",
    "plt.show()\n",
    "\n",
    "plt.figure()\n",
    "plt.plot(x,flux)\n",
    "plt.xlabel('x (cm)')\n",
    "plt.ylabel('flux (per source neutron)')\n",
    "plt.show()"
   ]
  },
  {
   "cell_type": "markdown",
   "metadata": {},
   "source": [
    "## Experiments\n",
    "\n",
    "Study what happens if you \n",
    "\n",
    "- increase the number of particles in the simulation (increase it by one order of magnitude, for more the calculation will take ages).\n",
    "- change the density of the medium\n",
    "- change the initial energy of the neutrons\n",
    "\n",
    "Conclude your findings!\n"
   ]
  },
  {
   "cell_type": "code",
   "execution_count": null,
   "metadata": {},
   "outputs": [],
   "source": []
  }
 ],
 "metadata": {
  "kernelspec": {
   "display_name": "Python 3",
   "language": "python",
   "name": "python3"
  },
  "language_info": {
   "codemirror_mode": {
    "name": "ipython",
    "version": 3
   },
   "file_extension": ".py",
   "mimetype": "text/x-python",
   "name": "python",
   "nbconvert_exporter": "python",
   "pygments_lexer": "ipython3",
   "version": "3.7.3"
  }
 },
 "nbformat": 4,
 "nbformat_minor": 4
}
