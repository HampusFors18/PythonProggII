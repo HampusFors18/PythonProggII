{
 "cells": [
  {
   "cell_type": "markdown",
   "metadata": {},
   "source": [
    "# OpenMC introduction\n",
    "\n",
    "Please indicate your name below, since you will need to submit this notebook completed latest the day after the datalab.\n",
    "\n",
    "Don't forget to save your progress during the datalab to avoid any loss due to crashes."
   ]
  },
  {
   "cell_type": "code",
   "execution_count": null,
   "metadata": {},
   "outputs": [],
   "source": [
    "name=''"
   ]
  },
  {
   "cell_type": "markdown",
   "metadata": {},
   "source": [
    "In our previous endeavours we experienced that performing an accurate simulation of particle transport is not trivial. There are several software being developped to solve this task, and for someone who is more interested in performing the analysis of a reactor core, it is often better to use an already verified and validated code instead of developping one from scratch. There are several such codes solving neutron transport either relying on deterministic or stochastic methods. During this datalab we will use a rather young code called openMC, which was originally developped at MIT.  \n",
    "\n",
    "OpenMC is a Monte Carlo neutron and photon transport simulation code. It can be used both for fixed source and for criticality calculations. The user can define complicated geometries with constructive solid geometries. OpenMC is written in C++, however it has a rich Python API, which will allow us to comminicate with the code through jupyter notebooks.\n",
    "\n",
    "OpenMC is not yet an industrial standard code, however our motivation to use it for this course was that it is \n",
    "\n",
    "1. freely available\n",
    "2. the important physics we could not tackle within this course ourselves (eg. thermal scattering and several reactions) are implemented in it\n",
    "3. since we can interact with the code through python, we can deepen our programming skills\n",
    "4. for small problems it runs relatively fast on a single PC\n",
    "\n",
    "That said, today we are going to walk through a simple openMC input file. During this course we will only work with pincell models (ie. a single fuel pin infinite in the axial length with reflective boundaries, so neutrons are reflected back from the geometry in this way approximating an infinite core). This is of course a simplification of a complete reactor core, but it will still allow us to see a lot of cool physics. One could of course perform simulations at the assembly level or for a full-core, however such simulations would be more time consuming. There are several further examples at https://docs.openmc.org/.\n",
    "\n",
    "**Note that this notebook should be opened from an environment where openmc is available!**\n",
    "\n",
    "## The input file\n",
    "\n",
    "During the datalab we will define the following problem which roughly matches a typical western-type pressurized water reactor's conditions:\n",
    "\n",
    "- PWR pincell with reflective boundaries\n",
    "- Fuel radius: 0.41 cm\n",
    "- Fuel material: enriched UO2 with density 10.5 g/cm3\n",
    "- Cladding inner/outer radius: 0.42/0.45 cm\n",
    "- Cladding material: zirconium  with density 6.6 g/cm3\n",
    "- Coolant/moderator: pressurized water with density 0.75 g/cm3\n",
    "- Cell pitch: 1.26 cm\n",
    "\n",
    "Note that in practice, PWR fuel cladding is made of an alloy called Zircaloy, nevertheless it has little influence on the neutron economy, therefore we will approximate it as pure zirconium with its natural abundence of isotopes.\n",
    "\n",
    "So what do we need in order to define an openMC input?\n",
    "\n",
    "1. Materials: which materials are included in our geometry (nuclide content, temperature, density)?\n",
    "2. Geometry: how does the geometry look like? \n",
    "3. Tally: what are the quantities of interest? For example flux, or fission rate?\n",
    "4. Settings: how many neutrons we would like to include in the calculation?\n",
    "\n",
    "For each of this steps we will use the python API to export an xml file, which the code will use once we execute it. Note however that one could directly write xml files without using python, and run the code outside of jupyter. For larger problems this is sometimes better. However we will want to analyse the output results in python, and sometimes we will script the input, so for us it is handy to use the python API.\n",
    "\n",
    "Let's get started!\n",
    "\n",
    "### Import\n",
    "\n",
    "We will need first to import openmc, and of course anything else we might need."
   ]
  },
  {
   "cell_type": "code",
   "execution_count": null,
   "metadata": {},
   "outputs": [],
   "source": [
    "import openmc\n",
    "import  numpy as np\n",
    "import matplotlib.pyplot as plt\n",
    "import os"
   ]
  },
  {
   "cell_type": "markdown",
   "metadata": {},
   "source": [
    "### Materials\n",
    "\n",
    "Do you remember the example `Material()` class we developped before? That is pretty similar to the `Material()` class of openMC. We create an instance of `Material()`, with a numeric id of the material, and then we can add nuclides, and set the density. We can also set the temperature (which can be 294 K, 600 K, 900 K, 1200 K, 1500 K, the temperatures at which the cross sections are evaluated). There are other options as well (for example one can directly set an enrichment), what you can find in the documentation.\n",
    "\n",
    "If the nuclide inventory is not relevant for a material, we can add elements, in which case openMC will assume the natural abundance of isotopes.\n",
    "\n",
    "Notice, that for water we will need to link to the $S(\\alpha,\\beta)$ laws, since we need to take into account the molecular bounds for scattering on hydrogen. \n",
    "\n",
    "Finally we create an instance of `Materials()` (note, it is plural now!), and link the materials of the problem to this object. Then with the `export_to_xml()` method we export the information into an xml file. "
   ]
  },
  {
   "cell_type": "code",
   "execution_count": null,
   "metadata": {},
   "outputs": [],
   "source": [
    "uo2 = openmc.Material(1, \"uo2\",temperature=1200)\n",
    "# Add nuclides to uo2\n",
    "uo2.add_nuclide('U235', 0.04)\n",
    "uo2.add_nuclide('U238', 0.96)\n",
    "uo2.add_nuclide('O16', 2.0)\n",
    "uo2.set_density('g/cm3', 10.5)\n",
    "\n",
    "\n",
    "#cladding\n",
    "zirconium = openmc.Material(2, \"zirconium\",temperature=900)\n",
    "zirconium.add_element('Zr', 1.0)\n",
    "zirconium.set_density('g/cm3', 6.6)\n",
    "\n",
    "#coolant\n",
    "water = openmc.Material(3, \"h2o\")\n",
    "water.add_nuclide('H1', 2.0)\n",
    "water.add_nuclide('O16', 1.0)\n",
    "water.set_density('g/cm3', 0.75)\n",
    "\n",
    "water.add_s_alpha_beta('c_H_in_H2O')\n",
    "\n",
    "#creating Materials() and exporting to xml\n",
    "mats = openmc.Materials([uo2, zirconium, water])\n",
    "mats.export_to_xml()"
   ]
  },
  {
   "cell_type": "markdown",
   "metadata": {},
   "source": [
    "We can print the content of the created xml file, with the linux command `cat`. (The `!` sign let's the python interpreter know that this is a command of the operating system.\n",
    "\n",
    "You can see how all the information was structured in an xml (which is probably familiar from the previous datalab).  "
   ]
  },
  {
   "cell_type": "code",
   "execution_count": null,
   "metadata": {},
   "outputs": [],
   "source": [
    "!cat materials.xml"
   ]
  },
  {
   "cell_type": "markdown",
   "metadata": {},
   "source": [
    "### Geometry\n",
    "\n",
    "Defining the geometry is only marginally more complicated. We will need to define surfaces (eg. `ZCylinder()`, `XPlane()`, and `YPlane()`), and regions bounded by the surfaces. Then we link the regions and the filling material to `Cell()` objects, which all have a numeric ID.  \n",
    "\n",
    "Our geometry is infinite in the axial dimension. First we define three cylinders (the bounding surfaces of the fuel, and the cladding). Then we use constuctive solid geometry rules to define the regions between the surfaces, and create the fuel pin. Finally we will define the water region around the fuel.\n",
    "\n",
    "We will then need to define a `Universe()` (the usefulness of this is not apparent in our simple exercise, but when defining reactor cores with repetitive patterns of various types of fuel assemblies, then \"universes\" is the way to handle this in most neutron transport code. You do not need to worry about this in this course). And finally we create a `Geometry()`, and link the universe. We will then Export the information into an xml file. \n",
    "\n",
    "We further commented the lines to explain them"
   ]
  },
  {
   "cell_type": "code",
   "execution_count": null,
   "metadata": {},
   "outputs": [],
   "source": [
    "fuel_or = openmc.ZCylinder(r=0.41) #fuel cylinder with outer radius\n",
    "clad_ir = openmc.ZCylinder(r=0.42) #clad inner cylinder with inner radius\n",
    "clad_or = openmc.ZCylinder(r=0.45) #clad outer cylinder with outer radius\n",
    "\n",
    "\n",
    "fuel_region = -fuel_or                #inside the fuel cylinder\n",
    "gap_region = +fuel_or & -clad_ir      #outside of fuel cylinder and inside of clad inner cylinder\n",
    "clad_region = +clad_ir & -clad_or     #outside of clad inner cylinder and inside of clad outer cylinder\n",
    "\n",
    "fuel = openmc.Cell(1, 'fuel')\n",
    "fuel.fill = uo2\n",
    "fuel.region = fuel_region\n",
    "\n",
    "#notice that for the gap between the fuel and the clad we do not need to link a material\n",
    "# we consider that there is void there (considering the low density of the filling gas this is a fair approximation)\n",
    "gap = openmc.Cell(2, 'air gap')\n",
    "gap.region = gap_region\n",
    "\n",
    "clad = openmc.Cell(3, 'clad')\n",
    "clad.fill = zirconium\n",
    "clad.region = clad_region\n",
    "\n",
    "\n",
    "\n",
    "pitch = 1.26\n",
    "#we define the x and y planes with boundary condition\n",
    "left = openmc.XPlane(x0=-pitch/2, boundary_type='reflective')\n",
    "right = openmc.XPlane(x0=pitch/2, boundary_type='reflective')\n",
    "bottom = openmc.YPlane(y0=-pitch/2, boundary_type='reflective')\n",
    "top = openmc.YPlane(y0=pitch/2, boundary_type='reflective')\n",
    "\n",
    "#outside of left and inside of right, outside of bottom, and inside of top and outside of clad outer cylinder\n",
    "water_region = +left & -right & +bottom & -top & +clad_or\n",
    "\n",
    "moderator = openmc.Cell(4, 'moderator')\n",
    "moderator.fill = water\n",
    "moderator.region = water_region\n",
    "\n",
    "root = openmc.Universe(cells=[fuel, gap, clad, moderator])\n",
    "\n",
    "geom = openmc.Geometry()\n",
    "geom.root_universe = root\n",
    "geom.export_to_xml()"
   ]
  },
  {
   "cell_type": "markdown",
   "metadata": {},
   "source": [
    "We can again inspect the xml file."
   ]
  },
  {
   "cell_type": "code",
   "execution_count": null,
   "metadata": {},
   "outputs": [],
   "source": [
    "!cat geometry.xml"
   ]
  },
  {
   "cell_type": "markdown",
   "metadata": {},
   "source": [
    "### Tally\n",
    "\n",
    "We can describe the physical quantities of interest with tallies. If no tally is defined the code will only calculate the k-effective.\n",
    "\n",
    "As we can see in the openMC documentation (in user's guide) a tally is quantity defined as\n",
    "\n",
    "\\begin{equation}\n",
    "X = \\underbrace{\\int d\\mathbf{r} \\int d\\mathbf{\\Omega} \\int\n",
    "dE}_{\\text{filters}} \\underbrace{f(\\mathbf{r}, \\mathbf{\\Omega},\n",
    "E)}_{\\text{scores}} \\psi (\\mathbf{r}, \\mathbf{\\Omega}, E)\n",
    "\\end{equation}\n",
    "\n",
    "For example if function $f()$ would be unity, we would score the flux in a certain part of the phase space. If function $f()$ is a macroscopic cross section, we would score reaction rates.\n",
    "\n",
    "Therefore we have to specify two things for a tally, which is created with a `Tally()` object:\n",
    "\n",
    "1. *filters*: which part of the phase space we would like score at (for example only a certain part of the geometry is of interest, or certain energy bins)?\n",
    "2. *scores*: what is the physical quantity of interest (for example flux, fission rate etc)\n",
    "\n",
    "You can find a detailed documentation of the available scores and filters in the documentation.\n",
    "\n",
    "Once the tallies are defined, we will need to link them into a `Tallies()` object, and export an xml file.\n",
    "\n",
    "In the following code block we define three tallies.\n",
    "\n",
    "1. an energy spectrum and the fission rate vs energy in the fuel\n",
    "2. an energy spectrum tally in the moderator\n",
    "3. a Mesh tally along the x-axis to tally the spatial dependence of the flux with three energy groups (thermal: 0-1eV, epithermal: 1eV-100keV, fast: 100keV-20MeV)\n",
    "\n",
    "The reason why we tally the fission rate as well in the 1st tally is to see how openMC will store the results. "
   ]
  },
  {
   "cell_type": "code",
   "execution_count": null,
   "metadata": {},
   "outputs": [],
   "source": [
    "# Tally 1: energy spectrum in fuel\n",
    "cell_filter1 = openmc.CellFilter(fuel)\n",
    "energybins=np.logspace(-2,7,1001) #1000 bins between 1e-2 eV and 1e7 eV\n",
    "energy_filter = openmc.EnergyFilter(energybins)\n",
    "\n",
    "t1 = openmc.Tally(1)\n",
    "t1.filters = [cell_filter1,energy_filter]\n",
    "t1.scores = ['flux','fission']\n",
    "\n",
    "# Tally 2: energy spectrum in moderator\n",
    "# we can use the same energy_filter as before\n",
    "cell_filter2 = openmc.CellFilter(moderator)\n",
    "\n",
    "t2 = openmc.Tally(2)\n",
    "t2.filters = [cell_filter2,energy_filter]\n",
    "t2.scores = ['flux']\n",
    "\n",
    "# Tally 3: mesh tally in dimension x in three energy groups\n",
    "energy_filter2 = openmc.EnergyFilter([0., 1, 100e3, 20.0e6])\n",
    "myMesh=openmc.Mesh(name='xmesh')\n",
    "myMesh.dimension=[100] #number of spatial bins along x axis\n",
    "myMesh.lower_left=[-pitch/2]\n",
    "myMesh.upper_right=[pitch/2]\n",
    "mesh_filter = openmc.MeshFilter(myMesh)\n",
    "\n",
    "t3 = openmc.Tally(3)\n",
    "t3.filters = [mesh_filter,energy_filter2]\n",
    "t3.scores = ['flux']\n",
    "\n",
    "\n",
    "\n",
    "tallies = openmc.Tallies([t1,t2,t3])\n",
    "tallies.export_to_xml()"
   ]
  },
  {
   "cell_type": "markdown",
   "metadata": {},
   "source": [
    "We can inspect the xml file."
   ]
  },
  {
   "cell_type": "code",
   "execution_count": null,
   "metadata": {},
   "outputs": [],
   "source": [
    "!cat tallies.xml"
   ]
  },
  {
   "cell_type": "markdown",
   "metadata": {},
   "source": [
    "### Settings\n",
    "\n",
    "There are some parameters we will need to set: we have to include the original source location and specify the number of batches and particles per batches for the criticality mode calculation. We also have to specify the number of \"inactive\" batches (these cycles are used to spread the fission source over the geometry, but the scores are still biased due to the original source not describing the geometry correctly). \n",
    "\n",
    "Since we have no better guess for the moment, we will place the source first in the center of the geometry. The number of batches and particles are set that the results are reasonably accurate. If you wanted to have more accurate results you could increase these numbers, if you wanted to have shorter calculations, you could decrease these numbers.\n",
    "\n",
    "Again, the instance of the `Setting()` object is exported to xml."
   ]
  },
  {
   "cell_type": "code",
   "execution_count": null,
   "metadata": {},
   "outputs": [],
   "source": [
    "point = openmc.stats.Point((0, 0, 0))\n",
    "src = openmc.Source(space=point)\n",
    "\n",
    "settings = openmc.Settings()\n",
    "settings.source = src\n",
    "settings.batches = 100\n",
    "settings.inactive = 10\n",
    "settings.particles = 5000\n",
    "settings.export_to_xml()"
   ]
  },
  {
   "cell_type": "code",
   "execution_count": null,
   "metadata": {},
   "outputs": [],
   "source": [
    "!cat settings.xml"
   ]
  },
  {
   "cell_type": "markdown",
   "metadata": {},
   "source": [
    "## Plotting the geometry\n",
    "\n",
    "There are several ways of plotting the geometry. The simplest inline plotting option is to call the `plot()` method of the `Universe()` object (in our case this was called `root`). This is a wrapper of matplotlib. However, there is a more advanced options by setting up an instance of the `Plot()` class, and running openMC directly to generate a plot. Since in this course we work with a rather simple geometry, we will not look at the advanced plotting option, but you are welcome to check the user's guide."
   ]
  },
  {
   "cell_type": "code",
   "execution_count": null,
   "metadata": {},
   "outputs": [],
   "source": [
    "root.plot()"
   ]
  },
  {
   "cell_type": "markdown",
   "metadata": {},
   "source": [
    "## Calculation\n",
    "\n",
    "Finally, we are done, and nothing left just to run openMC, and wait for the results. For this we have to specify where the cross section files are (this we could do in the system as well). And then call the `openmc.run()` method. And you immedietly see how the k-effective is being estimated.\n",
    "\n",
    "**Note 1**: The results are being stored in a file named 'statepoint.100.h5' (100 refers to the number of batches), also a 'summary.h5' and some other files are created. Sometimes openMC is complaining if there are already existing h5 files, so in this case we can remove (`rm`) these files. For this we make a system call with `os.system`, to remove any file for which the name starts with 's' and ands with 'h5'. Nevertheless, be careful with removing files, not to loose data. \n",
    "\n",
    "**Note 2**: Sometimes the python API breaks for no apparent reason, you can just restart the kernel, if that happens. "
   ]
  },
  {
   "cell_type": "code",
   "execution_count": null,
   "metadata": {},
   "outputs": [],
   "source": [
    "import os\n",
    "os.system('rm s*h5')\n",
    "\n",
    "openmc.run()"
   ]
  },
  {
   "cell_type": "markdown",
   "metadata": {},
   "source": [
    "## Post-processing\n",
    "\n",
    "Alright, we did our calculation, we even so that some k-effective values were printed, but we still haven't seen any more results. For this we will need to read in the statepoint file. We will read this file into an object called `sp`. If we hit TAB while typing `sp.` we can review the available methods and attributes. For example we can get the final k-effective as below."
   ]
  },
  {
   "cell_type": "code",
   "execution_count": null,
   "metadata": {},
   "outputs": [],
   "source": [
    "sp = openmc.StatePoint('statepoint.100.h5')\n",
    "sp.k_combined"
   ]
  },
  {
   "cell_type": "markdown",
   "metadata": {},
   "source": [
    "And the values we can access for further processing or plotting:"
   ]
  },
  {
   "cell_type": "code",
   "execution_count": null,
   "metadata": {},
   "outputs": [],
   "source": [
    "keff=sp.k_combined.nominal_value\n",
    "keff_error=sp.k_combined.std_dev\n",
    "print(keff,keff_error)"
   ]
  },
  {
   "cell_type": "markdown",
   "metadata": {},
   "source": [
    "The tallies are stored in a dictionary where the keys are the numeric IDs we defined previously:"
   ]
  },
  {
   "cell_type": "code",
   "execution_count": null,
   "metadata": {},
   "outputs": [],
   "source": [
    "sp.tallies"
   ]
  },
  {
   "cell_type": "markdown",
   "metadata": {},
   "source": [
    "We can convert the tally results into pandas dataframes. So at the end we have a nice table, for each energy bin there is a row for the flux and a row for the fission rate. If we prefer we can split the dataframe based on conditions to store separately the flux and the fission rate. For this we can apply conditions as we have seen during the previous datalabs.\n",
    "\n",
    "The results are stored in the 'mean' column."
   ]
  },
  {
   "cell_type": "code",
   "execution_count": null,
   "metadata": {},
   "outputs": [],
   "source": [
    "tallydf1=sp.tallies[1].get_pandas_dataframe()\n",
    "tallydf1.head() #prints the first 5 rows"
   ]
  },
  {
   "cell_type": "code",
   "execution_count": null,
   "metadata": {},
   "outputs": [],
   "source": [
    "tallydf1flux=tallydf1[tallydf1['score']=='flux']\n",
    "tallydf1fiss=tallydf1[tallydf1['score']=='fission']\n",
    "tallydf1flux.head()"
   ]
  },
  {
   "cell_type": "markdown",
   "metadata": {},
   "source": [
    "Let's plot these results."
   ]
  },
  {
   "cell_type": "code",
   "execution_count": null,
   "metadata": {},
   "outputs": [],
   "source": [
    "energy=(tallydf1flux['energy low [eV]']+tallydf1flux['energy high [eV]'])/2\n",
    "plt.figure()\n",
    "plt.loglog(energy,tallydf1flux['mean'])\n",
    "plt.xlabel('energy (eV)')\n",
    "plt.ylabel('Group flux per source particle')\n",
    "plt.show()\n"
   ]
  },
  {
   "cell_type": "markdown",
   "metadata": {},
   "source": [
    "These of course does not look like the spectrum we saw during the lecture. But here actually each value is not the flux at a certain energy, but the integral of the flux between energies. If we divide the integral flux with the width of the bins (`deltaE`) we get the more familiar shape for the spectrum.\n",
    "\n",
    "We can clearly see the Maxwellien thermal component, the 1/E part with the self-shielding effect of the resonances, and the Watt-spectrum at high energies.\n",
    "\n",
    "The very first \"negative\" peak is due to the 6.67 eV resonance of U-238."
   ]
  },
  {
   "cell_type": "code",
   "execution_count": null,
   "metadata": {},
   "outputs": [],
   "source": [
    "deltaE=(tallydf1flux['energy high [eV]']-tallydf1flux['energy low [eV]'])\n",
    "plt.figure()\n",
    "plt.loglog(energy,tallydf1flux['mean']/deltaE,lw=2)\n",
    "\n",
    "plt.ylabel('Spectrum per source particle (1/eV)')\n",
    "plt.xlabel('Energy (eV)')\n",
    "plt.show()"
   ]
  },
  {
   "cell_type": "markdown",
   "metadata": {},
   "source": [
    "Now it is your turn to plot the spectrum in the moderator (preferable include both the fuel and the moderator spectrum on the same figure). You will need to `get_pandas_dataframe` from tally 2, and then plot the results. Compare with the spectrum in the fuel, what is the most noticable difference?"
   ]
  },
  {
   "cell_type": "code",
   "execution_count": null,
   "metadata": {},
   "outputs": [],
   "source": [
    "# your code comes here"
   ]
  },
  {
   "cell_type": "markdown",
   "metadata": {},
   "source": [
    "Your conclusion comes here."
   ]
  },
  {
   "cell_type": "markdown",
   "metadata": {},
   "source": [
    "Finally, we can look at the spatial dependence of the flux. We read in the 3rd tally. Try to split the dataset according to the energy groups and plot the flux vs x-coordinate for the three energy groups separately. Normalize each curve by their maximum, so they are comparable.\n",
    "\n",
    "Conclude your findings!"
   ]
  },
  {
   "cell_type": "code",
   "execution_count": null,
   "metadata": {},
   "outputs": [],
   "source": [
    "tallydf3=sp.tallies[3].get_pandas_dataframe()\n",
    "tallydf3.head()"
   ]
  },
  {
   "cell_type": "code",
   "execution_count": null,
   "metadata": {},
   "outputs": [],
   "source": [
    "# your code comes here"
   ]
  },
  {
   "cell_type": "markdown",
   "metadata": {},
   "source": [
    "Your conclusion comes here!"
   ]
  },
  {
   "cell_type": "markdown",
   "metadata": {},
   "source": [
    "## Experiment time!\n",
    "\n",
    "If time permits, modify your input, and see how the results change. Points of interest:\n",
    "\n",
    "- Change the void content (ie. decrease the moderator density), and observe how the k-eff changes. What happens with the spectrum?\n",
    "- What is the impact if you change the UO2 temperature on k-eff?\n",
    "- What is the impact of increasing the pitch of the pincell?\n",
    "\n",
    "You can also take a look at the third home assignments, where you will need to implement various geometries in openMC, and already give it a try."
   ]
  },
  {
   "cell_type": "code",
   "execution_count": null,
   "metadata": {},
   "outputs": [],
   "source": []
  }
 ],
 "metadata": {
  "kernelspec": {
   "display_name": "openmc-env",
   "language": "python",
   "name": "openmc-env"
  },
  "language_info": {
   "codemirror_mode": {
    "name": "ipython",
    "version": 3
   },
   "file_extension": ".py",
   "mimetype": "text/x-python",
   "name": "python",
   "nbconvert_exporter": "python",
   "pygments_lexer": "ipython3",
   "version": "3.9.2"
  }
 },
 "nbformat": 4,
 "nbformat_minor": 4
}
