{
 "cells": [
  {
   "cell_type": "markdown",
   "metadata": {},
   "source": [
    "# OpenMC: Scripting\n",
    "\n",
    "Please indicate your name below, since you will need to submit this notebook completed latest the day after the datalab.\n",
    "\n",
    "Don't forget to save your progress during the datalab to avoid any loss due to crashes."
   ]
  },
  {
   "cell_type": "code",
   "execution_count": null,
   "metadata": {},
   "outputs": [],
   "source": [
    "name=''"
   ]
  },
  {
   "cell_type": "markdown",
   "metadata": {},
   "source": [
    "**Note** you will need to run jupyter from an environment where openMC is available in order to run this notebook!\n",
    "\n",
    "During the first openMC datalab we have covered the basics, and covered how to write a basic input, how to run it and how to post-process the results. Today we go one step further and will explore the real power of the python API. Namely, that we can automatize calculations simply by defining a function which creates the input for us. Then we can write loops and automatically update our model. For this we will use the `Model()` class of openMC. This basically means that instead of exporting all the details of the run into xml, openMC will take care of this, when we call the `.run()` method of the class.\n",
    "\n",
    "We will learn about\n",
    "\n",
    "- the built in criticality search functionality of openMC (which is a wrapper for the scipy.optimization methods).\n",
    "- write our own script to determine the void-coefficient change of the LWR pincell at various fuel to moderator ratio\n",
    "- will write a tally to investigate the fuel utilization factor and the resonance escape probability.\n",
    "\n",
    "Let's get started with doing the necessary imports!"
   ]
  },
  {
   "cell_type": "code",
   "execution_count": 1,
   "metadata": {},
   "outputs": [],
   "source": [
    "import openmc\n",
    "import openmc.model\n",
    "import numpy as np\n",
    "import matplotlib.pyplot as plt\n",
    "import os"
   ]
  },
  {
   "cell_type": "markdown",
   "metadata": {},
   "source": [
    "## Experiment 1\n",
    "\n",
    "First we will calculate the boron concentration at which the k-infinity of the pincell is 1.2. For a finite core, of course usually we would like to know the critical boron content, but now we have reflective boundaries, so for the demonstration we aim for higher than 1.0 multiplication factor.\n",
    "\n",
    "First, we will define the `pincell()` function. The expressions inside this function are probably similar from the previous datalab. We only did some small changes:\n",
    "- we have decreased the number of particles per batch: although we will have a worse accuracy, but we will need to run this input several times, so it is not sustainable to use the datalab for waiting the calculations to finish\n",
    "- we have not included a numeric ID for the `Material()` instances. In this case openMC will increment the ID number. Since in these examples we do not use the IDs for anything, we can live without controlling it. (If we kept the ID, openMC would send a warning all the time that the ID was already in used. It is a warning, so not an error, but still annoying).\n",
    "- we have added a small amount of boron to the water (in reality boric acid is added to the water)\n",
    "- we have removed the calls to the `export_to_xml()` methods.\n",
    "- since we removed the tallies, we included `settings.output = {'tallies': False}` (this is to make sure that in case a 'tallies.xml' file is present from an other run it is not used)\n",
    "- finally, at the end we create an instance `model = openmc.model.Model(geom, mats, settings)` and return it."
   ]
  },
  {
   "cell_type": "code",
   "execution_count": 2,
   "metadata": {},
   "outputs": [],
   "source": [
    "def pincell(bppm):\n",
    "    uo2 = openmc.Material(name=\"uo2\",temperature=1200)\n",
    "    # Adding nuclides to uo2\n",
    "    uo2.add_nuclide('U235', 0.04)\n",
    "    uo2.add_nuclide('U238', 0.96)\n",
    "    uo2.add_nuclide('O16', 2.0)\n",
    "    uo2.set_density('g/cm3', 10.5)\n",
    "\n",
    "\n",
    "    #cladding\n",
    "    zirconium = openmc.Material(name=\"zirconium\",temperature=900)\n",
    "    zirconium.add_element('Zr', 1.0)\n",
    "    zirconium.set_density('g/cm3', 6.6)\n",
    "\n",
    "    #coolant\n",
    "    water = openmc.Material(name=\"h2o\")\n",
    "    water.add_nuclide('H1', 2.0)\n",
    "    water.add_nuclide('O16', 1.0)\n",
    "    water.set_density('g/cm3', 0.74)\n",
    "    #THIS IS THE IMPORTANT NEW LINE COMPARED TO BEFORE!\n",
    "    water.add_element('B', bppm*1e-6) \n",
    "    ###################################################\n",
    "    water.add_s_alpha_beta('c_H_in_H2O')\n",
    "\n",
    "    mats = openmc.Materials([uo2, zirconium, water])\n",
    "\n",
    "\n",
    "    fuel_or = openmc.ZCylinder(r=0.41) #fuel cylinder with outer radius\n",
    "    clad_ir = openmc.ZCylinder(r=0.42) #clad inner cylinder with inner radius\n",
    "    clad_or = openmc.ZCylinder(r=0.45) #clad outer cylinder with outer radius\n",
    "\n",
    "    fuel_region = -fuel_or                #inside the fuel cylinder\n",
    "    gap_region = +fuel_or & -clad_ir      #outside of fuel cylinder and inside of clad inner cylinder\n",
    "    clad_region = +clad_ir & -clad_or     #outside of clad inner cylinder and inside of clad outer cylinder\n",
    "\n",
    "    fuel = openmc.Cell(name='fuel')\n",
    "    fuel.fill = uo2\n",
    "    fuel.region = fuel_region\n",
    "\n",
    "    gap = openmc.Cell(name='air gap')\n",
    "    gap.region = gap_region\n",
    "\n",
    "    clad = openmc.Cell(name='clad')\n",
    "    clad.fill = zirconium\n",
    "    clad.region = clad_region\n",
    "\n",
    "    pitch = 1.26\n",
    "    #we define the x and y planes with boundary condition\n",
    "    left = openmc.XPlane(x0=-pitch/2, boundary_type='reflective')\n",
    "    right = openmc.XPlane(x0=pitch/2, boundary_type='reflective')\n",
    "    bottom = openmc.YPlane(y0=-pitch/2, boundary_type='reflective')\n",
    "    top = openmc.YPlane(y0=pitch/2, boundary_type='reflective')\n",
    "\n",
    "    #outside of left and inside of right, outside of bottom, and inside of top and outside of clad outer cylinder\n",
    "    water_region = +left & -right & +bottom & -top & +clad_or\n",
    "\n",
    "    moderator = openmc.Cell(name='moderator')\n",
    "    moderator.fill = water\n",
    "    moderator.region = water_region\n",
    "\n",
    "    root = openmc.Universe(cells=(fuel, gap, clad, moderator))\n",
    "\n",
    "    geom = openmc.Geometry()\n",
    "    geom.root_universe = root\n",
    "\n",
    "    point = openmc.stats.Point((0, 0, 0))\n",
    "    src = openmc.Source(space=point)\n",
    "\n",
    "    settings = openmc.Settings()\n",
    "    settings.source = src\n",
    "    settings.batches = 100\n",
    "    settings.inactive = 10\n",
    "    settings.particles = 500\n",
    "    settings.output = {'tallies': False}\n",
    "\n",
    "    model = openmc.model.Model(geom, mats, settings)\n",
    "    return model"
   ]
  },
  {
   "cell_type": "markdown",
   "metadata": {},
   "source": [
    "Now we can perform the find the boron concentration at which the multiplication factor is 1.2. This is a fairly similar root finding what we have done in datalab 5. In fact, if you look into the [source code](https://docs.openmc.org/en/stable/_modules/openmc/search.html#search_for_keff) of `openmc.search_for_keff` you will see that the function wraps the methods of scipy.optimize. \n",
    "\n",
    "We will need to pass as an input the function `pincell`, we can specify the lower and upper bound of the boron content, and set the tolerance. The search will need some time, so while you wait you can start reading the next experiment!"
   ]
  },
  {
   "cell_type": "code",
   "execution_count": 3,
   "metadata": {},
   "outputs": [
    {
     "name": "stdout",
     "output_type": "stream",
     "text": [
      "Iteration: 1; Guess of 2.00e+03 produced a keff of 1.25129 +/- 0.00426\n",
      "Iteration: 2; Guess of 3.50e+03 produced a keff of 1.17553 +/- 0.00403\n",
      "Iteration: 3; Guess of 2.75e+03 produced a keff of 1.21427 +/- 0.00501\n",
      "Iteration: 4; Guess of 3.12e+03 produced a keff of 1.19374 +/- 0.00390\n",
      "Iteration: 5; Guess of 2.94e+03 produced a keff of 1.20029 +/- 0.00445\n",
      "Iteration: 6; Guess of 3.03e+03 produced a keff of 1.20272 +/- 0.00383\n",
      "Iteration: 7; Guess of 3.08e+03 produced a keff of 1.19711 +/- 0.00441\n",
      "Iteration: 8; Guess of 3.05e+03 produced a keff of 1.19597 +/- 0.00419\n",
      "Critical Boron Concentration: 3055 ppm\n"
     ]
    }
   ],
   "source": [
    "os.system('rm *h5')\n",
    "crit_ppm, guesses, keffs = openmc.search_for_keff(pincell, target=1.2, bracket=[2000., 3500.],\n",
    "                                                  tol=1e-2, print_iterations=True)\n",
    "\n",
    "print('Critical Boron Concentration: {:4.0f} ppm'.format(crit_ppm))"
   ]
  },
  {
   "cell_type": "markdown",
   "metadata": {},
   "source": [
    "We can visualize the guesses by the optimization algorithm, and see how the boron content converged to the correct amount."
   ]
  },
  {
   "cell_type": "code",
   "execution_count": 4,
   "metadata": {},
   "outputs": [
    {
     "data": {
      "image/png": "[encoded data removed]",
      "text/plain": [
       "<Figure size 432x288 with 1 Axes>"
      ]
     },
     "metadata": {
      "needs_background": "light"
     },
     "output_type": "display_data"
    }
   ],
   "source": [
    "plt.figure()\n",
    "for g,k in zip(guesses,keffs):\n",
    "    plt.scatter(g,k.nominal_value,color='k')\n",
    "plt.xlabel('boron content (ppm)')\n",
    "plt.xlabel('k-inf')\n",
    "plt.scatter(crit_ppm,1.2,color='r')\n",
    "plt.show()"
   ]
  },
  {
   "cell_type": "markdown",
   "metadata": {},
   "source": [
    "## Experiment 2\n",
    "\n",
    "During the lectures we have learnt about the reactivity feedback coefficients. Today we are going to investigate the void coefficient for various moderator to fuel ratios. The moderator to fuel ratio which can be defined in the rectangular pincell as\n",
    "\n",
    "$$mfr=\\frac{p^2-r_{clad}^2\\pi}{r_{fuel}\\pi}$$\n",
    "\n",
    "can be simply modified by changing the pitch $p$.\n",
    "\n",
    "The void constant of the fuel can be modified by changing the density of the coolant. We can use the following simple relationship:\n",
    "\n",
    "$$\\rho_{coolant}=\\rho_0(1-void[\\%]/100)$$\n",
    "\n",
    "where $\\rho_0=0.74$ g/cm3. In practice, of course we will never obtain a zero density even for a fully voided core. Also, it is worth mentioning that void levels investigated here are never reached in normal operations for a PWR, but are however the nominal levels for a BWR. Nevertheless, the goal of the exercise is not to investigate exact reactor operation scenarios, rather to provide a physicist insight for understanding how significantly lowering the density of the moderator affects the multiplication factor.\n",
    "\n",
    "First create a `pincell()` function where the user can modify the pitch and the void content. The function should return a `Model()` object. (You do not need to include boron in the coolant for this exercise)."
   ]
  },
  {
   "cell_type": "code",
   "execution_count": null,
   "metadata": {},
   "outputs": [],
   "source": [
    "def pincell(pitch,void):\n",
    "    #Complete the function\n",
    "    return model"
   ]
  },
  {
   "cell_type": "markdown",
   "metadata": {},
   "source": [
    "If a model is created with the pincell, it can be run with openMC with \n",
    "\n",
    "```python\n",
    "    mod = pincell(1.26,0.0)\n",
    "    output = mod.run()\n",
    "```\n",
    "\n",
    "where the `output` variable will contain the path to the state point file.\n",
    "\n",
    "Now we will call this function in a loop for several pitch values and then as a nested loop for three void values for each moderator to fuel ratio. Since the code will create the statepoint files with the same name, make sure that you store the quantity of interest (for example in arrays). At each moderator to fuel ratio you can perform a fit to estimate the void-coefficient (it can be a linear fit, considering that we will have only three values to fit for).\n",
    "\n",
    "Note that in case the computation seems to be slow, you should not use more than 500 particles per batch (you should get reasonably good results with 500 particles as well).\n",
    "\n",
    "Reminder: the statepoint files can be read with `sp = openmc.StatePoint(pathtofile)`, and the multiplication factor accessed with `sp.k_combined.nominal_value`.   "
   ]
  },
  {
   "cell_type": "code",
   "execution_count": null,
   "metadata": {},
   "outputs": [],
   "source": [
    "from scipy.optimize import curve_fit\n",
    "\n",
    "os.system('rm *h5')\n",
    "\n",
    "pitch=[0.95,1.05,1.15,1.25,1.35,1.45,1.55,1.65,1.75,1.85,1.95,2.05]#,2.15,2.25,2.35,2.45,2.55,2.65,2.75,2.85,2.95]\n",
    "void=[0,25,50]\n",
    "\n",
    "#initialize lists to store results\n",
    "for pi in pitch:\n",
    "    #initialize list to store keff values\n",
    "    for v in void:\n",
    "        #your code to call the pincell, run it, and store the k-effective comes here\n",
    "        os.system('rm %s'%output)\n",
    "        os.system('rm summary.h5')\n",
    "    #your code to estimate the void-coefficient from a linear fit. and to store the data"
   ]
  },
  {
   "cell_type": "markdown",
   "metadata": {},
   "source": [
    "Alright, now we have the k-eigenvalue for several pitch and void values, and we have the void coefficient for several pitch values. It is time to visualize them somehow. Try to create a figure which shows the void coefficient vs the moderator to fuel ratio and an other figure which shows the k-eigenvalue vs the moderator to fuel ratio for each void levels.\n",
    "\n",
    "Conclude your findings: how would you design a reactor core? which moderator to fuel ratio would you select?"
   ]
  },
  {
   "cell_type": "code",
   "execution_count": null,
   "metadata": {},
   "outputs": [],
   "source": [
    "mfr=#your code comes here\n",
    "\n",
    "plt.figure()\n",
    "#your code comes here to visualize the void coefficient vs moderator to fuel ratio\n",
    "plt.show()\n",
    "\n",
    "plt.figure()\n",
    "#your code comes here to visualize the k-eigenvalue vs moderator to fuel ratio\n",
    "plt.show()"
   ]
  },
  {
   "cell_type": "markdown",
   "metadata": {},
   "source": [
    "Change this line to your conclusion!"
   ]
  },
  {
   "cell_type": "markdown",
   "metadata": {},
   "source": [
    "## Experiment 3\n",
    "\n",
    "Wow, we saw some interesting curve there, the k-infinity firts increased with increasing the pitch and then it started to to decrease. Intuitively one expects that there are two competing physical phenonema at play here. And our intuition is correct. If you remember the 4-factor formula, there were two quantities there which are of interest for us now to figure out why does the k-infinity change like this with the increasing pitch. And these two quantities are:\n",
    "\n",
    "**Resonance escape probability**: probability for fast neutrons to slow-down to thermal energies without being absorbed in the resonance region of absorbers\n",
    "\n",
    "$$p=1-\\frac{\\int_{V_{f}} \\int_{\\sim 5kT}^\\infty \\Sigma_a(r,E)\\phi(r,E)dVdE}{\\int_{V_{f}} \\int_0^{\\infty} \\nu(E)\\Sigma_f(r,E)\\phi(r,E)dVdE}$$\n",
    "\n",
    "\n",
    "**Thermal utilization factor**: the ratio of the number of thermal neutrons absorbed in the fuel and the number of thermal neutrons absorbed in all materials\n",
    "\n",
    "$$f=\\frac{\\int_{V_{f}} \\int_0^{\\sim 5kT} \\Sigma_a(r,E)\\phi(r,E)dVdE}{\\int_{V_{t}} \\int_0^{\\sim 5kT} \\Sigma_a(r,E)\\phi(r,E)dVdE}$$\n",
    "\n",
    "The nominators and the denominators look like a lot the expression we used to define the tallies. The \"scores\" here are absorption, and nu-fission and the filters are the energy bounds and the spatial regions. So let's add these tallies to our `pincell()` function (for the tallies we will need to fix the ID, since we will refer to them later):"
   ]
  },
  {
   "cell_type": "code",
   "execution_count": null,
   "metadata": {},
   "outputs": [],
   "source": [
    "def pincell(pitch):\n",
    "    #your input comes here, you can remove the void from your previous function\n",
    "    #tallies\n",
    "    T=1200\n",
    "    k=8.617333262145e-5\n",
    "    energy_filter = openmc.EnergyFilter([0., 5*k*T, 20.0e6])\n",
    "    fuel_filter = openmc.CellFilter(fuel)\n",
    "    moderator_filter = openmc.CellFilter(moderator)\n",
    "    tally1 = openmc.Tally(1)\n",
    "    tally1.filters = [fuel_filter,energy_filter]\n",
    "    tally1.scores = ['absorption','nu-fission']\n",
    "    \n",
    "    tally2 = openmc.Tally(2)\n",
    "    tally2.filters = [moderator_filter,energy_filter]\n",
    "    tally2.scores = ['absorption']\n",
    "    tallies = openmc.Tallies([tally1, tally2])\n",
    "    model = openmc.model.Model(geom, mats, settings,tallies)\n",
    "    return model"
   ]
  },
  {
   "cell_type": "markdown",
   "metadata": {},
   "source": [
    "Now we just have to figure out how to compute $p$ and $f$ from the tallies. First it is best to remind ourselves how to load in the tally results, and you can do some trial and error to figure out these values. Let's run a computation with our model."
   ]
  },
  {
   "cell_type": "code",
   "execution_count": null,
   "metadata": {},
   "outputs": [],
   "source": [
    "os.system('rm *h5')\n",
    "mod=pincell(1.26)\n",
    "output = mod.run()"
   ]
  },
  {
   "cell_type": "markdown",
   "metadata": {},
   "source": [
    "And now load in the tallies. And from there you can perform the necessary operations to obtain $p$ and $f$."
   ]
  },
  {
   "cell_type": "code",
   "execution_count": null,
   "metadata": {},
   "outputs": [],
   "source": [
    "sp = openmc.StatePoint(output)\n",
    "tallydf1 = sp.tallies[1].get_pandas_dataframe()\n",
    "tallydf1"
   ]
  },
  {
   "cell_type": "code",
   "execution_count": null,
   "metadata": {},
   "outputs": [],
   "source": [
    "sp = openmc.StatePoint(output)\n",
    "tallydf2 = sp.tallies[2].get_pandas_dataframe()\n",
    "tallydf2"
   ]
  },
  {
   "cell_type": "code",
   "execution_count": null,
   "metadata": {},
   "outputs": [],
   "source": [
    "#test here how p and f should be estimated"
   ]
  },
  {
   "cell_type": "markdown",
   "metadata": {},
   "source": [
    "Once we know how to get these quantities we can loop through several pitch values to see how they change with the moderator to fuel ratio!"
   ]
  },
  {
   "cell_type": "code",
   "execution_count": null,
   "metadata": {},
   "outputs": [],
   "source": [
    "pitch=[0.95,1.05,1.15,1.25,1.35,1.45,1.55,1.65,1.75,1.85,1.95,2.05,2.15,2.25,2.35,2.45,2.55,2.65,2.75,2.85,2.95]\n",
    "os.system('rm *h5')\n",
    "keff=[]\n",
    "p=[]\n",
    "f=[]\n",
    "for pi in pitch:\n",
    "    #create a model\n",
    "    #run the model\n",
    "    #read the statepoint file and the tallies\n",
    "    keff.append#complete the line\n",
    "    p.append#complete the line\n",
    "    f.append#complete the line\n",
    "    os.system('rm *h5')"
   ]
  },
  {
   "cell_type": "markdown",
   "metadata": {},
   "source": [
    "Finally we are ready to visualize our results and then conclude our findings. Try to summarize with few words the underlying physics what we just discovered here."
   ]
  },
  {
   "cell_type": "code",
   "execution_count": null,
   "metadata": {},
   "outputs": [],
   "source": [
    "mfr=#complete the line\n",
    "\n",
    "plt.figure()\n",
    "plt.plot(mfr,keff,label='k-inf')\n",
    "plt.plot(mfr,p,label='p')\n",
    "plt.plot(mfr,f,label='f')\n",
    "plt.legend()\n",
    "plt.xlabel('Moderator to fuel ratio')\n",
    "plt.show()\n"
   ]
  },
  {
   "cell_type": "markdown",
   "metadata": {},
   "source": [
    "Change this line to your conclusions!"
   ]
  }
 ],
 "metadata": {
  "kernelspec": {
   "display_name": "openmc-env",
   "language": "python",
   "name": "openmc-env"
  },
  "language_info": {
   "codemirror_mode": {
    "name": "ipython",
    "version": 3
   },
   "file_extension": ".py",
   "mimetype": "text/x-python",
   "name": "python",
   "nbconvert_exporter": "python",
   "pygments_lexer": "ipython3",
   "version": "3.9.2"
  }
 },
 "nbformat": 4,
 "nbformat_minor": 4
}
