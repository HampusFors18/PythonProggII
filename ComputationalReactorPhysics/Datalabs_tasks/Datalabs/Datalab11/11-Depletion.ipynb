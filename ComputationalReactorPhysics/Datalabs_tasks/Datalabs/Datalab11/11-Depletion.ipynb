{
 "cells": [
  {
   "cell_type": "markdown",
   "metadata": {},
   "source": [
    "# Fuel depletion\n",
    "\n",
    "Please indicate your name below, since you will need to submit this notebook completed latest the day after the datalab.\n",
    "\n",
    "Don't forget to save your progress during the datalab to avoid any loss due to crashes."
   ]
  },
  {
   "cell_type": "code",
   "execution_count": null,
   "metadata": {},
   "outputs": [],
   "source": [
    "name=''"
   ]
  },
  {
   "cell_type": "markdown",
   "metadata": {},
   "source": [
    "During this datalab we will investigate how the fuel changes during the reactor operation. For this we will use openmc's `deplete` module. OpenMC solves the transport problem with a Monte Carlo approach to obtain reaction rates, and then the Batemen-equations are solved with these reaction rates. Nevertheless, the coupling between the depletion and the transport calculation is not a trivial task, there are various coupling schemes to do so. Within this datalab we do not look into depth of various coupling techniques, and we will just use the most default settings.\n",
    "\n",
    "In order to achieve an accurate depletion study one needs to have as many time steps when the depletion equations are solved as possible, due to this, burnup calculations are time consuming, espescially when based on Monte Carlo transport solvers. During this datalab we will focus on the phenomena and on qualitative results, therefore we will not care about accuracy. That said we will use only few particles per batch, and very long depletion steps. We will also neglect downtime periods (when the reactor is not operating).\n",
    "\n",
    "The lab is going to have two experiments.\n",
    "\n",
    "1. We will use our good old PWR pincell model to investigate how the neutron spectrum, the k-eigenvalue and the nuclide concentrations change over time\n",
    "2. We will build a graphite moderated, natural uranium fuelled reactor's pincell model to estimate the Plutonium production. This is already part of your last home assignment, so don't feel stressed to finish it today.\n",
    "\n",
    "Let's get started.\n",
    "\n",
    "## Experiment 1\n",
    "\n",
    "First we will define the same PWR pincell model as in the previous datalabs. The only newly added feature here is that we set the `volume` attribute for the object `uo2`. This is necessary for burnup calculations. Since we have an axially infinite pin, we only gave the cross sectional area of the pin.\n",
    "\n",
    "You can execute the code below. And you can already execute the next code block, because it takes some time to run. During that time you can do the reading."
   ]
  },
  {
   "cell_type": "code",
   "execution_count": null,
   "metadata": {},
   "outputs": [],
   "source": [
    "import openmc\n",
    "import math\n",
    "import os\n",
    "import numpy as np\n",
    "import matplotlib.pyplot as plt\n",
    "\n",
    "uo2 = openmc.Material(1, \"uo2\", temperature=1200)\n",
    "# Add nuclides to uo2\n",
    "uo2.add_nuclide('U235', 0.04)\n",
    "uo2.add_nuclide('U238', 0.96)\n",
    "uo2.add_nuclide('O16', 2.0)\n",
    "uo2.set_density('g/cm3', 10.5)\n",
    "uo2.volume = math.pi * 0.41 ** 2\n",
    "\n",
    "zirconium = openmc.Material(2, \"zirconium\", temperature=900)\n",
    "zirconium.add_element('Zr', 1.0)\n",
    "zirconium.set_density('g/cm3', 6.6)\n",
    "\n",
    "water = openmc.Material(3, \"h2o\")\n",
    "water.add_nuclide('H1', 2.0)\n",
    "water.add_nuclide('O16', 1.0)\n",
    "water.set_density('g/cm3', 0.75)\n",
    "water.add_s_alpha_beta('c_H_in_H2O')\n",
    "\n",
    "\n",
    "\n",
    "mats = openmc.Materials([uo2, zirconium, water])\n",
    "mats.export_to_xml()\n",
    "\n",
    "fuel_or = openmc.ZCylinder(r=0.41)\n",
    "clad_ir = openmc.ZCylinder(r=0.42)\n",
    "clad_or = openmc.ZCylinder(r=0.45)\n",
    "\n",
    "\n",
    "\n",
    "fuel_region = -fuel_or\n",
    "gap_region = +fuel_or & -clad_ir\n",
    "clad_region = +clad_ir & -clad_or\n",
    "\n",
    "fuel = openmc.Cell(1, 'fuel')\n",
    "fuel.fill = uo2\n",
    "fuel.region = fuel_region\n",
    "\n",
    "gap = openmc.Cell(2, 'air gap')\n",
    "gap.region = gap_region\n",
    "\n",
    "clad = openmc.Cell(3, 'clad')\n",
    "clad.fill = zirconium\n",
    "clad.region = clad_region\n",
    "\n",
    "pitch = 1.26\n",
    "left = openmc.XPlane(x0=-pitch/2, boundary_type='reflective')\n",
    "right = openmc.XPlane(x0=pitch/2, boundary_type='reflective')\n",
    "bottom = openmc.YPlane(y0=-pitch/2, boundary_type='reflective')\n",
    "top = openmc.YPlane(y0=pitch/2, boundary_type='reflective')\n",
    "\n",
    "water_region = +left & -right & +bottom & -top & +clad_or\n",
    "\n",
    "moderator = openmc.Cell(4, 'moderator')\n",
    "moderator.fill = water\n",
    "moderator.region = water_region\n",
    "\n",
    "root = openmc.Universe(cells=(fuel, gap, clad, moderator))\n",
    "\n",
    "geom = openmc.Geometry()\n",
    "geom.root_universe = root\n",
    "geom.export_to_xml()\n",
    "\n",
    "\n",
    "cell_filter = openmc.CellFilter(fuel)\n",
    "energybins=np.logspace(-2,7,500)\n",
    "energy_filter = openmc.EnergyFilter(energybins)\n",
    "\n",
    "t = openmc.Tally(1)\n",
    "t.filters = [cell_filter,energy_filter]\n",
    "t.scores = ['flux']\n",
    "tallies = openmc.Tallies([t])\n",
    "tallies.export_to_xml()\n",
    "point = openmc.stats.Point((0, 0, 0))\n",
    "src = openmc.Source(space=point)\n",
    "\n",
    "settings = openmc.Settings()\n",
    "settings.source = src\n",
    "settings.batches = 100\n",
    "settings.inactive = 10\n",
    "settings.particles = 500\n",
    "settings.export_to_xml()"
   ]
  },
  {
   "cell_type": "markdown",
   "metadata": {},
   "source": [
    "Now, instead of just running the code as before, we will set up the depletion calculation. For further details you can visit the [documentation](https://docs.openmc.org/en/stable/usersguide/depletion.html). We will need to do several things:\n",
    "\n",
    "1. define an `Operator()` object, which will be our transport operator. Here we link the geometry and the settings objects.\n",
    "2. within the operator we provide the location of the depletion chain we would like to use. OpenMC provides some [pre-generated chains](https://openmc.org/depletion-chains/). This is used for the depletion solver to set up the Batemen-equations.\n",
    "3. we define a power or a power density (below we defined the power density in W/gHeavyMetal)\n",
    "4. we define the depletion steps. This we can give in time or in burnup units, below 8 steps are given each are 5 MWd/kgU.\n",
    "5. Then we define an integrator (the scheme how the transport and the depletion is coupled). OpenMC provides other more accurate, and more demanding schemes, which you can find in the documentation.\n",
    "6. Finally we call the `integrate()` method of the integrator. This will run the simulation.\n",
    "\n",
    "By default openMC is going to deplete every material which contains fissionable isotopes.\n",
    "\n",
    "(**Note**, in case you have difficulties with running the problem -which might happen with the virtual machine and limited computational resources-, then you can find the output files in the '/results' folder, you only need to modify the path in the code blocks below)"
   ]
  },
  {
   "cell_type": "code",
   "execution_count": null,
   "metadata": {},
   "outputs": [],
   "source": [
    "import openmc.deplete\n",
    "import os\n",
    "\n",
    "operator = openmc.deplete.Operator(geom, settings, '/home/rfp/Depletion_chains/chain_casl_pwr.xml')\n",
    "\n",
    "powdens = 27.39726 #W/gHM; this power density corresponds to 10MWd/kgHM burnup over one year\n",
    "\n",
    "\n",
    "burnup_steps = np.array([5,5,5,5,5,5,5,5])\n",
    "\n",
    "integrator = openmc.deplete.PredictorIntegrator(operator, timesteps=burnup_steps,\n",
    "                                                power_density=powdens,timestep_units='MWd/kg')\n",
    "integrator.integrate()"
   ]
  },
  {
   "cell_type": "markdown",
   "metadata": {},
   "source": [
    "If you list the contents of the folder, you can see that several several h5 output files were created. Some are called 'openmc_simulation_nN.h5 (where N is the index of the depletion step, 0 stand for zero burnup). These files contain the tally results. We had only one tally this time with id 1.\n",
    "\n",
    "Let's plot the group flux per source particle for the 0th step (fresh fuel) and for the 8th step (40 MWd/kgU). Do you notice any change? If yes, what do you think what is the reason for that?"
   ]
  },
  {
   "cell_type": "code",
   "execution_count": null,
   "metadata": {},
   "outputs": [],
   "source": [
    "import matplotlib.pyplot as plt\n",
    "plt.figure()\n",
    "for i in [0,8]:\n",
    "    #print('openmc_simuation_n%d.h5'%i)\n",
    "    sp = openmc.StatePoint('openmc_simulation_n%d.h5'%i)\n",
    "    tallydf=sp.tallies[1].get_pandas_dataframe()\n",
    "    plt.loglog((tallydf['energy low [eV]']+tallydf['energy high [eV]'])/2,tallydf['mean'],label=str(i))\n",
    "plt.xlabel('Energy (eV)')\n",
    "plt.ylabel('Group flux per particle')\n",
    "plt.xlim(1e-2,1e7)\n",
    "#plt.ylim(1e-3,1) \n",
    "plt.legend()\n",
    "plt.show()"
   ]
  },
  {
   "cell_type": "markdown",
   "metadata": {},
   "source": [
    "Change this line to your conclusion!"
   ]
  },
  {
   "cell_type": "markdown",
   "metadata": {},
   "source": [
    "There is also an other new file named 'depletion_results.h5'. This file contains the nuclide inventory and the k-eigenvalues during the burnup (and also some other quantities, which you can list by hitting tab on `results.`).\n",
    "\n",
    "We will load the results into the variable `results`, and use the `get_eigenvalue()` method to read in the k-eigenvalue. The change of the k-infinity value with burnup is often referred to as reactivity swing. \n",
    "\n",
    "Of course in practice the decrease of reactivity due to depletion is compensated (for example by decreasing the boron content of the coolant during the reactor cycle)."
   ]
  },
  {
   "cell_type": "code",
   "execution_count": null,
   "metadata": {},
   "outputs": [],
   "source": [
    "results = openmc.deplete.ResultsList.from_hdf5(\"./depletion_results.h5\")\n",
    "time, k = results.get_eigenvalue()\n",
    "time /= (24 * 60 * 60)  # convert back to days from seconds\n",
    "\n",
    "\n",
    "plt.errorbar(time, k[:, 0], yerr=k[:, 1])\n",
    "plt.xlabel('Time [d]')\n",
    "plt.ylabel('$k_{eff}$')\n",
    "plt.show()"
   ]
  },
  {
   "cell_type": "markdown",
   "metadata": {},
   "source": [
    "Now with the `get_atoms()` we will load in the atom concentration of nuclides. The `\"1\"` refers to material with ID 1 (the fuel). We will set the unit to atom/barn-cm (which is can be converted to atom/cm3 by multiplying the value with $10^{24}$; one can also convert to g/cm3 with some mind work). \n",
    "\n",
    "(Note that the variable name `_time` begins with an underscore, this is to highlight, that we already have a `time` array with converted time units which we intend to use, therefore the we will store the time information provided by `get_atoms()` in a dummy array not intended to be used later)\n",
    "\n",
    "Go ahead, and do the same for couple of other nuclides, for example Pu239, or Cs137. What do you think, why is Cs137 a good indicator of burnup?\n"
   ]
  },
  {
   "cell_type": "code",
   "execution_count": null,
   "metadata": {},
   "outputs": [],
   "source": [
    "_time, u5 = results.get_atoms(\"1\", \"U235\",nuc_units='atom/b-cm') #we call it _time, because we already have a time variable in the correct day units which we intend to use\n",
    "\n",
    "plt.figure()\n",
    "plt.plot(time, u5, label=\"U235\")\n",
    "plt.xlabel(\"Time [d]\")\n",
    "plt.ylabel(\"Atom concentration (atom/b-cm)\")\n",
    "plt.show()"
   ]
  },
  {
   "cell_type": "markdown",
   "metadata": {},
   "source": [
    "Change this line to your conclusion!"
   ]
  },
  {
   "cell_type": "markdown",
   "metadata": {},
   "source": [
    "# Experiment 2\n",
    "\n",
    "Note, that this is home assignment HA3-3, thus you will not need to submit this part the day after the datalab, also you should modify HA3-3.ipynb instead.\n",
    "\n",
    "A hypothetical dictatorship is desperately trying to build a nuclear weapon. Several years ago they have managed to acquire the design of a graphite moderated, CO2 cooled, natural uranium fuelled reactor. Your country's intelligence agency asked you to estimate the amount of plutonium the reactor produced in the previous years. You will need to make a pincell model of the reactor, and perform a depletion calculation.\n",
    "\n",
    "The following information is available to you:\n",
    "\n",
    "The fuel pin is made of UAl (density is 18.167 g/cm3) with the following atomic percentage:\n",
    "- U235  0.00707444999\n",
    "- U238  0.98792555\n",
    "- Al27  0.005  \n",
    "\n",
    "The cladding is made of a mixture of Magnesium and Aluminium (density is 1.738 g/cm3), with the following weight fractions:\n",
    "- Mg 0.99\n",
    "- Al27 0.01\n",
    "(Note that you can add Mg as an element, and you can set weight fractions instead of atomic with `add_element('Mg',0.99,percent_type='wo')`) \n",
    "\n",
    "The fuel is cooled with CO2, however you know that due to its low density you can neglect it for now.\n",
    "\n",
    "The moderator is made of graphite (density is 1.7 g/cm3). For this you can `add_nuclide('C0',1)` and set the thermal scattering laws with `add_s_alpha_beta('c_Graphite')`.\n",
    "\n",
    "The geometry is the following:\n",
    "- fuel outer radius is 1.45 cm\n",
    "- clad outer radius is 1.5 cm (there is no gap between the clad and the fuel)\n",
    "- the coolant channel outer radius is 3.25 cm\n",
    "- outside the coolant we have the graphite moderator\n",
    "- the pitch of the pincell is 20.0 cm.\n",
    "\n",
    "The active core height is 52 cm, and there are 8120 such pincells in the reactor.\n",
    "\n",
    "You know from your intel, that the reactor was running for 1785 continous days (which you can simulate with eight 223.125 days long steps) with a power density of 0.336 W/gHM. \n",
    "\n",
    "1. Create the openMC model for the pincell (you do not need to include any tallies)\n",
    "2. Perform a depletion calculation\n",
    "3. Look at the change of the k-eigenvalue over time, just because you are a curious reactor physicist\n",
    "4. Estimate the total mass of Pu-239 at the end of the 1785 days operation (in kg)\n",
    "5. Calculate the Plutonium-vector (the weight% of Pu-238, Pu-239, Pu-240, Pu-241, Pu-242 in the total amount of plutonium), to see whether the material would qualify as weapon grade or reactor grade plutonium (for this read up on weapon and reactor grade plutonium!).\n",
    "\n",
    "(Note, in case you have difficulties with running the problem -which might happen with the virtual machine and limited computational resources-, then you can find the output files in the '/results' folder. Nevertheless, you still need to implement the geometry, run a simple k-eigenvalue calculation and create a plot of the geometry to show that your implementation is working. But then you can use the available output for processing)."
   ]
  }
 ],
 "metadata": {
  "kernelspec": {
   "display_name": "openmc-env",
   "language": "python",
   "name": "openmc-env"
  },
  "language_info": {
   "codemirror_mode": {
    "name": "ipython",
    "version": 3
   },
   "file_extension": ".py",
   "mimetype": "text/x-python",
   "name": "python",
   "nbconvert_exporter": "python",
   "pygments_lexer": "ipython3",
   "version": "3.9.2"
  }
 },
 "nbformat": 4,
 "nbformat_minor": 5
}
