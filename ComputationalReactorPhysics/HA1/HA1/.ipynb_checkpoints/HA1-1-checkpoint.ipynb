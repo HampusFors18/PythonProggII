{
 "cells": [
  {
   "cell_type": "markdown",
   "metadata": {},
   "source": [
    "# Home assigment 1\n",
    "\n",
    "Please give your name below:"
   ]
  },
  {
   "cell_type": "code",
   "execution_count": null,
   "metadata": {},
   "outputs": [],
   "source": [
    "name='Hampus Naumanen'"
   ]
  },
  {
   "cell_type": "markdown",
   "metadata": {},
   "source": [
    "## Exercise 1\n",
    "\n",
    "In nature Uranium is commonly available in the form of two isotopes: $^{235}U$ and $^{238}U$. Let us define Uranium enrichment as:\n",
    "\\begin{equation}\n",
    "\\epsilon= \\frac{N_{^{235}U}}{N_{^{235}U}+N_{^{238}U}}\n",
    "\\end{equation}\n",
    "\n",
    "where $N$ indicates the number of atoms in a given volume. The half-lives are $4.51 \\times 10^9$ and $7.13 \\times 10^8$ yr for $^{238}U$ and $^{235}U$, respectively. Today, the natural enrichment is $0.72 \\%$, whereas a typical LWR fuel has an enrichment of $2-5 w\\%$. It is notable that in the past natural uranium contained enough $^{235}U$ that LWRs could have been built without requiring further enrichment. In fact, evidance shows that cca $1.7 \\times 10^9$ yr ago at certain locations such as in Oklo, Gabon the conditions were ideal for the formation of [natural nuclear fission reactors](https://en.wikipedia.org/wiki/Natural_nuclear_fission_reactor). \n",
    "\n",
    "- Derive the equation that describes the evolution of the enrichment in time. (hint: use markdown and Latex to document your derivation)\n",
    "- Define a program function which evaluates the enrichment at a certain time in the past. The function should be able to handle array-like inputs (hint: you can use numpy). \n",
    "- Evaluate the function and print the enrichment \n",
    "    - at the birth of Earth ($4.5 \\times 10^9$ years ago)\n",
    "    - at the time when the Oklo reactor \"operated\" ($1.7 \\times 10^9$ years ago)\n",
    "- Plot the enrichment of uranium versus time in the past. Include a vertical line (`plt.axvline`) at the two times highlighted above\n"
   ]
  },
  {
   "cell_type": "markdown",
   "metadata": {},
   "source": [
    "### Solution\n",
    "\n",
    "If uranium enrichment is defined as followed\n",
    "\n",
    "\n",
    "\\begin{equation}\n",
    "    \\epsilon = \\frac{N_{235U}}{N_{235U}+N_{238U}}\n",
    "\\end{equation}\n",
    "\n",
    "where N is the amount of the substance. We can introduce the equation\n",
    "\n",
    "\\begin{equation}\n",
    "    N = N_{0}\\frac{1}{2}^{\\frac{t}{T_{1/2}}}\n",
    "\\end{equation}\n",
    "\n",
    "which describes the half-life of a substance. If we combine (1) and (2) we get the following expression\n",
    "\n",
    "\\begin{equation}\n",
    "    \\epsilon = \\frac{N_{0}^{235}\\frac{1}{2}^{\\frac{t}{T_{1/2}^{235}}}}{N_{0}^{235}\\frac{1}{2}^{\\frac{t}{T_{1/2}^{235}}}+N_{0}^{238}\\frac{1}{2}^{\\frac{t}{T_{1/2}^{238}}}}\n",
    "\\end{equation}\n",
    "\n",
    "Let's set our $t=0$ when the uranium enrichment is 0.72\\%. That will lead us to the following relation\n",
    "\n",
    "\\begin{equation}\n",
    "    \\epsilon = \\frac{N_{0}^{235}}{N_{0}^{235}+N_{0}^{238}} = 0.0072\n",
    "    \\iff\n",
    "    100*\\epsilon = \\frac{N_{0}^{235}}{N_{0}^{235}+N_{0}^{238}} = 0.72\n",
    "\\end{equation}\n",
    "\n",
    "from which we can see that\n",
    "\n",
    "\\begin{equation}\n",
    "    0.0072 = \\frac{N_{0}^{235}}{N_{0}^{235}+N_{0}^{238}}\n",
    "    \\iff\n",
    "    N_{0}^{235} = \\frac{0.0072}{99.28}N_{0}^{238}\n",
    "\\end{equation}\n",
    "\n",
    "If we now combine (3) and (5) we get the following\n",
    "\n",
    "\\begin{equation}\n",
    "    \\epsilon = \\frac{0.0072}{99.28}\\frac{N_{0}^{238}\\frac{1}{2}^{\\frac{t}{T_{1/2}^{235}}}}{\\frac{0.0072}{99.28}N_{0}^{238}\\frac{1}{2}^{\\frac{t}{T_{1/2}^{235}}}+N_{0}^{238}\\frac{1}{2}^{\\frac{t}{T_{1/2}^{238}}}}\n",
    "\\end{equation}\n",
    "\n",
    "which will be reduced to\n",
    "\n",
    "\\begin{equation}\n",
    "    \\epsilon = \\frac{0.0072}{99.28}\\frac{\\frac{1}{2}^{\\frac{t}{T_{1/2}^{235}}}}{\\frac{0.0072}{99.28}\\frac{1}{2}^{\\frac{t}{T_{1/2}^{235}}}+\\frac{1}{2}^{\\frac{t}{T_{1/2}^{238}}}}\n",
    "\\end{equation}\n",
    "\n",
    "and if we put in the half-lifes of U235 and U238 and want to display the result as a percentage\n",
    "\n",
    "\\begin{equation}\n",
    "    \\epsilon = 100*\\frac{0.0072}{99.28}\\frac{(\\frac{1}{2})^{\\frac{t}{7.13*10^8}}}{\\frac{0.0072}{99.28}(\\frac{1}{2})^{\\frac{t}{7.13*10^8}}+(\\frac{1}{2})^{\\frac{t}{4.51*10^9}}}\n",
    "\\end{equation}\n",
    "\n",
    "If we evaluate this expression at $t=0$ we get $\\epsilon = 0.00725$ which is approximately the 0.72\\% that we wanted. If we evaluate this expression at $t=-1.7*10^9$ we get $\\epsilon = 0.0289$"
   ]
  },
  {
   "cell_type": "code",
   "execution_count": null,
   "metadata": {},
   "outputs": [],
   "source": [
    "# include your code here\n",
    "\n",
    "def epsilon(t):\n",
    "    \"\"\"Function to evaluate Uranium enrichment at time t. The parameter t can be both float or array.\"\"\"\n",
    "    return eps\n",
    "\n",
    "#do the printing and plotting here"
   ]
  },
  {
   "cell_type": "code",
   "execution_count": null,
   "metadata": {},
   "outputs": [],
   "source": []
  }
 ],
 "metadata": {
  "kernelspec": {
   "display_name": "Python 3",
   "language": "python",
   "name": "python3"
  },
  "language_info": {
   "codemirror_mode": {
    "name": "ipython",
    "version": 3
   },
   "file_extension": ".py",
   "mimetype": "text/x-python",
   "name": "python",
   "nbconvert_exporter": "python",
   "pygments_lexer": "ipython3",
   "version": "3.8.8"
  }
 },
 "nbformat": 4,
 "nbformat_minor": 4
}
