{
 "cells": [
  {
   "cell_type": "markdown",
   "metadata": {},
   "source": [
    "# Home assigment 1\n",
    "\n",
    "Please give your name below:"
   ]
  },
  {
   "cell_type": "code",
   "execution_count": null,
   "metadata": {},
   "outputs": [],
   "source": [
    "name='Hampus Naumanen'"
   ]
  },
  {
   "cell_type": "markdown",
   "metadata": {},
   "source": [
    "## Exercise 1\n",
    "\n",
    "In nature Uranium is commonly available in the form of two isotopes: $^{235}U$ and $^{238}U$. Let us define Uranium enrichment as:\n",
    "\\begin{equation}\n",
    "\\epsilon= \\frac{N_{^{235}U}}{N_{^{235}U}+N_{^{238}U}}\n",
    "\\end{equation}\n",
    "\n",
    "where $N$ indicates the number of atoms in a given volume. The half-lives are $4.51 \\times 10^9$ and $7.13 \\times 10^8$ yr for $^{238}U$ and $^{235}U$, respectively. Today, the natural enrichment is $0.72 \\%$, whereas a typical LWR fuel has an enrichment of $2-5 w\\%$. It is notable that in the past natural uranium contained enough $^{235}U$ that LWRs could have been built without requiring further enrichment. In fact, evidance shows that cca $1.7 \\times 10^9$ yr ago at certain locations such as in Oklo, Gabon the conditions were ideal for the formation of [natural nuclear fission reactors](https://en.wikipedia.org/wiki/Natural_nuclear_fission_reactor). \n",
    "\n",
    "- Derive the equation that describes the evolution of the enrichment in time. (hint: use markdown and Latex to document your derivation)\n",
    "- Define a program function which evaluates the enrichment at a certain time in the past. The function should be able to handle array-like inputs (hint: you can use numpy). \n",
    "- Evaluate the function and print the enrichment \n",
    "    - at the birth of Earth ($4.5 \\times 10^9$ years ago)\n",
    "    - at the time when the Oklo reactor \"operated\" ($1.7 \\times 10^9$ years ago)\n",
    "- Plot the enrichment of uranium versus time in the past. Include a vertical line (`plt.axvline`) at the two times highlighted above\n"
   ]
  },
  {
   "cell_type": "markdown",
   "metadata": {},
   "source": [
    "### Solution\n",
    "\n",
    "If uranium enrichment is defined as followed\n",
    "\n",
    "\n",
    "\\begin{equation}\n",
    "    \\epsilon = \\frac{N_{235U}}{N_{235U}+N_{238U}}\n",
    "\\end{equation}\n",
    "\n",
    "where N is the amount of the substance. We can introduce the equation\n",
    "\n",
    "\\begin{equation}\n",
    "    N = N_{0}\\frac{1}{2}^{\\frac{t}{T_{1/2}}}\n",
    "\\end{equation}\n",
    "\n",
    "which describes the half-life of a substance. If we combine (1) and (2) we get the following expression\n",
    "\n",
    "\\begin{equation}\n",
    "    \\epsilon = \\frac{N_{0}^{235}\\frac{1}{2}^{\\frac{t}{T_{1/2}^{235}}}}{N_{0}^{235}\\frac{1}{2}^{\\frac{t}{T_{1/2}^{235}}}+N_{0}^{238}\\frac{1}{2}^{\\frac{t}{T_{1/2}^{238}}}}\n",
    "\\end{equation}\n",
    "\n",
    "Let's set our $t=0$ when the uranium enrichment is 0.72\\%. That will lead us to the following relation\n",
    "\n",
    "\\begin{equation}\n",
    "    \\epsilon = \\frac{N_{0}^{235}}{N_{0}^{235}+N_{0}^{238}} = 0.0072\n",
    "    \\iff\n",
    "    100*\\epsilon = \\frac{N_{0}^{235}}{N_{0}^{235}+N_{0}^{238}} = 0.72\n",
    "\\end{equation}\n",
    "\n",
    "from which we can see that\n",
    "\n",
    "\\begin{equation}\n",
    "    0.0072 = \\frac{N_{0}^{235}}{N_{0}^{235}+N_{0}^{238}}\n",
    "    \\iff\n",
    "    N_{0}^{235} = \\frac{0.0072}{99.28}N_{0}^{238}\n",
    "\\end{equation}\n",
    "\n",
    "If we now combine (3) and (5) we get the following\n",
    "\n",
    "\\begin{equation}\n",
    "    \\epsilon = \\frac{0.0072}{99.28}\\frac{N_{0}^{238}\\frac{1}{2}^{\\frac{t}{T_{1/2}^{235}}}}{\\frac{0.0072}{99.28}N_{0}^{238}\\frac{1}{2}^{\\frac{t}{T_{1/2}^{235}}}+N_{0}^{238}\\frac{1}{2}^{\\frac{t}{T_{1/2}^{238}}}}\n",
    "\\end{equation}\n",
    "\n",
    "which will be reduced to\n",
    "\n",
    "\\begin{equation}\n",
    "    \\epsilon = \\frac{0.0072}{99.28}\\frac{\\frac{1}{2}^{\\frac{t}{T_{1/2}^{235}}}}{\\frac{0.0072}{99.28}\\frac{1}{2}^{\\frac{t}{T_{1/2}^{235}}}+\\frac{1}{2}^{\\frac{t}{T_{1/2}^{238}}}}\n",
    "\\end{equation}\n",
    "\n",
    "and if we put in the half-lifes of U235 and U238 and want to display the result as a percentage\n",
    "\n",
    "\\begin{equation}\n",
    "    \\epsilon = 100*\\frac{0.0072}{99.28}\\frac{(\\frac{1}{2})^{\\frac{t}{7.13*10^8}}}{\\frac{0.0072}{99.28}(\\frac{1}{2})^{\\frac{t}{7.13*10^8}}+(\\frac{1}{2})^{\\frac{t}{4.51*10^9}}}\n",
    "\\end{equation}\n",
    "\n",
    "If we evaluate this expression at $t=0$ we get $\\epsilon = 0.00725$ which is approximately the 0.72\\% that we wanted. If we evaluate this expression at $t=-1.7*10^9$ we get $\\epsilon = 0.0289$ which would be almost 3\\%"
   ]
  },
  {
   "cell_type": "code",
   "execution_count": 2,
   "metadata": {},
   "outputs": [
    {
     "name": "stdout",
     "output_type": "stream",
     "text": [
      "Enrichment at the beginning of earth:  0.2875850117382214\n",
      "Enrichment at Okla:  0.029148563716474857\n"
     ]
    },
    {
     "data": {
      "image/png": "[encoded data removed]",
      "text/plain": [
       "<Figure size 432x288 with 1 Axes>"
      ]
     },
     "metadata": {
      "needs_background": "light"
     },
     "output_type": "display_data"
    }
   ],
   "source": [
    "# -*- coding: utf-8 -*-\n",
    "\"\"\"\n",
    "Created on Mon Jun 21 21:01:55 2021\n",
    "\n",
    "@author: Hampus\n",
    "\"\"\"\n",
    "\n",
    "import numpy as np\n",
    "import matplotlib.pyplot as plt\n",
    "\n",
    "def epsilon(t):\n",
    "    \"\"\"Function to evaluate Uranium enrichment at time t. The parameter t can be both float or array.\"\"\"\n",
    "    const = 0.0072/99.28\n",
    "    halfLifeU235 = 7.13*10**8\n",
    "    halfLifeU238 = 4.51*10**9\n",
    "    upper_eps = 100*const*(1/2)**(t/halfLifeU235)\n",
    "    lower_eps = const*(1/2)**(t/halfLifeU235) + (1/2)**(t/halfLifeU238)\n",
    "    \n",
    "    eps = upper_eps/lower_eps\n",
    "    return eps\n",
    "\n",
    "def main():\n",
    "    print('Enrichment at the beginning of earth: ', epsilon(-4.5*10**9))\n",
    "    print('Enrichment at Okla: ', epsilon(-1.7*10**9))\n",
    "\n",
    "\n",
    "    a = np.linspace(-4.5*10**9, 0, num=20)\n",
    "    \n",
    "    b = epsilon(a)\n",
    "    \n",
    "    #print(b)\n",
    "    \n",
    "    fig = plt.figure()\n",
    "    plt.plot(a,b, 'ro')\n",
    "    plt.axvline(-4.5*10**9)\n",
    "    plt.axvline(-1.7*10**9)\n",
    "    plt.ylabel('Enrichment')\n",
    "    plt.xlabel('Time')\n",
    "    plt.annotate(r'$-1.7x10^9$',(-1.6*10**9,0.15))\n",
    "    plt.annotate(r'$-4.5x10^9$',(-4.4*10**9,0.10))\n",
    "    plt.show()\n",
    "    \n",
    "if __name__ == \"__main__\":\n",
    "    main()"
   ]
  },
  {
   "cell_type": "code",
   "execution_count": null,
   "metadata": {},
   "outputs": [],
   "source": []
  }
 ],
 "metadata": {
  "kernelspec": {
   "display_name": "Python 3",
   "language": "python",
   "name": "python3"
  },
  "language_info": {
   "codemirror_mode": {
    "name": "ipython",
    "version": 3
   },
   "file_extension": ".py",
   "mimetype": "text/x-python",
   "name": "python",
   "nbconvert_exporter": "python",
   "pygments_lexer": "ipython3",
   "version": "3.8.8"
  }
 },
 "nbformat": 4,
 "nbformat_minor": 4
}
