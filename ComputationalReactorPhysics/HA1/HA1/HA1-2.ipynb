{
 "cells": [
  {
   "cell_type": "markdown",
   "metadata": {},
   "source": [
    "# Home assigment 1\n",
    "\n",
    "Please give your name below:"
   ]
  },
  {
   "cell_type": "code",
   "execution_count": null,
   "metadata": {},
   "outputs": [],
   "source": [
    "name=''"
   ]
  },
  {
   "cell_type": "markdown",
   "metadata": {},
   "source": [
    "## Exercise 2\n",
    "\n",
    "When you enter a nuclear physics lab, you often find a nice [nuclide chart](https://en.wikipedia.org/wiki/Table_of_nuclides) on the wall. Now we will try to make our own, where we color the nuclides according to the average binding energy of the nuclides.\n",
    "\n",
    "Along this home assignment you find a file called 'HA1-relmass.txt' (downloaded from https://www.nist.gov/pml/atomic-weights-and-isotopic-compositions-relative-atomic-masses\n",
    "). This contains a list of several nuclides in the following format:\n",
    "\n",
    "```\n",
    "    Atomic Number = 1\n",
    "    Atomic Symbol = H\n",
    "    Mass Number = 1\n",
    "    Relative Atomic Mass = 1.00782503223(9)\n",
    "    Isotopic Composition = 0.999885(70)\n",
    "    Standard Atomic Weight = [1.00784,1.00811]\n",
    "    Notes = m\n",
    "```\n",
    "\n",
    "Your task is going to be to \n",
    "\n",
    "- extract the information from the file 'HA1-relmass.txt' with python. Your interest will be the atomic number, symbol, mass number and relative atomic mass. Arrange the data into a dictionary of dictionaries, where the keys of the main dictionary are formatted as `symbolA` (eg. `H1`,`U235`), and the keys of the subdictionaries are `Z`, `A`, `m`). Thus the dictionary will look like:\n",
    "\n",
    "```\n",
    "    isotopes={'H1': {'Z': 1,'A': 1,'m': 1.00782503223},\n",
    "              'D2': {'Z': 1,'A': 2,'m': 2.01410177812}\n",
    "               ...}\n",
    "```\n",
    "\n",
    "- During the datalab you have written a function to calculate the average binding energy per nucleon. Use this function to calculate the binding energy of each nuclide, and include this information as another entry with key `'eps'` in the subdictionaries.\n",
    "\n",
    "```\n",
    "    isotopes={...,\n",
    "              'D2': {'Z': 1,'A': 2,'m': 2.01410177812, 'eps': 1.1122897908460128},\n",
    "               ...}\n",
    "```\n",
    "\n",
    "- Find out which nuclide has the highest binding energy per nucleon.\n",
    "- Create a 2D numpy array called `NZ` which has 119 rows (the highest atomic number) and 178 columns (the highest neutron number). Fill it up with the binding energy per nucleon value.\n",
    "- Plot the content of `NZ` with `plt.imshow()`. (hint: for N-Z pairs for which no known nuclide exists you probably allocated 0.0 as the binding energy. The default colormap of matplotlib will color these values as blue. If you want these values to be colored white you can convert all 0.0 values to `np.nan`.)"
   ]
  },
  {
   "cell_type": "code",
   "execution_count": null,
   "metadata": {},
   "outputs": [],
   "source": [
    "# write your solution here"
   ]
  }
 ],
 "metadata": {
  "kernelspec": {
   "display_name": "Python 3",
   "language": "python",
   "name": "python3"
  },
  "language_info": {
   "codemirror_mode": {
    "name": "ipython",
    "version": 3
   },
   "file_extension": ".py",
   "mimetype": "text/x-python",
   "name": "python",
   "nbconvert_exporter": "python",
   "pygments_lexer": "ipython3",
   "version": "3.7.3"
  }
 },
 "nbformat": 4,
 "nbformat_minor": 4
}
